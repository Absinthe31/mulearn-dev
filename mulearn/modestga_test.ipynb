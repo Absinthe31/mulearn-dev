{
 "cells": [
  {
   "cell_type": "code",
   "execution_count": 2,
   "id": "1d470016-3c14-4ddd-af03-66b8a1833502",
   "metadata": {},
   "outputs": [],
   "source": [
    "import random\n",
    "import numpy as np\n",
    "from modestga import minimize\n",
    "from modestga import con_minimize"
   ]
  },
  {
   "cell_type": "code",
   "execution_count": 3,
   "id": "70ad0c0d-1e40-4db8-b7e9-6ed58c5079e2",
   "metadata": {},
   "outputs": [],
   "source": [
    "import numpy as np\n",
    "import time\n",
    "import copy\n",
    "import random\n",
    "from importlib import reload\n",
    "import pandas as pd"
   ]
  },
  {
   "cell_type": "code",
   "execution_count": 4,
   "id": "2278046c-b4db-4ca1-8716-e14667d3ff17",
   "metadata": {},
   "outputs": [
    {
     "name": "stderr",
     "output_type": "stream",
     "text": [
      "tensorflow not available\n",
      "tensorflow not available\n"
     ]
    }
   ],
   "source": [
    "import __init__\n",
    "import distributions\n",
    "import kernel\n",
    "import fuzzifier\n",
    "import optimization\n",
    "\n",
    "reload(__init__)\n",
    "reload(distributions)\n",
    "reload(kernel)\n",
    "reload(fuzzifier)\n",
    "reload(optimization)\n",
    "\n",
    "from __init__ import *\n",
    "from distributions import *\n",
    "from kernel import *\n",
    "from fuzzifier import *\n",
    "from optimization import *"
   ]
  },
  {
   "cell_type": "code",
   "execution_count": 5,
   "id": "e32a19bf-8f02-42d0-831d-51a8f80fecea",
   "metadata": {},
   "outputs": [],
   "source": [
    "def generate_dataset(n_samples=10, n_features=1):\n",
    "\n",
    "    #random.seed(42)\n",
    "    \n",
    "    X = np.zeros((n_samples, n_features))\n",
    "\n",
    "    for elem in range(n_samples):\n",
    "        for dim in range(n_features):\n",
    "            X[elem][dim] = random.uniform(0,1)\n",
    "\n",
    "    gaussian = lambda x,var : (np.e ** (-(((x-0.5)*2)**2)/(2*var)))\n",
    "\n",
    "    y = np.zeros(n_samples)\n",
    "    \n",
    "    for elem in range(n_samples):\n",
    "        y[elem] = 1\n",
    "        for dim in range(n_features):\n",
    "            y[elem] *= gaussian(X[elem][dim], np.var([X[j][dim] for j in range(n_samples)]))\n",
    "                          \n",
    "    return X,y"
   ]
  },
  {
   "cell_type": "code",
   "execution_count": 10,
   "id": "29e05268-3471-43b4-9e05-3e546ccd7425",
   "metadata": {},
   "outputs": [
    {
     "name": "stdout",
     "output_type": "stream",
     "text": [
      "time: 0.08s\n"
     ]
    }
   ],
   "source": [
    "X, mus = generate_dataset(1000)\n",
    "C = 1\n",
    "\n",
    "kern = kernel.GaussianKernel()\n",
    "s = time.time()\n",
    "k = np.array([kern.compute(x1, X) for x1 in X])\n",
    "print('time: {:.2f}s'.format(time.time() - s))"
   ]
  },
  {
   "cell_type": "code",
   "execution_count": 11,
   "id": "ff92a717-e248-464d-bafd-0bc6ece7233e",
   "metadata": {
    "scrolled": true
   },
   "outputs": [
    {
     "name": "stdout",
     "output_type": "stream",
     "text": [
      "gurobi start\n",
      "genetic start\n"
     ]
    }
   ],
   "source": [
    "print(\"gurobi start\")\n",
    "s = time.time()\n",
    "solver = GurobiSolver(adjustment='auto')\n",
    "res_gurobi = np.array(solver.solve(X, mus, C, k))\n",
    "time_gurobi = time.time() - s\n",
    "\n",
    "def fun(x, k):\n",
    "    return -x.dot(np.diag(k,0)) + x.dot(k.dot(x)) \n",
    "bounds = [(-C*(1-mu) , (C*mu)) for mu in mus]\n",
    "def constr1(x, k):\n",
    "    return np.sum(x) - 1  \n",
    "def constr2(x, k):\n",
    "    return -np.sum(x) + 1 \n",
    "constr = (constr1, constr2)\n",
    "options = {\"generations\": 1000, \"pop_size\": 1600, \"tol\": 1e-2, \n",
    "           \"mut_rate\": 0.05, \"xover_ratio\": 0.5, \"trm_size\": 20}\n",
    "print(\"genetic start\")\n",
    "s = time.time()\n",
    "res = con_minimize(fun, bounds, constr=constr, args=[k], options=options, workers=10)\n",
    "time_genetic = time.time() - s\n",
    "res_genetic = res.x"
   ]
  },
  {
   "cell_type": "code",
   "execution_count": 12,
   "id": "aa60569a-fd33-4fd4-9e49-db928aa3c53d",
   "metadata": {},
   "outputs": [
    {
     "name": "stdout",
     "output_type": "stream",
     "text": [
      "dataset shape:  (1000, 1)\n",
      "\n",
      "genetic result:  -0.3800023907417176\n",
      "        constraints:  -0.24675099241530596 0.24675099241530596\n",
      "        time: 217.23s\n",
      "        message:  Solution improvement below tolerance for 100 generations\n",
      "\n",
      "gurobi result:  -0.377312850519139\n",
      "       constraints:  -5.1958437552457326e-14 5.1958437552457326e-14\n",
      "       time: 2.86s\n"
     ]
    }
   ],
   "source": [
    "print('dataset shape: ', X.shape)\n",
    "print()\n",
    "\n",
    "print(\"genetic result: \", fun(res_genetic,k))\n",
    "print(\"        constraints: \", constr1(res_genetic,k), constr2(res_genetic,k))\n",
    "print('        time: {:.2f}s'.format(time_genetic))\n",
    "print('        message: ', res.message)\n",
    "\n",
    "print()\n",
    "\n",
    "print(\"gurobi result: \", fun(res_gurobi,k))\n",
    "print(\"       constraints: \", constr1(res_gurobi,k), constr2(res_gurobi,k))\n",
    "print('       time: {:.2f}s'.format(time_gurobi))"
   ]
  },
  {
   "cell_type": "code",
   "execution_count": 13,
   "id": "648bc2de-362c-4aff-83bb-e6dfb58a79d6",
   "metadata": {},
   "outputs": [
    {
     "data": {
      "text/plain": [
       "28"
      ]
     },
     "execution_count": 13,
     "metadata": {},
     "output_type": "execute_result"
    }
   ],
   "source": [
    "len(mus) - np.sum([-C*(1-mu) <= x <= (C*mu) for x,mu in zip(res_genetic,mus)])"
   ]
  },
  {
   "cell_type": "code",
   "execution_count": 14,
   "id": "518de16e-06a5-4513-ac4b-312837d85470",
   "metadata": {},
   "outputs": [
    {
     "data": {
      "text/plain": [
       "0"
      ]
     },
     "execution_count": 14,
     "metadata": {},
     "output_type": "execute_result"
    }
   ],
   "source": [
    "len(mus) - np.sum([-C*(1-mu) <= x <= (C*mu) for x,mu in zip(res_gurobi,mus)])"
   ]
  }
 ],
 "metadata": {
  "kernelspec": {
   "display_name": "testing_env",
   "language": "python",
   "name": "testing_env"
  },
  "language_info": {
   "codemirror_mode": {
    "name": "ipython",
    "version": 3
   },
   "file_extension": ".py",
   "mimetype": "text/x-python",
   "name": "python",
   "nbconvert_exporter": "python",
   "pygments_lexer": "ipython3",
   "version": "3.11.5"
  }
 },
 "nbformat": 4,
 "nbformat_minor": 5
}
