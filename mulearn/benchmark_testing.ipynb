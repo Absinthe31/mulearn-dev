{
 "cells": [
  {
   "cell_type": "code",
   "execution_count": 58,
   "id": "eebcda34-2b99-4e18-b329-e6f3c7a2d4ec",
   "metadata": {},
   "outputs": [],
   "source": [
    "import numpy as np\n",
    "import sklearn\n",
    "import matplotlib.pyplot as plt\n",
    "import random\n",
    "import fknn\n",
    "from fknn import FuzzyKNN\n",
    "from fcmeans import FCM\n",
    "from sklearn.svm import SVC, SVR\n",
    "from sklearn.model_selection import GridSearchCV\n",
    "from sklearn.datasets import load_breast_cancer\n",
    "from sklearn.model_selection import train_test_split, KFold, StratifiedKFold\n",
    "from sklearn.metrics import accuracy_score\n",
    "from sklearn.model_selection import ParameterGrid\n",
    "from joblib import Parallel, delayed\n",
    "import logging\n",
    "import json\n",
    "from logging import FileHandler\n",
    "import cloudpickle\n",
    "import sys\n",
    "import tqdm\n",
    "from PIL import Image\n",
    "import hashlib\n",
    "import time\n",
    "import os\n",
    "\n",
    "import warnings\n",
    "warnings.simplefilter(action='ignore', category=FutureWarning)\n",
    "import pandas as pd\n",
    "\n",
    "\n",
    "#general testing functions for synthetic datasets\n",
    "def gaussian(x, var):\n",
    "    y = (np.e ** (-(((x-0.5)*2)**2)/(2*var)))\n",
    "    return y\n",
    "\n",
    "trapezoidal = lambda x: (2.3*x if x < 0.5 else -2.3*x+2.3) if (2.3*x if x < 0.5 else -2.3*x+2.3) < 1 else 1\n",
    "\n",
    "X_test = np.linspace(0, 1, 1000)\n",
    "X_test_g = np.array([x for x in X_test if (gaussian(x, np.var(X_test)) <= 0.1 or gaussian(x, np.var(X_test)) >= 0.9)])\n",
    "X_test_t = np.array([x for x in X_test if (trapezoidal(x) <= 0.1 or trapezoidal(x) >= 0.9)])\n",
    "X_test2_g = [np.array([x for x in X_test_g if x<0.2]),np.array([x for x in X_test_g if (x>=0.2 and x<0.8)]),np.array([x for x in X_test_g if x>0.8])]\n",
    "X_test2_t = [np.array([x for x in X_test_t if x<0.2]),np.array([x for x in X_test_t if (x>=0.2 and x<0.8)]),np.array([x for x in X_test_t if x>0.8])]\n",
    "X_test2 = [np.array([x for x in X_test if x<0.2]),np.array([x for x in X_test if (x>=0.2 and x<0.8)]),np.array([x for x in X_test if x>0.8])]\n",
    "step = (X_test2[0][-1]-X_test2[0][0])/(len(X_test2[0])-1)\n",
    "\n",
    "\n",
    "digit = 9"
   ]
  },
  {
   "cell_type": "markdown",
   "id": "9dccf44b-fe68-43c6-8c89-0726944b7a1f",
   "metadata": {
    "jp-MarkdownHeadingCollapsed": true
   },
   "source": [
    "# MNIST datasets generation"
   ]
  },
  {
   "cell_type": "code",
   "execution_count": 13,
   "id": "93ac5f9f-c502-45e8-b319-697ab179d940",
   "metadata": {},
   "outputs": [],
   "source": [
    "import numpy as np # linear algebra\n",
    "import struct\n",
    "from array import array\n",
    "from os.path  import join\n",
    "\n",
    "class MnistDataloader(object):\n",
    "    def __init__(self, training_images_filepath,training_labels_filepath,\n",
    "                 test_images_filepath, test_labels_filepath):\n",
    "        self.training_images_filepath = training_images_filepath\n",
    "        self.training_labels_filepath = training_labels_filepath\n",
    "        self.test_images_filepath = test_images_filepath\n",
    "        self.test_labels_filepath = test_labels_filepath\n",
    "    \n",
    "    def read_images_labels(self, images_filepath, labels_filepath):        \n",
    "        labels = []\n",
    "        with open(labels_filepath, 'rb') as file:\n",
    "            magic, size = struct.unpack(\">II\", file.read(8))\n",
    "            if magic != 2049:\n",
    "                raise ValueError('Magic number mismatch, expected 2049, got {}'.format(magic))\n",
    "            labels = array(\"B\", file.read())        \n",
    "        \n",
    "        with open(images_filepath, 'rb') as file:\n",
    "            magic, size, rows, cols = struct.unpack(\">IIII\", file.read(16))\n",
    "            if magic != 2051:\n",
    "                raise ValueError('Magic number mismatch, expected 2051, got {}'.format(magic))\n",
    "            image_data = array(\"B\", file.read())        \n",
    "        images = []\n",
    "        for i in range(size):\n",
    "            images.append([0] * rows * cols)\n",
    "        for i in range(size):\n",
    "            img = np.array(image_data[i * rows * cols:(i + 1) * rows * cols])\n",
    "            img = img.reshape(28, 28)\n",
    "            images[i][:] = img            \n",
    "        \n",
    "        return images, labels\n",
    "            \n",
    "    def load_data(self):\n",
    "        x_train, y_train = self.read_images_labels(self.training_images_filepath, self.training_labels_filepath)\n",
    "        x_test, y_test = self.read_images_labels(self.test_images_filepath, self.test_labels_filepath)\n",
    "        return (x_train, y_train),(x_test, y_test)"
   ]
  },
  {
   "cell_type": "code",
   "execution_count": 14,
   "id": "fe2a36aa-a956-460d-9eaa-e9b4128b97a9",
   "metadata": {},
   "outputs": [],
   "source": [
    "input_path = './datasets/MNIST/mnist/'\n",
    "training_images_filepath = join(input_path, 'train-images-idx3-ubyte/train-images-idx3-ubyte')\n",
    "training_labels_filepath = join(input_path, 'train-labels-idx1-ubyte/train-labels-idx1-ubyte')\n",
    "test_images_filepath = join(input_path, 't10k-images-idx3-ubyte/t10k-images-idx3-ubyte')\n",
    "test_labels_filepath = join(input_path, 't10k-labels-idx1-ubyte/t10k-labels-idx1-ubyte')"
   ]
  },
  {
   "cell_type": "code",
   "execution_count": 166,
   "id": "f526390a-363f-4d29-9b6d-6369504d963a",
   "metadata": {},
   "outputs": [],
   "source": [
    "mnist_dataloader = MnistDataloader(training_images_filepath, training_labels_filepath, test_images_filepath, test_labels_filepath)\n",
    "(X_train, y_train), (X_test, y_test) = mnist_dataloader.load_data()"
   ]
  },
  {
   "cell_type": "code",
   "execution_count": 167,
   "id": "0ea5adc8-c25b-49d3-8c70-7812c80ca608",
   "metadata": {},
   "outputs": [],
   "source": [
    "X_train, y_train, X_test, y_test = np.array(X_train), np.array(y_train), np.array(X_test), np.array(y_test)"
   ]
  },
  {
   "cell_type": "code",
   "execution_count": 168,
   "id": "ed3aa206-933f-4931-966f-f188e8a9149c",
   "metadata": {},
   "outputs": [],
   "source": [
    "X = np.append(X_train, X_test, axis=0)\n",
    "Y = np.append(y_train, y_test, axis=0)"
   ]
  },
  {
   "cell_type": "code",
   "execution_count": 157,
   "id": "cdb37d96-efd1-45be-b7a0-e0f8b1ef5199",
   "metadata": {},
   "outputs": [],
   "source": [
    "random.seed(42)\n",
    "sample_train_5 = random.sample([x[0] for x in list(enumerate(Y)) if x[1] == 1], 500)\n",
    "sample_train_rest = random.sample([x[0] for x in list(enumerate(Y)) if x[1] != 1], 500)\n",
    "sample_train = sample_train_5 + sample_train_rest\n",
    "random.shuffle(sample_train)"
   ]
  },
  {
   "cell_type": "code",
   "execution_count": 158,
   "id": "92df7121-9fd4-4c74-8bb7-2b4a62194651",
   "metadata": {},
   "outputs": [],
   "source": [
    "X_train = X[sample_train]\n",
    "y_train = Y[sample_train]\n",
    "X_test = np.delete(X, sample_train, axis=0)\n",
    "y_test = np.delete(Y, sample_train, axis=0)"
   ]
  },
  {
   "cell_type": "code",
   "execution_count": 159,
   "id": "85526060-e794-4f27-9f3d-6612c73634ff",
   "metadata": {},
   "outputs": [],
   "source": [
    "X_train = np.array([x.flatten() for x in X_train])\n",
    "X_test = np.array([x.flatten() for x in X_test])"
   ]
  },
  {
   "cell_type": "code",
   "execution_count": 160,
   "id": "f2fa087e-26f3-4274-9434-d96af8f22838",
   "metadata": {},
   "outputs": [],
   "source": [
    "y_train = np.array([(0 if x != 1 else 1) for x in y_train])\n",
    "y_test = np.array([(0 if x != 1 else 1) for x in y_test])"
   ]
  },
  {
   "cell_type": "code",
   "execution_count": 161,
   "id": "b1a634fa-7c74-46b1-9af5-7d7f3d81e3d2",
   "metadata": {},
   "outputs": [
    {
     "data": {
      "text/plain": [
       "69000"
      ]
     },
     "execution_count": 161,
     "metadata": {},
     "output_type": "execute_result"
    }
   ],
   "source": [
    "len(X_test)"
   ]
  },
  {
   "cell_type": "code",
   "execution_count": 162,
   "id": "cf86d231-8ab8-4016-9f3a-7c6c09e8f123",
   "metadata": {},
   "outputs": [],
   "source": [
    "dataset = pd.DataFrame(columns=['X_train', 'X_test', 'y_train', 'y_test'])"
   ]
  },
  {
   "cell_type": "code",
   "execution_count": 163,
   "id": "750ba9bb-d41c-4981-8ee7-7639908ef6c5",
   "metadata": {},
   "outputs": [],
   "source": [
    "dataset.X_test = pd.Series(X_test.tolist())\n",
    "dataset.y_test = pd.Series(y_test)\n",
    "dataset.X_train = pd.Series(X_train.tolist())\n",
    "dataset.y_train = pd.Series(y_train)"
   ]
  },
  {
   "cell_type": "code",
   "execution_count": 164,
   "id": "dce39e7c-ebe9-4f3f-bab6-699145f16a28",
   "metadata": {},
   "outputs": [
    {
     "data": {
      "text/html": [
       "<div>\n",
       "<style scoped>\n",
       "    .dataframe tbody tr th:only-of-type {\n",
       "        vertical-align: middle;\n",
       "    }\n",
       "\n",
       "    .dataframe tbody tr th {\n",
       "        vertical-align: top;\n",
       "    }\n",
       "\n",
       "    .dataframe thead th {\n",
       "        text-align: right;\n",
       "    }\n",
       "</style>\n",
       "<table border=\"1\" class=\"dataframe\">\n",
       "  <thead>\n",
       "    <tr style=\"text-align: right;\">\n",
       "      <th></th>\n",
       "      <th>X_train</th>\n",
       "      <th>X_test</th>\n",
       "      <th>y_train</th>\n",
       "      <th>y_test</th>\n",
       "    </tr>\n",
       "  </thead>\n",
       "  <tbody>\n",
       "    <tr>\n",
       "      <th>0</th>\n",
       "      <td>[0, 0, 0, 0, 0, 0, 0, 0, 0, 0, 0, 0, 0, 0, 0, ...</td>\n",
       "      <td>[0, 0, 0, 0, 0, 0, 0, 0, 0, 0, 0, 0, 0, 0, 0, ...</td>\n",
       "      <td>0.0</td>\n",
       "      <td>0</td>\n",
       "    </tr>\n",
       "    <tr>\n",
       "      <th>1</th>\n",
       "      <td>[0, 0, 0, 0, 0, 0, 0, 0, 0, 0, 0, 0, 0, 0, 0, ...</td>\n",
       "      <td>[0, 0, 0, 0, 0, 0, 0, 0, 0, 0, 0, 0, 0, 0, 0, ...</td>\n",
       "      <td>1.0</td>\n",
       "      <td>0</td>\n",
       "    </tr>\n",
       "    <tr>\n",
       "      <th>2</th>\n",
       "      <td>[0, 0, 0, 0, 0, 0, 0, 0, 0, 0, 0, 0, 0, 0, 0, ...</td>\n",
       "      <td>[0, 0, 0, 0, 0, 0, 0, 0, 0, 0, 0, 0, 0, 0, 0, ...</td>\n",
       "      <td>1.0</td>\n",
       "      <td>0</td>\n",
       "    </tr>\n",
       "    <tr>\n",
       "      <th>3</th>\n",
       "      <td>[0, 0, 0, 0, 0, 0, 0, 0, 0, 0, 0, 0, 0, 0, 0, ...</td>\n",
       "      <td>[0, 0, 0, 0, 0, 0, 0, 0, 0, 0, 0, 0, 0, 0, 0, ...</td>\n",
       "      <td>0.0</td>\n",
       "      <td>0</td>\n",
       "    </tr>\n",
       "    <tr>\n",
       "      <th>4</th>\n",
       "      <td>[0, 0, 0, 0, 0, 0, 0, 0, 0, 0, 0, 0, 0, 0, 0, ...</td>\n",
       "      <td>[0, 0, 0, 0, 0, 0, 0, 0, 0, 0, 0, 0, 0, 0, 0, ...</td>\n",
       "      <td>0.0</td>\n",
       "      <td>1</td>\n",
       "    </tr>\n",
       "    <tr>\n",
       "      <th>...</th>\n",
       "      <td>...</td>\n",
       "      <td>...</td>\n",
       "      <td>...</td>\n",
       "      <td>...</td>\n",
       "    </tr>\n",
       "    <tr>\n",
       "      <th>68995</th>\n",
       "      <td>NaN</td>\n",
       "      <td>[0, 0, 0, 0, 0, 0, 0, 0, 0, 0, 0, 0, 0, 0, 0, ...</td>\n",
       "      <td>NaN</td>\n",
       "      <td>0</td>\n",
       "    </tr>\n",
       "    <tr>\n",
       "      <th>68996</th>\n",
       "      <td>NaN</td>\n",
       "      <td>[0, 0, 0, 0, 0, 0, 0, 0, 0, 0, 0, 0, 0, 0, 0, ...</td>\n",
       "      <td>NaN</td>\n",
       "      <td>0</td>\n",
       "    </tr>\n",
       "    <tr>\n",
       "      <th>68997</th>\n",
       "      <td>NaN</td>\n",
       "      <td>[0, 0, 0, 0, 0, 0, 0, 0, 0, 0, 0, 0, 0, 0, 0, ...</td>\n",
       "      <td>NaN</td>\n",
       "      <td>0</td>\n",
       "    </tr>\n",
       "    <tr>\n",
       "      <th>68998</th>\n",
       "      <td>NaN</td>\n",
       "      <td>[0, 0, 0, 0, 0, 0, 0, 0, 0, 0, 0, 0, 0, 0, 0, ...</td>\n",
       "      <td>NaN</td>\n",
       "      <td>0</td>\n",
       "    </tr>\n",
       "    <tr>\n",
       "      <th>68999</th>\n",
       "      <td>NaN</td>\n",
       "      <td>[0, 0, 0, 0, 0, 0, 0, 0, 0, 0, 0, 0, 0, 0, 0, ...</td>\n",
       "      <td>NaN</td>\n",
       "      <td>0</td>\n",
       "    </tr>\n",
       "  </tbody>\n",
       "</table>\n",
       "<p>69000 rows × 4 columns</p>\n",
       "</div>"
      ],
      "text/plain": [
       "                                                 X_train  \\\n",
       "0      [0, 0, 0, 0, 0, 0, 0, 0, 0, 0, 0, 0, 0, 0, 0, ...   \n",
       "1      [0, 0, 0, 0, 0, 0, 0, 0, 0, 0, 0, 0, 0, 0, 0, ...   \n",
       "2      [0, 0, 0, 0, 0, 0, 0, 0, 0, 0, 0, 0, 0, 0, 0, ...   \n",
       "3      [0, 0, 0, 0, 0, 0, 0, 0, 0, 0, 0, 0, 0, 0, 0, ...   \n",
       "4      [0, 0, 0, 0, 0, 0, 0, 0, 0, 0, 0, 0, 0, 0, 0, ...   \n",
       "...                                                  ...   \n",
       "68995                                                NaN   \n",
       "68996                                                NaN   \n",
       "68997                                                NaN   \n",
       "68998                                                NaN   \n",
       "68999                                                NaN   \n",
       "\n",
       "                                                  X_test  y_train  y_test  \n",
       "0      [0, 0, 0, 0, 0, 0, 0, 0, 0, 0, 0, 0, 0, 0, 0, ...      0.0       0  \n",
       "1      [0, 0, 0, 0, 0, 0, 0, 0, 0, 0, 0, 0, 0, 0, 0, ...      1.0       0  \n",
       "2      [0, 0, 0, 0, 0, 0, 0, 0, 0, 0, 0, 0, 0, 0, 0, ...      1.0       0  \n",
       "3      [0, 0, 0, 0, 0, 0, 0, 0, 0, 0, 0, 0, 0, 0, 0, ...      0.0       0  \n",
       "4      [0, 0, 0, 0, 0, 0, 0, 0, 0, 0, 0, 0, 0, 0, 0, ...      0.0       1  \n",
       "...                                                  ...      ...     ...  \n",
       "68995  [0, 0, 0, 0, 0, 0, 0, 0, 0, 0, 0, 0, 0, 0, 0, ...      NaN       0  \n",
       "68996  [0, 0, 0, 0, 0, 0, 0, 0, 0, 0, 0, 0, 0, 0, 0, ...      NaN       0  \n",
       "68997  [0, 0, 0, 0, 0, 0, 0, 0, 0, 0, 0, 0, 0, 0, 0, ...      NaN       0  \n",
       "68998  [0, 0, 0, 0, 0, 0, 0, 0, 0, 0, 0, 0, 0, 0, 0, ...      NaN       0  \n",
       "68999  [0, 0, 0, 0, 0, 0, 0, 0, 0, 0, 0, 0, 0, 0, 0, ...      NaN       0  \n",
       "\n",
       "[69000 rows x 4 columns]"
      ]
     },
     "execution_count": 164,
     "metadata": {},
     "output_type": "execute_result"
    }
   ],
   "source": [
    "dataset"
   ]
  },
  {
   "cell_type": "code",
   "execution_count": 165,
   "id": "085f39e8-a2ba-4fd8-91ac-e61453ca8f49",
   "metadata": {},
   "outputs": [],
   "source": [
    "dataset.to_json(\"./datasets/MNIST/mnist_full.json\")"
   ]
  },
  {
   "cell_type": "code",
   "execution_count": 166,
   "id": "5f70a3a5-59e8-455d-a67d-4c49dc256ae3",
   "metadata": {},
   "outputs": [],
   "source": [
    "mnist_dataloader = MnistDataloader(training_images_filepath, training_labels_filepath, test_images_filepath, test_labels_filepath)\n",
    "(X_train, y_train), (X_test, y_test) = mnist_dataloader.load_data()"
   ]
  },
  {
   "cell_type": "code",
   "execution_count": 167,
   "id": "6370a40e-6732-4dc0-989b-57c26129f1f9",
   "metadata": {},
   "outputs": [],
   "source": [
    "X_train, y_train, X_test, y_test = np.array(X_train), np.array(y_train), np.array(X_test), np.array(y_test)"
   ]
  },
  {
   "cell_type": "code",
   "execution_count": 168,
   "id": "b111f890-fbbb-4817-9a5d-acd9fd25b116",
   "metadata": {},
   "outputs": [],
   "source": [
    "X = np.append(X_train, X_test, axis=0)\n",
    "Y = np.append(y_train, y_test, axis=0)"
   ]
  },
  {
   "cell_type": "code",
   "execution_count": 173,
   "id": "c1797700-1b8c-4e4b-bc51-8a50ae690bba",
   "metadata": {},
   "outputs": [],
   "source": [
    "X = np.array([x.flatten() for x in X])"
   ]
  },
  {
   "cell_type": "code",
   "execution_count": 176,
   "id": "37afd91a-02a1-4cdb-92ad-4b22827917a1",
   "metadata": {},
   "outputs": [],
   "source": [
    "dataset = pd.DataFrame(columns=['X','y'])"
   ]
  },
  {
   "cell_type": "code",
   "execution_count": 177,
   "id": "b4e493d8-c5af-47d5-95a7-10ecdd74a57d",
   "metadata": {},
   "outputs": [],
   "source": [
    "dataset.X = pd.Series(X.tolist())\n",
    "dataset.y = pd.Series(Y)"
   ]
  },
  {
   "cell_type": "code",
   "execution_count": 178,
   "id": "d7f53f7f-884b-433c-9a70-a4805f74daeb",
   "metadata": {},
   "outputs": [
    {
     "data": {
      "text/html": [
       "<div>\n",
       "<style scoped>\n",
       "    .dataframe tbody tr th:only-of-type {\n",
       "        vertical-align: middle;\n",
       "    }\n",
       "\n",
       "    .dataframe tbody tr th {\n",
       "        vertical-align: top;\n",
       "    }\n",
       "\n",
       "    .dataframe thead th {\n",
       "        text-align: right;\n",
       "    }\n",
       "</style>\n",
       "<table border=\"1\" class=\"dataframe\">\n",
       "  <thead>\n",
       "    <tr style=\"text-align: right;\">\n",
       "      <th></th>\n",
       "      <th>X</th>\n",
       "      <th>y</th>\n",
       "    </tr>\n",
       "  </thead>\n",
       "  <tbody>\n",
       "    <tr>\n",
       "      <th>0</th>\n",
       "      <td>[0, 0, 0, 0, 0, 0, 0, 0, 0, 0, 0, 0, 0, 0, 0, ...</td>\n",
       "      <td>5</td>\n",
       "    </tr>\n",
       "    <tr>\n",
       "      <th>1</th>\n",
       "      <td>[0, 0, 0, 0, 0, 0, 0, 0, 0, 0, 0, 0, 0, 0, 0, ...</td>\n",
       "      <td>0</td>\n",
       "    </tr>\n",
       "    <tr>\n",
       "      <th>2</th>\n",
       "      <td>[0, 0, 0, 0, 0, 0, 0, 0, 0, 0, 0, 0, 0, 0, 0, ...</td>\n",
       "      <td>4</td>\n",
       "    </tr>\n",
       "    <tr>\n",
       "      <th>3</th>\n",
       "      <td>[0, 0, 0, 0, 0, 0, 0, 0, 0, 0, 0, 0, 0, 0, 0, ...</td>\n",
       "      <td>1</td>\n",
       "    </tr>\n",
       "    <tr>\n",
       "      <th>4</th>\n",
       "      <td>[0, 0, 0, 0, 0, 0, 0, 0, 0, 0, 0, 0, 0, 0, 0, ...</td>\n",
       "      <td>9</td>\n",
       "    </tr>\n",
       "    <tr>\n",
       "      <th>...</th>\n",
       "      <td>...</td>\n",
       "      <td>...</td>\n",
       "    </tr>\n",
       "    <tr>\n",
       "      <th>69995</th>\n",
       "      <td>[0, 0, 0, 0, 0, 0, 0, 0, 0, 0, 0, 0, 0, 0, 0, ...</td>\n",
       "      <td>2</td>\n",
       "    </tr>\n",
       "    <tr>\n",
       "      <th>69996</th>\n",
       "      <td>[0, 0, 0, 0, 0, 0, 0, 0, 0, 0, 0, 0, 0, 0, 0, ...</td>\n",
       "      <td>3</td>\n",
       "    </tr>\n",
       "    <tr>\n",
       "      <th>69997</th>\n",
       "      <td>[0, 0, 0, 0, 0, 0, 0, 0, 0, 0, 0, 0, 0, 0, 0, ...</td>\n",
       "      <td>4</td>\n",
       "    </tr>\n",
       "    <tr>\n",
       "      <th>69998</th>\n",
       "      <td>[0, 0, 0, 0, 0, 0, 0, 0, 0, 0, 0, 0, 0, 0, 0, ...</td>\n",
       "      <td>5</td>\n",
       "    </tr>\n",
       "    <tr>\n",
       "      <th>69999</th>\n",
       "      <td>[0, 0, 0, 0, 0, 0, 0, 0, 0, 0, 0, 0, 0, 0, 0, ...</td>\n",
       "      <td>6</td>\n",
       "    </tr>\n",
       "  </tbody>\n",
       "</table>\n",
       "<p>70000 rows × 2 columns</p>\n",
       "</div>"
      ],
      "text/plain": [
       "                                                       X  y\n",
       "0      [0, 0, 0, 0, 0, 0, 0, 0, 0, 0, 0, 0, 0, 0, 0, ...  5\n",
       "1      [0, 0, 0, 0, 0, 0, 0, 0, 0, 0, 0, 0, 0, 0, 0, ...  0\n",
       "2      [0, 0, 0, 0, 0, 0, 0, 0, 0, 0, 0, 0, 0, 0, 0, ...  4\n",
       "3      [0, 0, 0, 0, 0, 0, 0, 0, 0, 0, 0, 0, 0, 0, 0, ...  1\n",
       "4      [0, 0, 0, 0, 0, 0, 0, 0, 0, 0, 0, 0, 0, 0, 0, ...  9\n",
       "...                                                  ... ..\n",
       "69995  [0, 0, 0, 0, 0, 0, 0, 0, 0, 0, 0, 0, 0, 0, 0, ...  2\n",
       "69996  [0, 0, 0, 0, 0, 0, 0, 0, 0, 0, 0, 0, 0, 0, 0, ...  3\n",
       "69997  [0, 0, 0, 0, 0, 0, 0, 0, 0, 0, 0, 0, 0, 0, 0, ...  4\n",
       "69998  [0, 0, 0, 0, 0, 0, 0, 0, 0, 0, 0, 0, 0, 0, 0, ...  5\n",
       "69999  [0, 0, 0, 0, 0, 0, 0, 0, 0, 0, 0, 0, 0, 0, 0, ...  6\n",
       "\n",
       "[70000 rows x 2 columns]"
      ]
     },
     "execution_count": 178,
     "metadata": {},
     "output_type": "execute_result"
    }
   ],
   "source": [
    "dataset"
   ]
  },
  {
   "cell_type": "code",
   "execution_count": 179,
   "id": "79b1932c-9bd7-4322-a151-e0a7375f7a7e",
   "metadata": {},
   "outputs": [],
   "source": [
    "dataset.to_json(\"./datasets/MNIST/mnist_full.json\")"
   ]
  },
  {
   "cell_type": "markdown",
   "id": "7625b8de-5d78-41aa-8146-6b5c93481485",
   "metadata": {
    "jp-MarkdownHeadingCollapsed": true
   },
   "source": [
    "## CNN feature extraction"
   ]
  },
  {
   "cell_type": "code",
   "execution_count": 1,
   "id": "d919c872-0e1b-46c2-a9ca-e640aa3630f4",
   "metadata": {},
   "outputs": [
    {
     "name": "stderr",
     "output_type": "stream",
     "text": [
      "2024-03-09 17:38:52.519702: I tensorflow/core/platform/cpu_feature_guard.cc:182] This TensorFlow binary is optimized to use available CPU instructions in performance-critical operations.\n",
      "To enable the following instructions: AVX2 FMA, in other operations, rebuild TensorFlow with the appropriate compiler flags.\n",
      "2024-03-09 17:38:53.531910: W tensorflow/compiler/tf2tensorrt/utils/py_utils.cc:38] TF-TRT Warning: Could not find TensorRT\n"
     ]
    }
   ],
   "source": [
    "import pandas as pd\n",
    "import numpy as np\n",
    "from sklearn.decomposition import PCA\n",
    "\n",
    "from tensorflow.keras.applications.resnet50 import ResNet50\n",
    "from tensorflow.keras.models import Sequential\n",
    "from tensorflow.keras.layers import Dense\n",
    "from tensorflow.keras.utils import to_categorical"
   ]
  },
  {
   "cell_type": "code",
   "execution_count": 2,
   "id": "281b15bc-8797-4409-9a3e-60394ad8c71a",
   "metadata": {},
   "outputs": [
    {
     "name": "stderr",
     "output_type": "stream",
     "text": [
      "2024-03-09 17:38:55.148371: I tensorflow/compiler/xla/stream_executor/cuda/cuda_gpu_executor.cc:982] could not open file to read NUMA node: /sys/bus/pci/devices/0000:01:00.0/numa_node\n",
      "Your kernel may have been built without NUMA support.\n",
      "2024-03-09 17:38:55.285426: I tensorflow/compiler/xla/stream_executor/cuda/cuda_gpu_executor.cc:982] could not open file to read NUMA node: /sys/bus/pci/devices/0000:01:00.0/numa_node\n",
      "Your kernel may have been built without NUMA support.\n",
      "2024-03-09 17:38:55.285501: I tensorflow/compiler/xla/stream_executor/cuda/cuda_gpu_executor.cc:982] could not open file to read NUMA node: /sys/bus/pci/devices/0000:01:00.0/numa_node\n",
      "Your kernel may have been built without NUMA support.\n",
      "2024-03-09 17:38:55.287832: I tensorflow/compiler/xla/stream_executor/cuda/cuda_gpu_executor.cc:982] could not open file to read NUMA node: /sys/bus/pci/devices/0000:01:00.0/numa_node\n",
      "Your kernel may have been built without NUMA support.\n",
      "2024-03-09 17:38:55.287887: I tensorflow/compiler/xla/stream_executor/cuda/cuda_gpu_executor.cc:982] could not open file to read NUMA node: /sys/bus/pci/devices/0000:01:00.0/numa_node\n",
      "Your kernel may have been built without NUMA support.\n",
      "2024-03-09 17:38:55.287922: I tensorflow/compiler/xla/stream_executor/cuda/cuda_gpu_executor.cc:982] could not open file to read NUMA node: /sys/bus/pci/devices/0000:01:00.0/numa_node\n",
      "Your kernel may have been built without NUMA support.\n",
      "2024-03-09 17:38:55.467774: I tensorflow/compiler/xla/stream_executor/cuda/cuda_gpu_executor.cc:982] could not open file to read NUMA node: /sys/bus/pci/devices/0000:01:00.0/numa_node\n",
      "Your kernel may have been built without NUMA support.\n",
      "2024-03-09 17:38:55.467981: I tensorflow/compiler/xla/stream_executor/cuda/cuda_gpu_executor.cc:982] could not open file to read NUMA node: /sys/bus/pci/devices/0000:01:00.0/numa_node\n",
      "Your kernel may have been built without NUMA support.\n",
      "2024-03-09 17:38:55.468001: I tensorflow/core/common_runtime/gpu/gpu_device.cc:1722] Could not identify NUMA node of platform GPU id 0, defaulting to 0.  Your kernel may not have been built with NUMA support.\n",
      "2024-03-09 17:38:55.468091: I tensorflow/compiler/xla/stream_executor/cuda/cuda_gpu_executor.cc:982] could not open file to read NUMA node: /sys/bus/pci/devices/0000:01:00.0/numa_node\n",
      "Your kernel may have been built without NUMA support.\n",
      "2024-03-09 17:38:55.468120: I tensorflow/core/common_runtime/gpu/gpu_device.cc:1635] Created device /job:localhost/replica:0/task:0/device:GPU:0 with 5595 MB memory:  -> device: 0, name: NVIDIA GeForce RTX 3070 Laptop GPU, pci bus id: 0000:01:00.0, compute capability: 8.6\n"
     ]
    },
    {
     "name": "stdout",
     "output_type": "stream",
     "text": [
      "Model: \"sequential\"\n",
      "_________________________________________________________________\n",
      " Layer (type)                Output Shape              Param #   \n",
      "=================================================================\n",
      " resnet50 (Functional)       (None, 2048)              23587712  \n",
      "                                                                 \n",
      "=================================================================\n",
      "Total params: 23,587,712\n",
      "Trainable params: 0\n",
      "Non-trainable params: 23,587,712\n",
      "_________________________________________________________________\n"
     ]
    }
   ],
   "source": [
    "model = Sequential()\n",
    "# add the pretrained model\n",
    "model.add(ResNet50(include_top=False, pooling='avg', weights='imagenet'))\n",
    "\n",
    "# set resnet layers not trainable\n",
    "model.layers[0].trainable=False\n",
    "model.summary()"
   ]
  },
  {
   "cell_type": "code",
   "execution_count": 3,
   "id": "1660d9a2-5670-4dd5-8666-e3f8a90daae8",
   "metadata": {},
   "outputs": [],
   "source": [
    "dataset = pd.read_json('datasets/MNIST/digit-9/mnist_full.json')"
   ]
  },
  {
   "cell_type": "code",
   "execution_count": 4,
   "id": "5cdbd43b-9dbe-453a-9362-48a51dfd348c",
   "metadata": {},
   "outputs": [
    {
     "data": {
      "text/plain": [
       "784"
      ]
     },
     "execution_count": 4,
     "metadata": {},
     "output_type": "execute_result"
    }
   ],
   "source": [
    "len(dataset.X_train[0])"
   ]
  },
  {
   "cell_type": "code",
   "execution_count": 5,
   "id": "32737b1d-8ef9-4ff4-b151-62a49d41c2d4",
   "metadata": {},
   "outputs": [],
   "source": [
    "X_train = np.array(dataset.X_train.dropna().to_list())\n",
    "y_train = np.array(dataset.y_train.dropna().to_list())\n",
    "X_test = np.array(dataset.X_test.to_list())\n",
    "y_test = np.array(dataset.y_test.to_list())"
   ]
  },
  {
   "cell_type": "code",
   "execution_count": 6,
   "id": "4c61807e-48ed-4bd9-a820-4506076f4c4a",
   "metadata": {},
   "outputs": [],
   "source": [
    "X_train = X_train.reshape((X_train.shape[0], 28, 28))\n",
    "X_test = X_test.reshape((X_test.shape[0], 28, 28))\n",
    "\n",
    "X_train = X_train.astype('float32')\n",
    "X_test = X_test.astype('float32')\n",
    "\n",
    "X_train = np.stack((X_train,)*3, axis=-1)\n",
    "X_test = np.stack((X_test,)*3, axis=-1)"
   ]
  },
  {
   "cell_type": "code",
   "execution_count": 7,
   "id": "8f1321e9-f8d2-492a-a17c-a5fe7b7423c2",
   "metadata": {},
   "outputs": [
    {
     "name": "stderr",
     "output_type": "stream",
     "text": [
      "2024-03-09 17:23:19.328462: I tensorflow/compiler/xla/stream_executor/cuda/cuda_dnn.cc:424] Loaded cuDNN version 8600\n",
      "2024-03-09 17:23:19.382262: W tensorflow/compiler/xla/stream_executor/gpu/asm_compiler.cc:109] Couldn't get ptxas version : FAILED_PRECONDITION: Couldn't get ptxas/nvlink version string: INTERNAL: Running ptxas --version returned -1\n",
      "2024-03-09 17:23:19.403804: W tensorflow/compiler/xla/stream_executor/gpu/redzone_allocator.cc:317] INTERNAL: ptxas exited with non-zero error code -1, output: \n",
      "Relying on driver to perform ptx compilation. \n",
      "Modify $PATH to customize ptxas location.\n",
      "This message will be only logged once.\n",
      "2024-03-09 17:23:19.632023: I tensorflow/compiler/xla/stream_executor/cuda/cuda_blas.cc:637] TensorFloat-32 will be used for the matrix multiplication. This will only be logged once.\n"
     ]
    },
    {
     "name": "stdout",
     "output_type": "stream",
     "text": [
      "32/32 [==============================] - 2s 19ms/step\n",
      "   1/2157 [..............................] - ETA: 35s"
     ]
    },
    {
     "name": "stderr",
     "output_type": "stream",
     "text": [
      "2024-03-09 17:23:20.737814: W tensorflow/tsl/framework/cpu_allocator_impl.cc:83] Allocation of 649152000 exceeds 10% of free system memory.\n",
      "2024-03-09 17:23:21.094221: W tensorflow/tsl/framework/cpu_allocator_impl.cc:83] Allocation of 649152000 exceeds 10% of free system memory.\n"
     ]
    },
    {
     "name": "stdout",
     "output_type": "stream",
     "text": [
      "2157/2157 [==============================] - 14s 7ms/step\n"
     ]
    },
    {
     "name": "stderr",
     "output_type": "stream",
     "text": [
      "2024-03-09 17:23:36.325219: W tensorflow/tsl/framework/cpu_allocator_impl.cc:83] Allocation of 565248000 exceeds 10% of free system memory.\n"
     ]
    }
   ],
   "source": [
    "X_tr = model.predict(X_train)\n",
    "X_ts = model.predict(X_test)"
   ]
  },
  {
   "cell_type": "code",
   "execution_count": 8,
   "id": "0bf1b7bf-0c6d-47e9-93fc-1a6185dd9246",
   "metadata": {},
   "outputs": [],
   "source": [
    "dataset = pd.DataFrame(columns=['X_train', 'X_test', 'y_train', 'y_test'])"
   ]
  },
  {
   "cell_type": "code",
   "execution_count": 9,
   "id": "1cf1a2d3-d54f-49d4-a98e-33e1ee183fd8",
   "metadata": {},
   "outputs": [],
   "source": [
    "pca = PCA(n_components=784)"
   ]
  },
  {
   "cell_type": "code",
   "execution_count": 10,
   "id": "d2d0b024-aebe-4abf-a51b-357a6a70cbaf",
   "metadata": {},
   "outputs": [],
   "source": [
    "dataset.X_test = pd.Series(pca.fit_transform(X_ts).tolist())\n",
    "dataset.y_test = pd.Series(y_test)\n",
    "dataset.X_train = pd.Series(pca.fit_transform(X_tr).tolist())\n",
    "dataset.y_train = pd.Series(y_train)"
   ]
  },
  {
   "cell_type": "code",
   "execution_count": 11,
   "id": "f2b1b62e-5c38-463e-8057-8a45b87bd09e",
   "metadata": {},
   "outputs": [
    {
     "data": {
      "text/html": [
       "<div>\n",
       "<style scoped>\n",
       "    .dataframe tbody tr th:only-of-type {\n",
       "        vertical-align: middle;\n",
       "    }\n",
       "\n",
       "    .dataframe tbody tr th {\n",
       "        vertical-align: top;\n",
       "    }\n",
       "\n",
       "    .dataframe thead th {\n",
       "        text-align: right;\n",
       "    }\n",
       "</style>\n",
       "<table border=\"1\" class=\"dataframe\">\n",
       "  <thead>\n",
       "    <tr style=\"text-align: right;\">\n",
       "      <th></th>\n",
       "      <th>X_train</th>\n",
       "      <th>X_test</th>\n",
       "      <th>y_train</th>\n",
       "      <th>y_test</th>\n",
       "    </tr>\n",
       "  </thead>\n",
       "  <tbody>\n",
       "    <tr>\n",
       "      <th>0</th>\n",
       "      <td>[-52.0404052734375, -1.1849124431610107, 0.974...</td>\n",
       "      <td>[51.4664306640625, -38.48853302001953, -21.142...</td>\n",
       "      <td>0.0</td>\n",
       "      <td>0</td>\n",
       "    </tr>\n",
       "    <tr>\n",
       "      <th>1</th>\n",
       "      <td>[-1.45470130443573, -3.422642230987549, -4.773...</td>\n",
       "      <td>[-31.737510681152344, 5.920137405395508, 12.05...</td>\n",
       "      <td>1.0</td>\n",
       "      <td>0</td>\n",
       "    </tr>\n",
       "    <tr>\n",
       "      <th>2</th>\n",
       "      <td>[-1.6065526008605957, 20.285364151000977, -19....</td>\n",
       "      <td>[-27.712858200073242, 4.088764190673828, -26.9...</td>\n",
       "      <td>1.0</td>\n",
       "      <td>0</td>\n",
       "    </tr>\n",
       "    <tr>\n",
       "      <th>3</th>\n",
       "      <td>[14.760562896728516, -10.216889381408691, -3.7...</td>\n",
       "      <td>[86.68650817871094, 24.9345703125, 1.635362863...</td>\n",
       "      <td>0.0</td>\n",
       "      <td>0</td>\n",
       "    </tr>\n",
       "    <tr>\n",
       "      <th>4</th>\n",
       "      <td>[-4.936356067657471, -4.133682727813721, -28.4...</td>\n",
       "      <td>[-17.374677658081055, -0.9476553201675415, 2.7...</td>\n",
       "      <td>0.0</td>\n",
       "      <td>1</td>\n",
       "    </tr>\n",
       "    <tr>\n",
       "      <th>...</th>\n",
       "      <td>...</td>\n",
       "      <td>...</td>\n",
       "      <td>...</td>\n",
       "      <td>...</td>\n",
       "    </tr>\n",
       "    <tr>\n",
       "      <th>68995</th>\n",
       "      <td>NaN</td>\n",
       "      <td>[54.04206848144531, -18.00141716003418, 11.087...</td>\n",
       "      <td>NaN</td>\n",
       "      <td>0</td>\n",
       "    </tr>\n",
       "    <tr>\n",
       "      <th>68996</th>\n",
       "      <td>NaN</td>\n",
       "      <td>[-13.508169174194336, -3.6055686473846436, 24....</td>\n",
       "      <td>NaN</td>\n",
       "      <td>0</td>\n",
       "    </tr>\n",
       "    <tr>\n",
       "      <th>68997</th>\n",
       "      <td>NaN</td>\n",
       "      <td>[16.879465103149414, 4.630447864532471, -16.47...</td>\n",
       "      <td>NaN</td>\n",
       "      <td>0</td>\n",
       "    </tr>\n",
       "    <tr>\n",
       "      <th>68998</th>\n",
       "      <td>NaN</td>\n",
       "      <td>[-7.188337802886963, 0.5320671796798706, 6.752...</td>\n",
       "      <td>NaN</td>\n",
       "      <td>0</td>\n",
       "    </tr>\n",
       "    <tr>\n",
       "      <th>68999</th>\n",
       "      <td>NaN</td>\n",
       "      <td>[27.364269256591797, -42.8983268737793, 7.4911...</td>\n",
       "      <td>NaN</td>\n",
       "      <td>0</td>\n",
       "    </tr>\n",
       "  </tbody>\n",
       "</table>\n",
       "<p>69000 rows × 4 columns</p>\n",
       "</div>"
      ],
      "text/plain": [
       "                                                 X_train  \\\n",
       "0      [-52.0404052734375, -1.1849124431610107, 0.974...   \n",
       "1      [-1.45470130443573, -3.422642230987549, -4.773...   \n",
       "2      [-1.6065526008605957, 20.285364151000977, -19....   \n",
       "3      [14.760562896728516, -10.216889381408691, -3.7...   \n",
       "4      [-4.936356067657471, -4.133682727813721, -28.4...   \n",
       "...                                                  ...   \n",
       "68995                                                NaN   \n",
       "68996                                                NaN   \n",
       "68997                                                NaN   \n",
       "68998                                                NaN   \n",
       "68999                                                NaN   \n",
       "\n",
       "                                                  X_test  y_train  y_test  \n",
       "0      [51.4664306640625, -38.48853302001953, -21.142...      0.0       0  \n",
       "1      [-31.737510681152344, 5.920137405395508, 12.05...      1.0       0  \n",
       "2      [-27.712858200073242, 4.088764190673828, -26.9...      1.0       0  \n",
       "3      [86.68650817871094, 24.9345703125, 1.635362863...      0.0       0  \n",
       "4      [-17.374677658081055, -0.9476553201675415, 2.7...      0.0       1  \n",
       "...                                                  ...      ...     ...  \n",
       "68995  [54.04206848144531, -18.00141716003418, 11.087...      NaN       0  \n",
       "68996  [-13.508169174194336, -3.6055686473846436, 24....      NaN       0  \n",
       "68997  [16.879465103149414, 4.630447864532471, -16.47...      NaN       0  \n",
       "68998  [-7.188337802886963, 0.5320671796798706, 6.752...      NaN       0  \n",
       "68999  [27.364269256591797, -42.8983268737793, 7.4911...      NaN       0  \n",
       "\n",
       "[69000 rows x 4 columns]"
      ]
     },
     "execution_count": 11,
     "metadata": {},
     "output_type": "execute_result"
    }
   ],
   "source": [
    "dataset"
   ]
  },
  {
   "cell_type": "code",
   "execution_count": 12,
   "id": "6223f482-4496-4bc8-92a4-059c6d29cfd6",
   "metadata": {},
   "outputs": [],
   "source": [
    "dataset.to_json(\"./datasets/MNIST/digit-9/mnist_full_cnn.json\")"
   ]
  },
  {
   "cell_type": "code",
   "execution_count": 3,
   "id": "6e727747-e284-44e4-95a5-58966847e465",
   "metadata": {},
   "outputs": [],
   "source": [
    "dataset = pd.read_json('datasets/MNIST/all-digits/mnist_full.json')"
   ]
  },
  {
   "cell_type": "code",
   "execution_count": 4,
   "id": "513037da-bc41-4a11-a0e4-d551655b10f7",
   "metadata": {},
   "outputs": [],
   "source": [
    "X = np.array(dataset.X.to_list())\n",
    "y = np.array(dataset.y.to_list())"
   ]
  },
  {
   "cell_type": "code",
   "execution_count": 5,
   "id": "371fc81c-9d52-4cc0-8c15-9c402bcc315b",
   "metadata": {},
   "outputs": [],
   "source": [
    "X = X.reshape((X.shape[0], 28, 28))\n",
    "\n",
    "X = X.astype('float32')\n",
    "\n",
    "X = np.stack((X,)*3, axis=-1)"
   ]
  },
  {
   "cell_type": "code",
   "execution_count": 6,
   "id": "229e1757-0549-4eb3-afc3-6c2a9047a1af",
   "metadata": {},
   "outputs": [
    {
     "name": "stderr",
     "output_type": "stream",
     "text": [
      "2024-03-09 17:39:04.818598: W tensorflow/tsl/framework/cpu_allocator_impl.cc:83] Allocation of 658560000 exceeds 10% of free system memory.\n",
      "2024-03-09 17:39:05.448025: W tensorflow/tsl/framework/cpu_allocator_impl.cc:83] Allocation of 658560000 exceeds 10% of free system memory.\n",
      "2024-03-09 17:39:06.223870: I tensorflow/compiler/xla/stream_executor/cuda/cuda_dnn.cc:424] Loaded cuDNN version 8600\n",
      "2024-03-09 17:39:06.451598: W tensorflow/compiler/xla/stream_executor/gpu/asm_compiler.cc:109] Couldn't get ptxas version : FAILED_PRECONDITION: Couldn't get ptxas/nvlink version string: INTERNAL: Running ptxas --version returned -1\n",
      "2024-03-09 17:39:06.489351: W tensorflow/compiler/xla/stream_executor/gpu/redzone_allocator.cc:317] INTERNAL: ptxas exited with non-zero error code -1, output: \n",
      "Relying on driver to perform ptx compilation. \n",
      "Modify $PATH to customize ptxas location.\n",
      "This message will be only logged once.\n",
      "2024-03-09 17:39:06.598554: I tensorflow/compiler/xla/stream_executor/cuda/cuda_blas.cc:637] TensorFloat-32 will be used for the matrix multiplication. This will only be logged once.\n"
     ]
    },
    {
     "name": "stdout",
     "output_type": "stream",
     "text": [
      "2188/2188 [==============================] - 16s 7ms/step\n"
     ]
    }
   ],
   "source": [
    "X_t = model.predict(X)"
   ]
  },
  {
   "cell_type": "code",
   "execution_count": 7,
   "id": "55a7f88a-4145-476c-9310-8682fc212d83",
   "metadata": {},
   "outputs": [],
   "source": [
    "dataset = pd.DataFrame(columns=['X', 'y'])"
   ]
  },
  {
   "cell_type": "code",
   "execution_count": 8,
   "id": "2ad1d98f-0cd8-44b4-9007-5a12568b5fd2",
   "metadata": {},
   "outputs": [],
   "source": [
    "pca = PCA(n_components=784)"
   ]
  },
  {
   "cell_type": "code",
   "execution_count": 9,
   "id": "658e69bf-3c54-460a-a63a-c292fc822515",
   "metadata": {},
   "outputs": [],
   "source": [
    "dataset.X = pd.Series(pca.fit_transform(X_t).tolist())\n",
    "dataset.y = pd.Series(y)"
   ]
  },
  {
   "cell_type": "code",
   "execution_count": 10,
   "id": "c5b59a76-a1fa-43f8-8a97-b3d22f532ee6",
   "metadata": {},
   "outputs": [
    {
     "data": {
      "text/html": [
       "<div>\n",
       "<style scoped>\n",
       "    .dataframe tbody tr th:only-of-type {\n",
       "        vertical-align: middle;\n",
       "    }\n",
       "\n",
       "    .dataframe tbody tr th {\n",
       "        vertical-align: top;\n",
       "    }\n",
       "\n",
       "    .dataframe thead th {\n",
       "        text-align: right;\n",
       "    }\n",
       "</style>\n",
       "<table border=\"1\" class=\"dataframe\">\n",
       "  <thead>\n",
       "    <tr style=\"text-align: right;\">\n",
       "      <th></th>\n",
       "      <th>X</th>\n",
       "      <th>y</th>\n",
       "    </tr>\n",
       "  </thead>\n",
       "  <tbody>\n",
       "    <tr>\n",
       "      <th>0</th>\n",
       "      <td>[51.71218490600586, -38.35850524902344, -21.20...</td>\n",
       "      <td>5</td>\n",
       "    </tr>\n",
       "    <tr>\n",
       "      <th>1</th>\n",
       "      <td>[-31.58961296081543, 5.7563796043396, 11.96757...</td>\n",
       "      <td>0</td>\n",
       "    </tr>\n",
       "    <tr>\n",
       "      <th>2</th>\n",
       "      <td>[-27.56419563293457, 3.9507994651794434, -26.8...</td>\n",
       "      <td>4</td>\n",
       "    </tr>\n",
       "    <tr>\n",
       "      <th>3</th>\n",
       "      <td>[86.75652313232422, 25.1878719329834, 1.243247...</td>\n",
       "      <td>1</td>\n",
       "    </tr>\n",
       "    <tr>\n",
       "      <th>4</th>\n",
       "      <td>[-17.260393142700195, -1.0024819374084473, 2.7...</td>\n",
       "      <td>9</td>\n",
       "    </tr>\n",
       "    <tr>\n",
       "      <th>...</th>\n",
       "      <td>...</td>\n",
       "      <td>...</td>\n",
       "    </tr>\n",
       "    <tr>\n",
       "      <th>69995</th>\n",
       "      <td>[54.25825119018555, -17.840784072875977, 11.02...</td>\n",
       "      <td>2</td>\n",
       "    </tr>\n",
       "    <tr>\n",
       "      <th>69996</th>\n",
       "      <td>[-13.30836296081543, -3.681253433227539, 24.21...</td>\n",
       "      <td>3</td>\n",
       "    </tr>\n",
       "    <tr>\n",
       "      <th>69997</th>\n",
       "      <td>[17.052690505981445, 4.639980316162109, -16.40...</td>\n",
       "      <td>4</td>\n",
       "    </tr>\n",
       "    <tr>\n",
       "      <th>69998</th>\n",
       "      <td>[-7.0294508934021, 0.4811342656612396, 6.87559...</td>\n",
       "      <td>5</td>\n",
       "    </tr>\n",
       "    <tr>\n",
       "      <th>69999</th>\n",
       "      <td>[27.673171997070312, -42.84864807128906, 7.415...</td>\n",
       "      <td>6</td>\n",
       "    </tr>\n",
       "  </tbody>\n",
       "</table>\n",
       "<p>70000 rows × 2 columns</p>\n",
       "</div>"
      ],
      "text/plain": [
       "                                                       X  y\n",
       "0      [51.71218490600586, -38.35850524902344, -21.20...  5\n",
       "1      [-31.58961296081543, 5.7563796043396, 11.96757...  0\n",
       "2      [-27.56419563293457, 3.9507994651794434, -26.8...  4\n",
       "3      [86.75652313232422, 25.1878719329834, 1.243247...  1\n",
       "4      [-17.260393142700195, -1.0024819374084473, 2.7...  9\n",
       "...                                                  ... ..\n",
       "69995  [54.25825119018555, -17.840784072875977, 11.02...  2\n",
       "69996  [-13.30836296081543, -3.681253433227539, 24.21...  3\n",
       "69997  [17.052690505981445, 4.639980316162109, -16.40...  4\n",
       "69998  [-7.0294508934021, 0.4811342656612396, 6.87559...  5\n",
       "69999  [27.673171997070312, -42.84864807128906, 7.415...  6\n",
       "\n",
       "[70000 rows x 2 columns]"
      ]
     },
     "execution_count": 10,
     "metadata": {},
     "output_type": "execute_result"
    }
   ],
   "source": [
    "dataset"
   ]
  },
  {
   "cell_type": "code",
   "execution_count": 11,
   "id": "c8fe1e94-65dc-4c82-979f-6b257c56261a",
   "metadata": {},
   "outputs": [],
   "source": [
    "dataset.to_json(\"./datasets/MNIST/all-digits/mnist_full_cnn.json\")"
   ]
  },
  {
   "cell_type": "markdown",
   "id": "0040e9a9-2b11-491d-a061-ac690c122773",
   "metadata": {
    "jp-MarkdownHeadingCollapsed": true
   },
   "source": [
    "# Synthetic datasets generation"
   ]
  },
  {
   "cell_type": "code",
   "execution_count": 9,
   "id": "a2e04a9b-952f-4721-978a-3a2463f11f96",
   "metadata": {},
   "outputs": [],
   "source": [
    "def gaussian(x, var):\n",
    "    y = (np.e ** (-(((x-0.5)*2)**2)/(2*var)))\n",
    "    return y"
   ]
  },
  {
   "cell_type": "code",
   "execution_count": 103,
   "id": "1a3e4f7c-1d90-415e-b312-3032ed0eb4df",
   "metadata": {
    "scrolled": true
   },
   "outputs": [],
   "source": [
    "dataset = pd.DataFrame(columns=[\"X\", \"y\", \"y_crisp\"])"
   ]
  },
  {
   "cell_type": "code",
   "execution_count": 104,
   "id": "3a376a09-df80-4c10-ab63-7253ed718df1",
   "metadata": {},
   "outputs": [],
   "source": [
    "dataset[\"X\"] = np.random.uniform(0,1,4000)\n",
    "\n",
    "var = np.var(dataset[\"X\"])\n",
    "\n",
    "for index in dataset.index:\n",
    "\n",
    "    val = gaussian(dataset.loc[index, \"X\"], var) \n",
    "    \n",
    "    dataset.loc[index, \"y\"] = val if (val >= 0.9 or val <= 0.1) else np.nan\n",
    "    dataset.loc[index, \"y_crisp\"] = 1 if val >= 0.9 else 0\n",
    "\n",
    "\n",
    "dataset = dataset.dropna()"
   ]
  },
  {
   "cell_type": "code",
   "execution_count": 105,
   "id": "1c163e96-f21d-45a3-9192-b530ebbdfe8c",
   "metadata": {},
   "outputs": [
    {
     "data": {
      "text/html": [
       "<div>\n",
       "<style scoped>\n",
       "    .dataframe tbody tr th:only-of-type {\n",
       "        vertical-align: middle;\n",
       "    }\n",
       "\n",
       "    .dataframe tbody tr th {\n",
       "        vertical-align: top;\n",
       "    }\n",
       "\n",
       "    .dataframe thead th {\n",
       "        text-align: right;\n",
       "    }\n",
       "</style>\n",
       "<table border=\"1\" class=\"dataframe\">\n",
       "  <thead>\n",
       "    <tr style=\"text-align: right;\">\n",
       "      <th></th>\n",
       "      <th>X</th>\n",
       "      <th>y</th>\n",
       "      <th>y_crisp</th>\n",
       "    </tr>\n",
       "  </thead>\n",
       "  <tbody>\n",
       "    <tr>\n",
       "      <th>4</th>\n",
       "      <td>0.137777</td>\n",
       "      <td>0.039864</td>\n",
       "      <td>0</td>\n",
       "    </tr>\n",
       "    <tr>\n",
       "      <th>8</th>\n",
       "      <td>0.895814</td>\n",
       "      <td>0.02133</td>\n",
       "      <td>0</td>\n",
       "    </tr>\n",
       "    <tr>\n",
       "      <th>10</th>\n",
       "      <td>0.969089</td>\n",
       "      <td>0.004498</td>\n",
       "      <td>0</td>\n",
       "    </tr>\n",
       "    <tr>\n",
       "      <th>11</th>\n",
       "      <td>0.168475</td>\n",
       "      <td>0.067255</td>\n",
       "      <td>0</td>\n",
       "    </tr>\n",
       "    <tr>\n",
       "      <th>12</th>\n",
       "      <td>0.112038</td>\n",
       "      <td>0.02481</td>\n",
       "      <td>0</td>\n",
       "    </tr>\n",
       "    <tr>\n",
       "      <th>...</th>\n",
       "      <td>...</td>\n",
       "      <td>...</td>\n",
       "      <td>...</td>\n",
       "    </tr>\n",
       "    <tr>\n",
       "      <th>3990</th>\n",
       "      <td>0.907733</td>\n",
       "      <td>0.016859</td>\n",
       "      <td>0</td>\n",
       "    </tr>\n",
       "    <tr>\n",
       "      <th>3992</th>\n",
       "      <td>0.012810</td>\n",
       "      <td>0.00294</td>\n",
       "      <td>0</td>\n",
       "    </tr>\n",
       "    <tr>\n",
       "      <th>3993</th>\n",
       "      <td>0.135991</td>\n",
       "      <td>0.038614</td>\n",
       "      <td>0</td>\n",
       "    </tr>\n",
       "    <tr>\n",
       "      <th>3994</th>\n",
       "      <td>0.978708</td>\n",
       "      <td>0.003596</td>\n",
       "      <td>0</td>\n",
       "    </tr>\n",
       "    <tr>\n",
       "      <th>3998</th>\n",
       "      <td>0.095422</td>\n",
       "      <td>0.017954</td>\n",
       "      <td>0</td>\n",
       "    </tr>\n",
       "  </tbody>\n",
       "</table>\n",
       "<p>2045 rows × 3 columns</p>\n",
       "</div>"
      ],
      "text/plain": [
       "             X         y y_crisp\n",
       "4     0.137777  0.039864       0\n",
       "8     0.895814   0.02133       0\n",
       "10    0.969089  0.004498       0\n",
       "11    0.168475  0.067255       0\n",
       "12    0.112038   0.02481       0\n",
       "...        ...       ...     ...\n",
       "3990  0.907733  0.016859       0\n",
       "3992  0.012810   0.00294       0\n",
       "3993  0.135991  0.038614       0\n",
       "3994  0.978708  0.003596       0\n",
       "3998  0.095422  0.017954       0\n",
       "\n",
       "[2045 rows x 3 columns]"
      ]
     },
     "execution_count": 105,
     "metadata": {},
     "output_type": "execute_result"
    }
   ],
   "source": [
    "dataset"
   ]
  },
  {
   "cell_type": "code",
   "execution_count": 107,
   "id": "64a82fcc-f7c3-4f81-96b5-88291ec44062",
   "metadata": {},
   "outputs": [
    {
     "data": {
      "image/png": "[encoded data removed]",
      "text/plain": [
       "<Figure size 640x480 with 1 Axes>"
      ]
     },
     "metadata": {},
     "output_type": "display_data"
    }
   ],
   "source": [
    "plt.scatter(dataset.X, dataset.y, s=2)\n",
    "plt.show()"
   ]
  },
  {
   "cell_type": "code",
   "execution_count": 10,
   "id": "5e391420-6702-4b0a-a99a-9eefaffb0258",
   "metadata": {},
   "outputs": [],
   "source": [
    "X_test = np.linspace(0, 1, 1000)\n",
    "X_test = np.array([x for x in X_test if (gaussian(x, np.var(X_test)) <= 0.1 or gaussian(x, np.var(X_test)) >= 0.9)])\n",
    "X_test2 = [np.array([x for x in X_test if x<0.2]),np.array([x for x in X_test if (x>=0.2 and x<0.8)]),np.array([x for x in X_test if x>0.8])]\n",
    "y_test_crisp = [(0 if x < 0.5 else 1) for x in gaussian(X_test, np.var(X_test))]\n",
    "step = (X_test2[0][-1]-X_test2[0][0])/(len(X_test2[0])-1)"
   ]
  },
  {
   "cell_type": "code",
   "execution_count": 286,
   "id": "609c2691-aed5-4e2e-b1b8-0dbc17a1bad4",
   "metadata": {},
   "outputs": [
    {
     "data": {
      "image/png": "[encoded data removed]",
      "text/plain": [
       "<Figure size 640x480 with 1 Axes>"
      ]
     },
     "metadata": {},
     "output_type": "display_data"
    }
   ],
   "source": [
    "plt.plot(X_test2[0], gaussian(X_test2[0], np.var(X_test)), color=\"blue\")\n",
    "plt.plot(X_test2[1], gaussian(X_test2[1], np.var(X_test)), color=\"blue\")\n",
    "plt.plot(X_test2[2], gaussian(X_test2[2], np.var(X_test)), color=\"blue\")\n",
    "plt.show()"
   ]
  },
  {
   "cell_type": "code",
   "execution_count": null,
   "id": "43a8ef2c-4c1f-48b7-a3bd-1cd2f964c4cd",
   "metadata": {},
   "outputs": [],
   "source": [
    "#dataset.to_csv('datasets/synthetic_datasets/gaussian.csv')"
   ]
  },
  {
   "cell_type": "code",
   "execution_count": 28,
   "id": "54304ddf-1d66-4777-bf69-b245627b965d",
   "metadata": {},
   "outputs": [],
   "source": [
    "trapezoidal = lambda x: (2.3*x if x < 0.5 else -2.3*x+2.3) if (2.3*x if x < 0.5 else -2.3*x+2.3) < 1 else 1"
   ]
  },
  {
   "cell_type": "code",
   "execution_count": 74,
   "id": "7e9fbfa7-8c44-4bc2-acb3-e5170d4a68a5",
   "metadata": {
    "scrolled": true
   },
   "outputs": [],
   "source": [
    "dataset = pd.DataFrame(columns=[\"X\", \"y\", \"y_crisp\"])"
   ]
  },
  {
   "cell_type": "code",
   "execution_count": 75,
   "id": "f3a6c50f-6221-4d11-b204-7bbfd2ef2ddc",
   "metadata": {},
   "outputs": [],
   "source": [
    "dataset[\"X\"] = np.random.uniform(0,1,6700)\n",
    "\n",
    "for index in dataset.index:\n",
    "\n",
    "    val = trapezoidal(dataset.loc[index, \"X\"]) \n",
    "    \n",
    "    dataset.loc[index, \"y\"] = val if (val >= 0.9 or val <= 0.1) else np.nan\n",
    "    dataset.loc[index, \"y_crisp\"] = 1 if val >= 0.9 else 0\n",
    "\n",
    "\n",
    "dataset = dataset.dropna()"
   ]
  },
  {
   "cell_type": "code",
   "execution_count": 76,
   "id": "d06db9da-3caf-4505-a259-2ca481a96316",
   "metadata": {},
   "outputs": [
    {
     "data": {
      "text/html": [
       "<div>\n",
       "<style scoped>\n",
       "    .dataframe tbody tr th:only-of-type {\n",
       "        vertical-align: middle;\n",
       "    }\n",
       "\n",
       "    .dataframe tbody tr th {\n",
       "        vertical-align: top;\n",
       "    }\n",
       "\n",
       "    .dataframe thead th {\n",
       "        text-align: right;\n",
       "    }\n",
       "</style>\n",
       "<table border=\"1\" class=\"dataframe\">\n",
       "  <thead>\n",
       "    <tr style=\"text-align: right;\">\n",
       "      <th></th>\n",
       "      <th>X</th>\n",
       "      <th>y</th>\n",
       "      <th>y_crisp</th>\n",
       "    </tr>\n",
       "  </thead>\n",
       "  <tbody>\n",
       "    <tr>\n",
       "      <th>0</th>\n",
       "      <td>0.560043</td>\n",
       "      <td>1</td>\n",
       "      <td>1</td>\n",
       "    </tr>\n",
       "    <tr>\n",
       "      <th>2</th>\n",
       "      <td>0.482445</td>\n",
       "      <td>1</td>\n",
       "      <td>1</td>\n",
       "    </tr>\n",
       "    <tr>\n",
       "      <th>8</th>\n",
       "      <td>0.475447</td>\n",
       "      <td>1</td>\n",
       "      <td>1</td>\n",
       "    </tr>\n",
       "    <tr>\n",
       "      <th>11</th>\n",
       "      <td>0.402165</td>\n",
       "      <td>0.92498</td>\n",
       "      <td>1</td>\n",
       "    </tr>\n",
       "    <tr>\n",
       "      <th>25</th>\n",
       "      <td>0.971340</td>\n",
       "      <td>0.065919</td>\n",
       "      <td>0</td>\n",
       "    </tr>\n",
       "    <tr>\n",
       "      <th>...</th>\n",
       "      <td>...</td>\n",
       "      <td>...</td>\n",
       "      <td>...</td>\n",
       "    </tr>\n",
       "    <tr>\n",
       "      <th>6683</th>\n",
       "      <td>0.013306</td>\n",
       "      <td>0.030603</td>\n",
       "      <td>0</td>\n",
       "    </tr>\n",
       "    <tr>\n",
       "      <th>6689</th>\n",
       "      <td>0.024708</td>\n",
       "      <td>0.056828</td>\n",
       "      <td>0</td>\n",
       "    </tr>\n",
       "    <tr>\n",
       "      <th>6695</th>\n",
       "      <td>0.009971</td>\n",
       "      <td>0.022933</td>\n",
       "      <td>0</td>\n",
       "    </tr>\n",
       "    <tr>\n",
       "      <th>6697</th>\n",
       "      <td>0.961439</td>\n",
       "      <td>0.088691</td>\n",
       "      <td>0</td>\n",
       "    </tr>\n",
       "    <tr>\n",
       "      <th>6698</th>\n",
       "      <td>0.429760</td>\n",
       "      <td>0.988447</td>\n",
       "      <td>1</td>\n",
       "    </tr>\n",
       "  </tbody>\n",
       "</table>\n",
       "<p>2051 rows × 3 columns</p>\n",
       "</div>"
      ],
      "text/plain": [
       "             X         y y_crisp\n",
       "0     0.560043         1       1\n",
       "2     0.482445         1       1\n",
       "8     0.475447         1       1\n",
       "11    0.402165   0.92498       1\n",
       "25    0.971340  0.065919       0\n",
       "...        ...       ...     ...\n",
       "6683  0.013306  0.030603       0\n",
       "6689  0.024708  0.056828       0\n",
       "6695  0.009971  0.022933       0\n",
       "6697  0.961439  0.088691       0\n",
       "6698  0.429760  0.988447       1\n",
       "\n",
       "[2051 rows x 3 columns]"
      ]
     },
     "execution_count": 76,
     "metadata": {},
     "output_type": "execute_result"
    }
   ],
   "source": [
    "dataset"
   ]
  },
  {
   "cell_type": "code",
   "execution_count": 77,
   "id": "26ea1614-72db-4b09-99ad-0387ddfc0e78",
   "metadata": {},
   "outputs": [
    {
     "data": {
      "image/png": "[encoded data removed]",
      "text/plain": [
       "<Figure size 640x480 with 1 Axes>"
      ]
     },
     "metadata": {},
     "output_type": "display_data"
    }
   ],
   "source": [
    "plt.scatter(dataset.X, dataset.y, s=2)\n",
    "plt.show()"
   ]
  },
  {
   "cell_type": "code",
   "execution_count": 78,
   "id": "2ce3e88e-8d1b-45b6-8a72-242bd2cf4d83",
   "metadata": {},
   "outputs": [],
   "source": [
    "X_test = np.linspace(0, 1, 1000)\n",
    "X_test = np.array([x for x in X_test if (trapezoidal(x) <= 0.1 or trapezoidal(x) >= 0.9)])\n",
    "X_test2 = [np.array([x for x in X_test if x<0.2]),np.array([x for x in X_test if (x>=0.2 and x<0.8)]),np.array([x for x in X_test if x>0.8])]\n",
    "y_test_crisp = [(0 if x < 0.5 else 1) for x in [trapezoidal(x) for x in X_test]]\n",
    "step = (X_test2[0][-1]-X_test2[0][0])/(len(X_test2[0])-1)"
   ]
  },
  {
   "cell_type": "code",
   "execution_count": 79,
   "id": "a8a527fe-3609-4ee2-912d-7aa4f9b61833",
   "metadata": {},
   "outputs": [
    {
     "data": {
      "image/png": "[encoded data removed]",
      "text/plain": [
       "<Figure size 640x480 with 1 Axes>"
      ]
     },
     "metadata": {},
     "output_type": "display_data"
    }
   ],
   "source": [
    "plt.plot(X_test2[0], [trapezoidal(x) for x in X_test2[0]], color=\"blue\")\n",
    "plt.plot(X_test2[1], [trapezoidal(x) for x in X_test2[1]], color=\"blue\")\n",
    "plt.plot(X_test2[2], [trapezoidal(x) for x in X_test2[2]], color=\"blue\")\n",
    "plt.show()"
   ]
  },
  {
   "cell_type": "code",
   "execution_count": 80,
   "id": "67806d8d-b157-496d-938a-1e10643e3411",
   "metadata": {},
   "outputs": [],
   "source": [
    "#dataset.to_csv('datasets/synthetic_datasets/trapezoidal_bigger.csv')"
   ]
  },
  {
   "cell_type": "markdown",
   "id": "d51e2a62-8b4f-4bb9-be20-e98cabea1e2e",
   "metadata": {},
   "source": [
    "# Datasets and pre-trained models download (~3GB)"
   ]
  },
  {
   "cell_type": "code",
   "execution_count": null,
   "id": "a42da5fa-a20a-4d51-8817-836afcad0bf4",
   "metadata": {},
   "outputs": [],
   "source": [
    "!pip3 install git+https://github.com/Juvenal-Yescas/mediafire-dl"
   ]
  },
  {
   "cell_type": "code",
   "execution_count": null,
   "id": "6fc21f4d-4999-4f51-905d-12180ed58c0a",
   "metadata": {},
   "outputs": [],
   "source": [
    "import mediafire_dl\n",
    "\n",
    "url = 'https://www.mediafire.com/file/30c88melcxujufb/data.tar.gz/file'\n",
    "output = 'data.tar.gz'\n",
    "mediafire_dl.download(url, output, quiet=False)"
   ]
  },
  {
   "cell_type": "code",
   "execution_count": null,
   "id": "98e74df3-cb8c-4835-8faf-ddb897070288",
   "metadata": {},
   "outputs": [],
   "source": [
    "!tar -xzvf data.tar.gz"
   ]
  },
  {
   "cell_type": "code",
   "execution_count": null,
   "id": "5d716445-8318-4e0a-a5de-fa99c36b2ec6",
   "metadata": {},
   "outputs": [],
   "source": [
    "!pip install cloudpickle"
   ]
  },
  {
   "cell_type": "markdown",
   "id": "dbb761a8-879a-4572-b31e-65b09a3d146e",
   "metadata": {
    "jp-MarkdownHeadingCollapsed": true
   },
   "source": [
    "# Model logging"
   ]
  },
  {
   "cell_type": "code",
   "execution_count": 2,
   "id": "265c6c3a-1440-4eec-bb49-ea5c426821cb",
   "metadata": {},
   "outputs": [],
   "source": [
    "class JsonFormatter(logging.Formatter):\n",
    "\n",
    "    @staticmethod\n",
    "    def find(s, ch):\n",
    "        return [i for i, ltr in enumerate(s) if ltr == ch]\n",
    "\n",
    "    def format(self, record) -> str:\n",
    "        \n",
    "        log_record = {\n",
    "            'timestamp': self.formatTime(record),\n",
    "            'model': record.getMessage()\n",
    "        }\n",
    "        \n",
    "        if record.exc_info:\n",
    "            log_record['exception'] = self.formatException(record.exc_info)\n",
    "\n",
    "        output = json.dumps(log_record) + ','\n",
    "\n",
    "        output = output[:self.find(output, '\"')[-1]] + '' + output[self.find(output, '\"')[-1]+1:]\n",
    "        output = output[:self.find(output, '\"')[-1]] + '' + output[self.find(output, '\"')[-1]+1:]\n",
    "\n",
    "        output = output.replace(\"'\",'\"')\n",
    "        \n",
    "        return output\n",
    "\n",
    "json_handler = FileHandler('test_logs.log')\n",
    "json_handler.setLevel(logging.INFO)\n",
    "json_formatter = JsonFormatter()\n",
    "json_handler.setFormatter(json_formatter)\n",
    "\n",
    "logger = logging.getLogger(__name__)\n",
    "logger.addHandler(json_handler)\n",
    "logging.getLogger().setLevel(logging.INFO)"
   ]
  },
  {
   "cell_type": "code",
   "execution_count": 3,
   "id": "7765ab8c-a6f6-4ac0-ad7b-c136f7e491f3",
   "metadata": {},
   "outputs": [],
   "source": [
    "def log_model(model=None, score=-1, acc=-1, std=-1, model_name='', serialize=False, dataset=''):\n",
    "\n",
    "    if not isinstance(model, list):\n",
    "        json_dict = { 'model_name' : model.__repr__() if (model_name == '') else model_name }\n",
    "    else:\n",
    "        json_dict = { 'model_name' : 'Unidentified model' if (model_name == '') else model_name }\n",
    "    \n",
    "    if score != -1:\n",
    "        json_dict['score'] = score\n",
    "    if acc != -1:\n",
    "        json_dict['acc'] = acc\n",
    "    if std != -1:\n",
    "        json_dict['std'] = std\n",
    "        \n",
    "    if serialize == True:\n",
    "        try:\n",
    "    \n",
    "            dir_name = hashlib.md5(int(time.time()*1000).to_bytes(8, 'big', signed=True)).hexdigest()[:10]\n",
    "            os.mkdir(f'./objects/{dir_name}')\n",
    "            \n",
    "            if isinstance(model, list):\n",
    "    \n",
    "                for i,m in enumerate(model):\n",
    "    \n",
    "                    filehandler = open(f\"objects/{dir_name}/{i+1}.obj\",\"wb\")\n",
    "                    cloudpickle.dump(m, filehandler)\n",
    "                    filehandler.close()\n",
    "                    json_dict['obj'] = f'objects/{dir_name}/1.obj'\n",
    "                \n",
    "            else:\n",
    "                filehandler = open(f\"objects/{dir_name}/1.obj\",\"wb\")\n",
    "                cloudpickle.dump(model, filehandler)\n",
    "                filehandler.close()\n",
    "                json_dict['obj'] = f'objects/{dir_name}/1.obj'\n",
    "        except Exception as e: \n",
    "            #print(\"Error with object serialization\")\n",
    "            print(e)\n",
    "            \n",
    "    if dataset != '':\n",
    "        json_dict['dataset'] = dataset\n",
    "\n",
    "    return json_dict"
   ]
  },
  {
   "cell_type": "code",
   "execution_count": 5,
   "id": "32adcc69-9d7d-4955-a54b-5be5583839b2",
   "metadata": {},
   "outputs": [],
   "source": [
    "logger.info(\"{'model_name':'test'}\")"
   ]
  },
  {
   "cell_type": "markdown",
   "id": "6c590d8f-30eb-4bf2-89a8-cc23869b8073",
   "metadata": {},
   "source": [
    "# <span style=\"color:red\"> mulearn"
   ]
  },
  {
   "cell_type": "code",
   "execution_count": 6,
   "id": "2f709810-b83d-45cd-a72a-63be3b9c2498",
   "metadata": {},
   "outputs": [
    {
     "name": "stderr",
     "output_type": "stream",
     "text": [
      "tensorflow not available\n",
      "torch not available\n",
      "tensorflow not available\n",
      "torch not available\n"
     ]
    }
   ],
   "source": [
    "from importlib import reload\n",
    "\n",
    "import __init__\n",
    "import distributions\n",
    "import kernel\n",
    "import fuzzifier\n",
    "import optimization\n",
    "\n",
    "reload(__init__)\n",
    "reload(distributions)\n",
    "reload(kernel)\n",
    "reload(fuzzifier)\n",
    "reload(optimization)\n",
    "\n",
    "from __init__ import *\n",
    "from distributions import *\n",
    "from kernel import *\n",
    "from fuzzifier import *\n",
    "from optimization import *"
   ]
  },
  {
   "cell_type": "markdown",
   "id": "dce240c7-22dd-4c75-9e1f-6e3045dac581",
   "metadata": {},
   "source": [
    "## Synthetic datasets"
   ]
  },
  {
   "cell_type": "markdown",
   "id": "d1fd219e-5419-45fe-9973-349705407dd4",
   "metadata": {},
   "source": [
    "### Gaussian"
   ]
  },
  {
   "cell_type": "code",
   "execution_count": 2,
   "id": "d41ebe56-fe2d-42a4-a79d-23e179b5d139",
   "metadata": {},
   "outputs": [],
   "source": [
    "dataset = pd.read_csv(\"datasets/synthetic_datasets/gaussian.csv\").drop('Unnamed: 0', axis=1)"
   ]
  },
  {
   "cell_type": "code",
   "execution_count": 5,
   "id": "45ad1ac0-0df2-4512-882b-b5cab0b01c14",
   "metadata": {},
   "outputs": [],
   "source": [
    "parameters = {'c' : [x for x in np.logspace(-2,2,5)],\n",
    "              'k' : [GaussianKernel(sigma=x) for x in np.logspace(-2,2,5)],\n",
    "              'fuzzifier' : [ExponentialFuzzifier(profile='fixed'),\n",
    "                             ExponentialFuzzifier(profile='infer')] +\n",
    "                             [ExponentialFuzzifier(profile='alpha',alpha=x) for x in np.logspace(-2,0,3)]}\n",
    "\n",
    "model = FuzzyInductor(solver=GurobiSolver(adjustment='auto'))\n",
    "\n",
    "clf = GridSearchCV(model, parameters, verbose=0, n_jobs=-1, refit=True)"
   ]
  },
  {
   "cell_type": "code",
   "execution_count": null,
   "id": "21554eac-5b17-41d0-a0ab-ca85b4adf17e",
   "metadata": {
    "scrolled": true
   },
   "outputs": [],
   "source": [
    "clf.fit(np.array(dataset.X).reshape(-1,1), dataset.y)"
   ]
  },
  {
   "cell_type": "code",
   "execution_count": 7,
   "id": "bc5887b3-85cf-4be5-968d-f7b74675e7ae",
   "metadata": {},
   "outputs": [
    {
     "data": {
      "text/html": [
       "<style>#sk-container-id-2 {color: black;background-color: white;}#sk-container-id-2 pre{padding: 0;}#sk-container-id-2 div.sk-toggleable {background-color: white;}#sk-container-id-2 label.sk-toggleable__label {cursor: pointer;display: block;width: 100%;margin-bottom: 0;padding: 0.3em;box-sizing: border-box;text-align: center;}#sk-container-id-2 label.sk-toggleable__label-arrow:before {content: \"▸\";float: left;margin-right: 0.25em;color: #696969;}#sk-container-id-2 label.sk-toggleable__label-arrow:hover:before {color: black;}#sk-container-id-2 div.sk-estimator:hover label.sk-toggleable__label-arrow:before {color: black;}#sk-container-id-2 div.sk-toggleable__content {max-height: 0;max-width: 0;overflow: hidden;text-align: left;background-color: #f0f8ff;}#sk-container-id-2 div.sk-toggleable__content pre {margin: 0.2em;color: black;border-radius: 0.25em;background-color: #f0f8ff;}#sk-container-id-2 input.sk-toggleable__control:checked~div.sk-toggleable__content {max-height: 200px;max-width: 100%;overflow: auto;}#sk-container-id-2 input.sk-toggleable__control:checked~label.sk-toggleable__label-arrow:before {content: \"▾\";}#sk-container-id-2 div.sk-estimator input.sk-toggleable__control:checked~label.sk-toggleable__label {background-color: #d4ebff;}#sk-container-id-2 div.sk-label input.sk-toggleable__control:checked~label.sk-toggleable__label {background-color: #d4ebff;}#sk-container-id-2 input.sk-hidden--visually {border: 0;clip: rect(1px 1px 1px 1px);clip: rect(1px, 1px, 1px, 1px);height: 1px;margin: -1px;overflow: hidden;padding: 0;position: absolute;width: 1px;}#sk-container-id-2 div.sk-estimator {font-family: monospace;background-color: #f0f8ff;border: 1px dotted black;border-radius: 0.25em;box-sizing: border-box;margin-bottom: 0.5em;}#sk-container-id-2 div.sk-estimator:hover {background-color: #d4ebff;}#sk-container-id-2 div.sk-parallel-item::after {content: \"\";width: 100%;border-bottom: 1px solid gray;flex-grow: 1;}#sk-container-id-2 div.sk-label:hover label.sk-toggleable__label {background-color: #d4ebff;}#sk-container-id-2 div.sk-serial::before {content: \"\";position: absolute;border-left: 1px solid gray;box-sizing: border-box;top: 0;bottom: 0;left: 50%;z-index: 0;}#sk-container-id-2 div.sk-serial {display: flex;flex-direction: column;align-items: center;background-color: white;padding-right: 0.2em;padding-left: 0.2em;position: relative;}#sk-container-id-2 div.sk-item {position: relative;z-index: 1;}#sk-container-id-2 div.sk-parallel {display: flex;align-items: stretch;justify-content: center;background-color: white;position: relative;}#sk-container-id-2 div.sk-item::before, #sk-container-id-2 div.sk-parallel-item::before {content: \"\";position: absolute;border-left: 1px solid gray;box-sizing: border-box;top: 0;bottom: 0;left: 50%;z-index: -1;}#sk-container-id-2 div.sk-parallel-item {display: flex;flex-direction: column;z-index: 1;position: relative;background-color: white;}#sk-container-id-2 div.sk-parallel-item:first-child::after {align-self: flex-end;width: 50%;}#sk-container-id-2 div.sk-parallel-item:last-child::after {align-self: flex-start;width: 50%;}#sk-container-id-2 div.sk-parallel-item:only-child::after {width: 0;}#sk-container-id-2 div.sk-dashed-wrapped {border: 1px dashed gray;margin: 0 0.4em 0.5em 0.4em;box-sizing: border-box;padding-bottom: 0.4em;background-color: white;}#sk-container-id-2 div.sk-label label {font-family: monospace;font-weight: bold;display: inline-block;line-height: 1.2em;}#sk-container-id-2 div.sk-label-container {text-align: center;}#sk-container-id-2 div.sk-container {/* jupyter's `normalize.less` sets `[hidden] { display: none; }` but bootstrap.min.css set `[hidden] { display: none !important; }` so we also need the `!important` here to be able to override the default hidden behavior on the sphinx rendered scikit-learn.org. See: https://github.com/scikit-learn/scikit-learn/issues/21755 */display: inline-block !important;position: relative;}#sk-container-id-2 div.sk-text-repr-fallback {display: none;}</style><div id=\"sk-container-id-2\" class=\"sk-top-container\"><div class=\"sk-text-repr-fallback\"><pre>FuzzyInductor(c=10.0, k=GaussianKernel(sigma=10.0), f=ExponentialFuzzifier(profile=infer), solver=GurobiSolver(, adjustment=auto))</pre><b>In a Jupyter environment, please rerun this cell to show the HTML representation or trust the notebook. <br />On GitHub, the HTML representation is unable to render, please try loading this page with nbviewer.org.</b></div><div class=\"sk-container\" hidden><div class=\"sk-item\"><div class=\"sk-estimator sk-toggleable\"><input class=\"sk-toggleable__control sk-hidden--visually\" id=\"sk-estimator-id-4\" type=\"checkbox\" checked><label for=\"sk-estimator-id-4\" class=\"sk-toggleable__label sk-toggleable__label-arrow\">FuzzyInductor</label><div class=\"sk-toggleable__content\"><pre>FuzzyInductor(c=10.0, k=GaussianKernel(sigma=10.0), f=ExponentialFuzzifier(profile=infer), solver=GurobiSolver(, adjustment=auto))</pre></div></div></div></div></div>"
      ],
      "text/plain": [
       "FuzzyInductor(c=10.0, k=GaussianKernel(sigma=10.0), f=ExponentialFuzzifier(profile=infer), solver=GurobiSolver(, adjustment=auto))"
      ]
     },
     "execution_count": 7,
     "metadata": {},
     "output_type": "execute_result"
    }
   ],
   "source": [
    "model = clf.best_estimator_\n",
    "model.fit(np.array(dataset.X).reshape(-1,1), dataset.y)"
   ]
  },
  {
   "cell_type": "code",
   "execution_count": 12,
   "id": "c24aa6f0-cdf4-41bc-b513-3a3b56be3654",
   "metadata": {},
   "outputs": [
    {
     "data": {
      "image/png": "[encoded data removed]",
      "text/plain": [
       "<Figure size 640x480 with 1 Axes>"
      ]
     },
     "metadata": {},
     "output_type": "display_data"
    }
   ],
   "source": [
    "plt.plot(X_test2_g[0], model.predict(X_test2_g[0].reshape(-1,1)), color=\"blue\", label=\"learnt f.\")\n",
    "plt.plot(X_test2_g[1], model.predict(X_test2_g[1].reshape(-1,1)), color=\"blue\")\n",
    "plt.plot(X_test2_g[2], model.predict(X_test2_g[2].reshape(-1,1)), color=\"blue\")\n",
    "\n",
    "plt.plot(X_test2_g[0], gaussian(X_test2_g[0], np.var(X_test)), color=\"red\", label=\"original f.\")\n",
    "plt.plot(X_test2_g[1], gaussian(X_test2_g[1], np.var(X_test)), color=\"red\")\n",
    "plt.plot(X_test2_g[2], gaussian(X_test2_g[2], np.var(X_test)), color=\"red\")\n",
    "\n",
    "plt.legend(loc=\"upper right\")\n",
    "\n",
    "plt.show()"
   ]
  },
  {
   "cell_type": "code",
   "execution_count": 13,
   "id": "8b567bf7-9d3c-4d22-af42-3e333dd6569e",
   "metadata": {
    "scrolled": true
   },
   "outputs": [
    {
     "data": {
      "text/plain": [
       "0.004601664822032125"
      ]
     },
     "execution_count": 13,
     "metadata": {},
     "output_type": "execute_result"
    }
   ],
   "source": [
    "err = np.sum(step*(np.abs(np.array(model.predict(X_test.reshape(-1,1))) - gaussian(X_test, np.var(X_test)))))\n",
    "err"
   ]
  },
  {
   "cell_type": "code",
   "execution_count": 14,
   "id": "0bc457d8-e68a-48f6-ab2f-003722455087",
   "metadata": {},
   "outputs": [],
   "source": [
    "logger.info(log_model(model=model, score=err, dataset='gaussian', serialize=True))"
   ]
  },
  {
   "cell_type": "code",
   "execution_count": 8,
   "id": "eee99d50-e3fb-4d1b-91a5-9b65d7107704",
   "metadata": {},
   "outputs": [
    {
     "name": "stdout",
     "output_type": "stream",
     "text": [
      "Integral: 333.3333333333333\n",
      "Integral estim. 333.3383334000009\n"
     ]
    }
   ],
   "source": [
    "f = lambda x : x**2\n",
    "X = np.linspace(0,10,100000)\n",
    "print(\"Integral:\", ((10**3)/3))\n",
    "print(\"Integral estim.\", np.sum((X[-1]-X[0])/(len(X)-1)*np.array(f(X))))"
   ]
  },
  {
   "cell_type": "markdown",
   "id": "8c3a1844-7901-42a2-bf93-5c1c9e4260cc",
   "metadata": {},
   "source": [
    "### Trapezoidal"
   ]
  },
  {
   "cell_type": "code",
   "execution_count": 15,
   "id": "e93418e0-10f3-4e51-a5f9-70385ca6fdda",
   "metadata": {},
   "outputs": [],
   "source": [
    "dataset = pd.read_csv(\"datasets/synthetic_datasets/trapezoidal.csv\").drop('Unnamed: 0', axis=1)"
   ]
  },
  {
   "cell_type": "code",
   "execution_count": 16,
   "id": "812e5016-ba1d-4867-adf6-817ae6b47d70",
   "metadata": {},
   "outputs": [],
   "source": [
    "parameters_linear = {'c' : [x for x in np.logspace(-2,2,5)],\n",
    "                     'k' : [LinearKernel()],\n",
    "                     'fuzzifier' : [LinearFuzzifier(profile='infer'), LinearFuzzifier(profile='fixed')]}\n",
    "\n",
    "parameters_polynomial = {'c' : [x for x in np.logspace(-2,2,5)],\n",
    "                         'k' : [PolynomialKernel(degree=x) for x in (2,3,4)],\n",
    "                         'fuzzifier' : [LinearFuzzifier(profile='infer'), LinearFuzzifier(profile='fixed')]}\n",
    "\n",
    "parameters = [parameters_linear, parameters_polynomial]\n",
    "\n",
    "model = FuzzyInductor(solver=GurobiSolver(adjustment='auto'))\n",
    "\n",
    "clf = GridSearchCV(model, parameters, verbose=0, n_jobs=-1, refit=True)"
   ]
  },
  {
   "cell_type": "code",
   "execution_count": null,
   "id": "17b18b14-c051-45ff-8c4e-3f47b7b822cc",
   "metadata": {
    "scrolled": true
   },
   "outputs": [],
   "source": [
    "clf.fit(np.array(dataset.X).reshape(-1,1), dataset.y)"
   ]
  },
  {
   "cell_type": "code",
   "execution_count": 18,
   "id": "8f4f9d36-a280-494f-b807-e83c0b9b7494",
   "metadata": {},
   "outputs": [
    {
     "data": {
      "text/html": [
       "<style>#sk-container-id-4 {color: black;background-color: white;}#sk-container-id-4 pre{padding: 0;}#sk-container-id-4 div.sk-toggleable {background-color: white;}#sk-container-id-4 label.sk-toggleable__label {cursor: pointer;display: block;width: 100%;margin-bottom: 0;padding: 0.3em;box-sizing: border-box;text-align: center;}#sk-container-id-4 label.sk-toggleable__label-arrow:before {content: \"▸\";float: left;margin-right: 0.25em;color: #696969;}#sk-container-id-4 label.sk-toggleable__label-arrow:hover:before {color: black;}#sk-container-id-4 div.sk-estimator:hover label.sk-toggleable__label-arrow:before {color: black;}#sk-container-id-4 div.sk-toggleable__content {max-height: 0;max-width: 0;overflow: hidden;text-align: left;background-color: #f0f8ff;}#sk-container-id-4 div.sk-toggleable__content pre {margin: 0.2em;color: black;border-radius: 0.25em;background-color: #f0f8ff;}#sk-container-id-4 input.sk-toggleable__control:checked~div.sk-toggleable__content {max-height: 200px;max-width: 100%;overflow: auto;}#sk-container-id-4 input.sk-toggleable__control:checked~label.sk-toggleable__label-arrow:before {content: \"▾\";}#sk-container-id-4 div.sk-estimator input.sk-toggleable__control:checked~label.sk-toggleable__label {background-color: #d4ebff;}#sk-container-id-4 div.sk-label input.sk-toggleable__control:checked~label.sk-toggleable__label {background-color: #d4ebff;}#sk-container-id-4 input.sk-hidden--visually {border: 0;clip: rect(1px 1px 1px 1px);clip: rect(1px, 1px, 1px, 1px);height: 1px;margin: -1px;overflow: hidden;padding: 0;position: absolute;width: 1px;}#sk-container-id-4 div.sk-estimator {font-family: monospace;background-color: #f0f8ff;border: 1px dotted black;border-radius: 0.25em;box-sizing: border-box;margin-bottom: 0.5em;}#sk-container-id-4 div.sk-estimator:hover {background-color: #d4ebff;}#sk-container-id-4 div.sk-parallel-item::after {content: \"\";width: 100%;border-bottom: 1px solid gray;flex-grow: 1;}#sk-container-id-4 div.sk-label:hover label.sk-toggleable__label {background-color: #d4ebff;}#sk-container-id-4 div.sk-serial::before {content: \"\";position: absolute;border-left: 1px solid gray;box-sizing: border-box;top: 0;bottom: 0;left: 50%;z-index: 0;}#sk-container-id-4 div.sk-serial {display: flex;flex-direction: column;align-items: center;background-color: white;padding-right: 0.2em;padding-left: 0.2em;position: relative;}#sk-container-id-4 div.sk-item {position: relative;z-index: 1;}#sk-container-id-4 div.sk-parallel {display: flex;align-items: stretch;justify-content: center;background-color: white;position: relative;}#sk-container-id-4 div.sk-item::before, #sk-container-id-4 div.sk-parallel-item::before {content: \"\";position: absolute;border-left: 1px solid gray;box-sizing: border-box;top: 0;bottom: 0;left: 50%;z-index: -1;}#sk-container-id-4 div.sk-parallel-item {display: flex;flex-direction: column;z-index: 1;position: relative;background-color: white;}#sk-container-id-4 div.sk-parallel-item:first-child::after {align-self: flex-end;width: 50%;}#sk-container-id-4 div.sk-parallel-item:last-child::after {align-self: flex-start;width: 50%;}#sk-container-id-4 div.sk-parallel-item:only-child::after {width: 0;}#sk-container-id-4 div.sk-dashed-wrapped {border: 1px dashed gray;margin: 0 0.4em 0.5em 0.4em;box-sizing: border-box;padding-bottom: 0.4em;background-color: white;}#sk-container-id-4 div.sk-label label {font-family: monospace;font-weight: bold;display: inline-block;line-height: 1.2em;}#sk-container-id-4 div.sk-label-container {text-align: center;}#sk-container-id-4 div.sk-container {/* jupyter's `normalize.less` sets `[hidden] { display: none; }` but bootstrap.min.css set `[hidden] { display: none !important; }` so we also need the `!important` here to be able to override the default hidden behavior on the sphinx rendered scikit-learn.org. See: https://github.com/scikit-learn/scikit-learn/issues/21755 */display: inline-block !important;position: relative;}#sk-container-id-4 div.sk-text-repr-fallback {display: none;}</style><div id=\"sk-container-id-4\" class=\"sk-top-container\"><div class=\"sk-text-repr-fallback\"><pre>FuzzyInductor(c=0.1, k=LinearKernel(), f=LinearFuzzifier(profile=infer), solver=GurobiSolver(, adjustment=auto))</pre><b>In a Jupyter environment, please rerun this cell to show the HTML representation or trust the notebook. <br />On GitHub, the HTML representation is unable to render, please try loading this page with nbviewer.org.</b></div><div class=\"sk-container\" hidden><div class=\"sk-item\"><div class=\"sk-estimator sk-toggleable\"><input class=\"sk-toggleable__control sk-hidden--visually\" id=\"sk-estimator-id-8\" type=\"checkbox\" checked><label for=\"sk-estimator-id-8\" class=\"sk-toggleable__label sk-toggleable__label-arrow\">FuzzyInductor</label><div class=\"sk-toggleable__content\"><pre>FuzzyInductor(c=0.1, k=LinearKernel(), f=LinearFuzzifier(profile=infer), solver=GurobiSolver(, adjustment=auto))</pre></div></div></div></div></div>"
      ],
      "text/plain": [
       "FuzzyInductor(c=0.1, k=LinearKernel(), f=LinearFuzzifier(profile=infer), solver=GurobiSolver(, adjustment=auto))"
      ]
     },
     "execution_count": 18,
     "metadata": {},
     "output_type": "execute_result"
    }
   ],
   "source": [
    "model = clf.best_estimator_\n",
    "model.fit(np.array(dataset.X).reshape(-1,1), dataset.y)"
   ]
  },
  {
   "cell_type": "code",
   "execution_count": 19,
   "id": "0b96c005-4140-4def-9b14-1b0b8a9d51ce",
   "metadata": {},
   "outputs": [
    {
     "data": {
      "image/png": "[encoded data removed]",
      "text/plain": [
       "<Figure size 640x480 with 1 Axes>"
      ]
     },
     "metadata": {},
     "output_type": "display_data"
    }
   ],
   "source": [
    "plt.plot(X_test2_t[0], model.predict(X_test2_t[0].reshape(-1,1)), color=\"blue\", label=\"learnt f.\")\n",
    "plt.plot(X_test2_t[1], model.predict(X_test2_t[1].reshape(-1,1)), color=\"blue\")\n",
    "plt.plot(X_test2_t[2], model.predict(X_test2_t[2].reshape(-1,1)), color=\"blue\")\n",
    "\n",
    "plt.plot(X_test2_t[0], [trapezoidal(x) for x in X_test2_t[0]], color=\"red\", label=\"original f.\")\n",
    "plt.plot(X_test2_t[1], [trapezoidal(x) for x in X_test2_t[1]], color=\"red\")\n",
    "plt.plot(X_test2_t[2], [trapezoidal(x) for x in X_test2_t[2]], color=\"red\")\n",
    "\n",
    "plt.legend(loc=\"upper right\")\n",
    "\n",
    "plt.show()"
   ]
  },
  {
   "cell_type": "code",
   "execution_count": 20,
   "id": "f0b17ce5-5036-4cff-9a93-6048e8a93570",
   "metadata": {
    "scrolled": true
   },
   "outputs": [
    {
     "data": {
      "text/plain": [
       "0.0007379405464744573"
      ]
     },
     "execution_count": 20,
     "metadata": {},
     "output_type": "execute_result"
    }
   ],
   "source": [
    "err = np.sum(step*(np.abs(np.array(model.predict(X_test.reshape(-1,1))) - [trapezoidal(x) for x in X_test])))\n",
    "err"
   ]
  },
  {
   "cell_type": "code",
   "execution_count": 21,
   "id": "0bc96a74-99ee-49f6-ae47-df2bc54e3cbc",
   "metadata": {},
   "outputs": [],
   "source": [
    "logger.info(log_model(model=model, score=err, dataset='trapezoidal', serialize=True))"
   ]
  },
  {
   "cell_type": "markdown",
   "id": "a7ae4931-bc47-43d7-8bed-1af29ddb919c",
   "metadata": {},
   "source": [
    "## Breast cancer"
   ]
  },
  {
   "cell_type": "code",
   "execution_count": 6,
   "id": "d2554b41-5ec7-4c5c-b5ad-dba087a1f453",
   "metadata": {},
   "outputs": [],
   "source": [
    "dataset_bc = load_breast_cancer()"
   ]
  },
  {
   "cell_type": "code",
   "execution_count": 7,
   "id": "f141183c-8c06-44ab-9bed-98874cf686e4",
   "metadata": {},
   "outputs": [],
   "source": [
    "parameters_linear = {'c' : [x for x in np.logspace(-2,2,5)],\n",
    "                     'k' : [LinearKernel()],\n",
    "                     'fuzzifier' : [LinearFuzzifier(profile='infer'), LinearFuzzifier(profile='fixed')]}\n",
    "\n",
    "parameters_polynomial = {'c' : [x for x in np.logspace(-2,2,5)],\n",
    "                         'k' : [PolynomialKernel(degree=x) for x in (2,3,4)],\n",
    "                         'fuzzifier' : [LinearFuzzifier(profile='infer'), LinearFuzzifier(profile='fixed')]}\n",
    "\n",
    "parameters_gaussian = {'c' : [x for x in np.logspace(-2,2,5)],\n",
    "                       'k' : [GaussianKernel(sigma=x) for x in np.logspace(-2,2,5)],\n",
    "                       'fuzzifier' : [ExponentialFuzzifier(profile='fixed'), ExponentialFuzzifier(profile='infer')] +\n",
    "                                     [ExponentialFuzzifier(profile='alpha',alpha=x) for x in np.logspace(-2,0,3)]}"
   ]
  },
  {
   "cell_type": "code",
   "execution_count": 8,
   "id": "20de6ba6-0818-4ce3-9813-d8bf547ed0ee",
   "metadata": {},
   "outputs": [],
   "source": [
    "model = FuzzyInductor(solver=GurobiSolver(adjustment='auto'))"
   ]
  },
  {
   "cell_type": "code",
   "execution_count": null,
   "id": "0db89da8-35ea-409c-8188-a450f951953b",
   "metadata": {
    "scrolled": true
   },
   "outputs": [],
   "source": [
    "outer_cv_scores = []\n",
    "outer_cv_params = []\n",
    "inner_cv = StratifiedKFold(n_splits=5)\n",
    "outer_cv = StratifiedKFold(n_splits=5)\n",
    "\n",
    "best_models = []\n",
    "\n",
    "for train, test in tqdm.tqdm(outer_cv.split(dataset_bc.data, dataset_bc.target)):\n",
    "\n",
    "    clf = GridSearchCV(estimator=model, param_grid=[parameters_linear, \n",
    "                                                    parameters_polynomial, \n",
    "                                                    parameters_gaussian], \n",
    "                       cv=inner_cv, n_jobs=-1, verbose=0, refit=True)\n",
    "    \n",
    "    clf.fit(dataset_bc.data[train], dataset_bc.target[train])\n",
    "\n",
    "    m = clf.best_estimator_\n",
    "\n",
    "    best_acc = 0\n",
    "    for alpha in np.linspace(0.1,0.9,9):\n",
    "        acc = accuracy_score(y_pred=m.predict(dataset_bc.data[train], alpha=alpha), y_true=dataset_bc.target[train])\n",
    "        if acc > best_acc:\n",
    "            best_alpha = alpha\n",
    "\n",
    "    outer_cv_params.append(m.__repr__())\n",
    "    acc_score = accuracy_score(y_pred=m.predict(dataset_bc.data[test], alpha=best_alpha), y_true=dataset_bc.target[test])\n",
    "    outer_cv_scores.append(acc_score)\n",
    "    \n",
    "    best_models.append((m, acc_score, best_alpha))\n",
    "\n",
    "score = [np.mean(outer_cv_scores), np.std(outer_cv_scores)]\n",
    "\n",
    "best_models = sorted(best_models, key=lambda x:x[1], reverse=True)"
   ]
  },
  {
   "cell_type": "code",
   "execution_count": 10,
   "id": "8f119f90-46fd-4fba-8326-135938948130",
   "metadata": {},
   "outputs": [
    {
     "data": {
      "text/plain": [
       "[0.9049681726439994, 0.04396131014634527]"
      ]
     },
     "execution_count": 10,
     "metadata": {},
     "output_type": "execute_result"
    }
   ],
   "source": [
    "score"
   ]
  },
  {
   "cell_type": "code",
   "execution_count": 11,
   "id": "18ece51f-f626-4e91-b850-f72c0fc1a49e",
   "metadata": {},
   "outputs": [
    {
     "data": {
      "text/plain": [
       "[0.9385964912280702,\n",
       " 0.9298245614035088,\n",
       " 0.9473684210526315,\n",
       " 0.8771929824561403,\n",
       " 0.831858407079646]"
      ]
     },
     "execution_count": 11,
     "metadata": {},
     "output_type": "execute_result"
    }
   ],
   "source": [
    "outer_cv_scores"
   ]
  },
  {
   "cell_type": "code",
   "execution_count": 12,
   "id": "7c20f569-a81e-4298-9bbf-b6ea1596ac3b",
   "metadata": {},
   "outputs": [
    {
     "data": {
      "text/plain": [
       "['FuzzyInductor(c=100.0, k=PolynomialKernel(2), f=LinearFuzzifier(profile=infer), solver=GurobiSolver(, adjustment=auto))',\n",
       " 'FuzzyInductor(c=100.0, k=LinearKernel(), f=LinearFuzzifier(profile=infer), solver=GurobiSolver(, adjustment=auto))',\n",
       " 'FuzzyInductor(c=100.0, k=PolynomialKernel(2), f=LinearFuzzifier(profile=infer), solver=GurobiSolver(, adjustment=auto))',\n",
       " 'FuzzyInductor(c=100.0, k=LinearKernel(), f=LinearFuzzifier(profile=infer), solver=GurobiSolver(, adjustment=auto))',\n",
       " 'FuzzyInductor(c=100.0, k=LinearKernel(), f=LinearFuzzifier(profile=infer), solver=GurobiSolver(, adjustment=auto))']"
      ]
     },
     "execution_count": 12,
     "metadata": {},
     "output_type": "execute_result"
    }
   ],
   "source": [
    "outer_cv_params"
   ]
  },
  {
   "cell_type": "code",
   "execution_count": 13,
   "id": "0e1c9010-9c49-4163-81d5-b6cc8d6ea480",
   "metadata": {},
   "outputs": [
    {
     "data": {
      "text/plain": [
       "[(FuzzyInductor(c=100.0, k=PolynomialKernel(2), f=LinearFuzzifier(profile=infer), solver=GurobiSolver(, adjustment=auto)),\n",
       "  0.9473684210526315,\n",
       "  0.9),\n",
       " (FuzzyInductor(c=100.0, k=PolynomialKernel(2), f=LinearFuzzifier(profile=infer), solver=GurobiSolver(, adjustment=auto)),\n",
       "  0.9385964912280702,\n",
       "  0.9),\n",
       " (FuzzyInductor(c=100.0, k=LinearKernel(), f=LinearFuzzifier(profile=infer), solver=GurobiSolver(, adjustment=auto)),\n",
       "  0.9298245614035088,\n",
       "  0.9),\n",
       " (FuzzyInductor(c=100.0, k=LinearKernel(), f=LinearFuzzifier(profile=infer), solver=GurobiSolver(, adjustment=auto)),\n",
       "  0.8771929824561403,\n",
       "  0.9),\n",
       " (FuzzyInductor(c=100.0, k=LinearKernel(), f=LinearFuzzifier(profile=infer), solver=GurobiSolver(, adjustment=auto)),\n",
       "  0.831858407079646,\n",
       "  0.9)]"
      ]
     },
     "execution_count": 13,
     "metadata": {},
     "output_type": "execute_result"
    }
   ],
   "source": [
    "best_models"
   ]
  },
  {
   "cell_type": "code",
   "execution_count": 14,
   "id": "11300d41-ca21-450a-97b4-10551f08aace",
   "metadata": {},
   "outputs": [],
   "source": [
    "logger.info(log_model(model=best_models, model_name='mulearn', acc=score[0], std=score[1], dataset='breast_cancer', serialize=True))"
   ]
  },
  {
   "cell_type": "code",
   "execution_count": 82,
   "id": "7211edfd-48f1-4849-a10b-f94a5d9c76bf",
   "metadata": {},
   "outputs": [],
   "source": [
    "X_train, X_test, y_train, y_test = train_test_split(dataset_bc.data, dataset_bc.target, random_state=42)"
   ]
  },
  {
   "cell_type": "code",
   "execution_count": 81,
   "id": "9394312f-7c73-43a9-8710-d7b4dab980c4",
   "metadata": {},
   "outputs": [],
   "source": [
    "model = FuzzyInductor(c=100.0, k=LinearKernel(), fuzzifier=LinearFuzzifier(profile='infer'), solver=GurobiSolver(adjustment='auto'))"
   ]
  },
  {
   "cell_type": "code",
   "execution_count": 83,
   "id": "10e70aaa-19de-4626-965c-6025f3be4af2",
   "metadata": {},
   "outputs": [
    {
     "data": {
      "text/html": [
       "<style>#sk-container-id-7 {color: black;background-color: white;}#sk-container-id-7 pre{padding: 0;}#sk-container-id-7 div.sk-toggleable {background-color: white;}#sk-container-id-7 label.sk-toggleable__label {cursor: pointer;display: block;width: 100%;margin-bottom: 0;padding: 0.3em;box-sizing: border-box;text-align: center;}#sk-container-id-7 label.sk-toggleable__label-arrow:before {content: \"▸\";float: left;margin-right: 0.25em;color: #696969;}#sk-container-id-7 label.sk-toggleable__label-arrow:hover:before {color: black;}#sk-container-id-7 div.sk-estimator:hover label.sk-toggleable__label-arrow:before {color: black;}#sk-container-id-7 div.sk-toggleable__content {max-height: 0;max-width: 0;overflow: hidden;text-align: left;background-color: #f0f8ff;}#sk-container-id-7 div.sk-toggleable__content pre {margin: 0.2em;color: black;border-radius: 0.25em;background-color: #f0f8ff;}#sk-container-id-7 input.sk-toggleable__control:checked~div.sk-toggleable__content {max-height: 200px;max-width: 100%;overflow: auto;}#sk-container-id-7 input.sk-toggleable__control:checked~label.sk-toggleable__label-arrow:before {content: \"▾\";}#sk-container-id-7 div.sk-estimator input.sk-toggleable__control:checked~label.sk-toggleable__label {background-color: #d4ebff;}#sk-container-id-7 div.sk-label input.sk-toggleable__control:checked~label.sk-toggleable__label {background-color: #d4ebff;}#sk-container-id-7 input.sk-hidden--visually {border: 0;clip: rect(1px 1px 1px 1px);clip: rect(1px, 1px, 1px, 1px);height: 1px;margin: -1px;overflow: hidden;padding: 0;position: absolute;width: 1px;}#sk-container-id-7 div.sk-estimator {font-family: monospace;background-color: #f0f8ff;border: 1px dotted black;border-radius: 0.25em;box-sizing: border-box;margin-bottom: 0.5em;}#sk-container-id-7 div.sk-estimator:hover {background-color: #d4ebff;}#sk-container-id-7 div.sk-parallel-item::after {content: \"\";width: 100%;border-bottom: 1px solid gray;flex-grow: 1;}#sk-container-id-7 div.sk-label:hover label.sk-toggleable__label {background-color: #d4ebff;}#sk-container-id-7 div.sk-serial::before {content: \"\";position: absolute;border-left: 1px solid gray;box-sizing: border-box;top: 0;bottom: 0;left: 50%;z-index: 0;}#sk-container-id-7 div.sk-serial {display: flex;flex-direction: column;align-items: center;background-color: white;padding-right: 0.2em;padding-left: 0.2em;position: relative;}#sk-container-id-7 div.sk-item {position: relative;z-index: 1;}#sk-container-id-7 div.sk-parallel {display: flex;align-items: stretch;justify-content: center;background-color: white;position: relative;}#sk-container-id-7 div.sk-item::before, #sk-container-id-7 div.sk-parallel-item::before {content: \"\";position: absolute;border-left: 1px solid gray;box-sizing: border-box;top: 0;bottom: 0;left: 50%;z-index: -1;}#sk-container-id-7 div.sk-parallel-item {display: flex;flex-direction: column;z-index: 1;position: relative;background-color: white;}#sk-container-id-7 div.sk-parallel-item:first-child::after {align-self: flex-end;width: 50%;}#sk-container-id-7 div.sk-parallel-item:last-child::after {align-self: flex-start;width: 50%;}#sk-container-id-7 div.sk-parallel-item:only-child::after {width: 0;}#sk-container-id-7 div.sk-dashed-wrapped {border: 1px dashed gray;margin: 0 0.4em 0.5em 0.4em;box-sizing: border-box;padding-bottom: 0.4em;background-color: white;}#sk-container-id-7 div.sk-label label {font-family: monospace;font-weight: bold;display: inline-block;line-height: 1.2em;}#sk-container-id-7 div.sk-label-container {text-align: center;}#sk-container-id-7 div.sk-container {/* jupyter's `normalize.less` sets `[hidden] { display: none; }` but bootstrap.min.css set `[hidden] { display: none !important; }` so we also need the `!important` here to be able to override the default hidden behavior on the sphinx rendered scikit-learn.org. See: https://github.com/scikit-learn/scikit-learn/issues/21755 */display: inline-block !important;position: relative;}#sk-container-id-7 div.sk-text-repr-fallback {display: none;}</style><div id=\"sk-container-id-7\" class=\"sk-top-container\"><div class=\"sk-text-repr-fallback\"><pre>FuzzyInductor(c=100.0, k=LinearKernel(), f=LinearFuzzifier(profile=infer), solver=GurobiSolver(, adjustment=auto))</pre><b>In a Jupyter environment, please rerun this cell to show the HTML representation or trust the notebook. <br />On GitHub, the HTML representation is unable to render, please try loading this page with nbviewer.org.</b></div><div class=\"sk-container\" hidden><div class=\"sk-item\"><div class=\"sk-estimator sk-toggleable\"><input class=\"sk-toggleable__control sk-hidden--visually\" id=\"sk-estimator-id-7\" type=\"checkbox\" checked><label for=\"sk-estimator-id-7\" class=\"sk-toggleable__label sk-toggleable__label-arrow\">FuzzyInductor</label><div class=\"sk-toggleable__content\"><pre>FuzzyInductor(c=100.0, k=LinearKernel(), f=LinearFuzzifier(profile=infer), solver=GurobiSolver(, adjustment=auto))</pre></div></div></div></div></div>"
      ],
      "text/plain": [
       "FuzzyInductor(c=100.0, k=LinearKernel(), f=LinearFuzzifier(profile=infer), solver=GurobiSolver(, adjustment=auto))"
      ]
     },
     "execution_count": 83,
     "metadata": {},
     "output_type": "execute_result"
    }
   ],
   "source": [
    "model.fit(X_train, y_train)"
   ]
  },
  {
   "cell_type": "code",
   "execution_count": 85,
   "id": "393260d4-614b-452c-9632-33445fd61fcf",
   "metadata": {},
   "outputs": [
    {
     "data": {
      "text/plain": [
       "[0.965034965034965,\n",
       " 0.965034965034965,\n",
       " 0.972027972027972,\n",
       " 0.965034965034965,\n",
       " 0.965034965034965,\n",
       " 0.951048951048951,\n",
       " 0.9370629370629371,\n",
       " 0.9020979020979021,\n",
       " 0.8811188811188811]"
      ]
     },
     "execution_count": 85,
     "metadata": {},
     "output_type": "execute_result"
    }
   ],
   "source": [
    "[accuracy_score(y_pred=model.predict(X_test, alpha=x), y_true=y_test) for x in np.linspace(0.1,0.9,9)]"
   ]
  },
  {
   "cell_type": "code",
   "execution_count": 86,
   "id": "8a52991b-716c-49b5-818e-55181c2c5062",
   "metadata": {},
   "outputs": [],
   "source": [
    "res = model.predict(X_test, alpha=0.3)"
   ]
  },
  {
   "cell_type": "code",
   "execution_count": 87,
   "id": "6fae2550-73d6-4890-bb68-8c05bb9c7c96",
   "metadata": {},
   "outputs": [],
   "source": [
    "wrong_classified = []"
   ]
  },
  {
   "cell_type": "code",
   "execution_count": 88,
   "id": "ce4fa25e-93a6-4ec9-bb98-d525b7c74d6b",
   "metadata": {
    "scrolled": true
   },
   "outputs": [],
   "source": [
    "for i in range(len(X_test)):\n",
    "    if res[i] != y_test[i]:\n",
    "        wrong_classified.append(i)"
   ]
  },
  {
   "cell_type": "code",
   "execution_count": 89,
   "id": "2ed4e558-1a75-44ec-902a-8447fe76a4e7",
   "metadata": {
    "scrolled": true
   },
   "outputs": [
    {
     "data": {
      "text/plain": [
       "[20, 58, 77, 82]"
      ]
     },
     "execution_count": 89,
     "metadata": {},
     "output_type": "execute_result"
    }
   ],
   "source": [
    "wrong_classified"
   ]
  },
  {
   "cell_type": "code",
   "execution_count": 93,
   "id": "7daf530c-e360-4d5e-b7b0-307ecb84bc59",
   "metadata": {},
   "outputs": [
    {
     "data": {
      "text/plain": [
       "[(47, 0.5088691257572919),\n",
       " (82, 0.5561756989894904),\n",
       " (112, 0.5075429936388411),\n",
       " (120, 0.5416204248135945)]"
      ]
     },
     "execution_count": 93,
     "metadata": {},
     "output_type": "execute_result"
    }
   ],
   "source": [
    "[(i,x) for (i,x) in enumerate(model.predict(X_test)) if 0.4<=x<=0.6]"
   ]
  },
  {
   "cell_type": "markdown",
   "id": "0003c395-0f73-4021-8613-ae7de7185b03",
   "metadata": {},
   "source": [
    "## MNIST"
   ]
  },
  {
   "cell_type": "code",
   "execution_count": 21,
   "id": "71c613f3-ec2d-4b0f-ada8-699c1b003f43",
   "metadata": {},
   "outputs": [],
   "source": [
    "dataset = pd.read_json('datasets/MNIST/digit-2/mnist_full.json')"
   ]
  },
  {
   "cell_type": "code",
   "execution_count": 22,
   "id": "a60849d3-91f9-4d3a-a2ed-3602ecedea72",
   "metadata": {},
   "outputs": [],
   "source": [
    "X_train = np.array(dataset.X_train.dropna().to_list())\n",
    "y_train = np.array(dataset.y_train.dropna().to_list())\n",
    "X_test = np.array(dataset.X_test.to_list())\n",
    "y_test = np.array(dataset.y_test.to_list())"
   ]
  },
  {
   "cell_type": "code",
   "execution_count": 23,
   "id": "b588fb51-66bc-4a62-8e2d-f8af91f58ee5",
   "metadata": {},
   "outputs": [],
   "source": [
    "parameters_linear = {'c' : [x for x in np.logspace(-2,2,5)],\n",
    "                     'k' : [LinearKernel()],\n",
    "                     'fuzzifier' : [LinearFuzzifier(profile='infer'), LinearFuzzifier(profile='fixed')]}\n",
    "\n",
    "parameters_polynomial = {'c' : [x for x in np.logspace(-2,2,5)],\n",
    "                         'k' : [PolynomialKernel(degree=x) for x in (2,3,4)],\n",
    "                         'fuzzifier' : [LinearFuzzifier(profile='infer'), LinearFuzzifier(profile='fixed')]}\n",
    "\n",
    "parameters_gaussian = {'c' : [x for x in np.logspace(-2,2,5)],\n",
    "                       'k' : [GaussianKernel(sigma=x) for x in np.logspace(-2,2,5)],\n",
    "                       'fuzzifier' : [ExponentialFuzzifier(profile='fixed'), ExponentialFuzzifier(profile='infer')] +\n",
    "                                     [ExponentialFuzzifier(profile='alpha',alpha=x) for x in np.logspace(-2,0,3)]}\n",
    "\n",
    "params = [parameters_linear, parameters_polynomial, parameters_gaussian]"
   ]
  },
  {
   "cell_type": "code",
   "execution_count": 24,
   "id": "be3d973f-8c97-4eda-aa59-45194dc574bb",
   "metadata": {},
   "outputs": [],
   "source": [
    "model = FuzzyInductor(solver=GurobiSolver(adjustment='auto'))"
   ]
  },
  {
   "cell_type": "code",
   "execution_count": 10,
   "id": "2455a469-9ade-4360-93b9-a7fc97d68d89",
   "metadata": {},
   "outputs": [
    {
     "data": {
      "text/plain": [
       "{0: 100, 1: 100}"
      ]
     },
     "execution_count": 10,
     "metadata": {},
     "output_type": "execute_result"
    }
   ],
   "source": [
    "unique, counts = np.unique(y_train[800:1000], return_counts=True)\n",
    "dict(zip(unique, counts))"
   ]
  },
  {
   "cell_type": "code",
   "execution_count": null,
   "id": "6ce386bf-2db7-47a0-9891-6ad9823a3141",
   "metadata": {
    "scrolled": true
   },
   "outputs": [],
   "source": [
    "outer_cv_scores = []\n",
    "outer_cv_params = []\n",
    "inner_cv = StratifiedKFold(n_splits=5)\n",
    "outer_cv = StratifiedKFold(n_splits=5)\n",
    "\n",
    "best_models = []\n",
    "\n",
    "for train, test in tqdm.tqdm(outer_cv.split(X_train, y_train)):\n",
    "\n",
    "    clf = GridSearchCV(estimator=model, param_grid=params, \n",
    "                       cv=inner_cv, n_jobs=-1, verbose=0, refit=True)\n",
    "    \n",
    "    clf.fit(X_train[train], y_train[train])\n",
    "\n",
    "    m = clf.best_estimator_\n",
    "    \n",
    "    best_acc = 0\n",
    "    for alpha in np.linspace(0.1,0.9,9):\n",
    "        acc = accuracy_score(y_pred=m.predict(X_train[train], alpha=alpha), y_true=y_train[train])\n",
    "        if acc > best_acc:\n",
    "            best_alpha = alpha\n",
    "\n",
    "    outer_cv_params.append(m.__repr__())\n",
    "    acc_score = accuracy_score(y_pred=m.predict(X_train[test], alpha=best_alpha), y_true=y_train[test])\n",
    "    outer_cv_scores.append(acc_score)\n",
    "\n",
    "    best_models.append((m, acc_score, best_alpha))\n",
    "    \n",
    "\n",
    "score = [np.mean(outer_cv_scores), np.std(outer_cv_scores)]\n",
    "best_models = sorted(best_models, key=lambda x:x[1], reverse=True)"
   ]
  },
  {
   "cell_type": "code",
   "execution_count": 26,
   "id": "6922329c-b14b-4f73-bdc0-dcdae87f4a0f",
   "metadata": {},
   "outputs": [
    {
     "data": {
      "text/plain": [
       "[0.873, 0.016309506430300102]"
      ]
     },
     "execution_count": 26,
     "metadata": {},
     "output_type": "execute_result"
    }
   ],
   "source": [
    "score"
   ]
  },
  {
   "cell_type": "code",
   "execution_count": 27,
   "id": "76295e7f-b32d-474f-b9d0-61cf54c6af3f",
   "metadata": {},
   "outputs": [
    {
     "data": {
      "text/plain": [
       "[0.86, 0.89, 0.895, 0.855, 0.865]"
      ]
     },
     "execution_count": 27,
     "metadata": {},
     "output_type": "execute_result"
    }
   ],
   "source": [
    "outer_cv_scores"
   ]
  },
  {
   "cell_type": "code",
   "execution_count": 28,
   "id": "f056dfed-532f-4e64-8151-a27f47bbfc23",
   "metadata": {},
   "outputs": [
    {
     "data": {
      "text/plain": [
       "['FuzzyInductor(c=0.1, k=LinearKernel(), f=LinearFuzzifier(profile=infer), solver=GurobiSolver(, adjustment=auto))',\n",
       " 'FuzzyInductor(c=0.1, k=LinearKernel(), f=LinearFuzzifier(profile=infer), solver=GurobiSolver(, adjustment=auto))',\n",
       " 'FuzzyInductor(c=0.1, k=LinearKernel(), f=LinearFuzzifier(profile=infer), solver=GurobiSolver(, adjustment=auto))',\n",
       " 'FuzzyInductor(c=0.1, k=LinearKernel(), f=LinearFuzzifier(profile=infer), solver=GurobiSolver(, adjustment=auto))',\n",
       " 'FuzzyInductor(c=0.1, k=LinearKernel(), f=LinearFuzzifier(profile=infer), solver=GurobiSolver(, adjustment=auto))']"
      ]
     },
     "execution_count": 28,
     "metadata": {},
     "output_type": "execute_result"
    }
   ],
   "source": [
    "outer_cv_params"
   ]
  },
  {
   "cell_type": "code",
   "execution_count": 29,
   "id": "756981c8-9a69-430b-970c-71eb92319094",
   "metadata": {},
   "outputs": [
    {
     "data": {
      "text/plain": [
       "[(FuzzyInductor(c=0.1, k=LinearKernel(), f=LinearFuzzifier(profile=infer), solver=GurobiSolver(, adjustment=auto)),\n",
       "  0.895,\n",
       "  0.9),\n",
       " (FuzzyInductor(c=0.1, k=LinearKernel(), f=LinearFuzzifier(profile=infer), solver=GurobiSolver(, adjustment=auto)),\n",
       "  0.89,\n",
       "  0.9),\n",
       " (FuzzyInductor(c=0.1, k=LinearKernel(), f=LinearFuzzifier(profile=infer), solver=GurobiSolver(, adjustment=auto)),\n",
       "  0.865,\n",
       "  0.9),\n",
       " (FuzzyInductor(c=0.1, k=LinearKernel(), f=LinearFuzzifier(profile=infer), solver=GurobiSolver(, adjustment=auto)),\n",
       "  0.86,\n",
       "  0.9),\n",
       " (FuzzyInductor(c=0.1, k=LinearKernel(), f=LinearFuzzifier(profile=infer), solver=GurobiSolver(, adjustment=auto)),\n",
       "  0.855,\n",
       "  0.9)]"
      ]
     },
     "execution_count": 29,
     "metadata": {},
     "output_type": "execute_result"
    }
   ],
   "source": [
    "best_models"
   ]
  },
  {
   "cell_type": "code",
   "execution_count": null,
   "id": "bc9b2a4c-f826-4dea-9e8e-ae664211d5a7",
   "metadata": {
    "scrolled": true
   },
   "outputs": [],
   "source": [
    "logger.info(log_model(model=best_models, model_name='mulearn', acc=score[0], std=score[1], dataset='MNIST_FULL_2', serialize=True))"
   ]
  },
  {
   "cell_type": "code",
   "execution_count": 96,
   "id": "3b8c0f32-b54d-4b37-89b0-3ba152420cee",
   "metadata": {
    "scrolled": true
   },
   "outputs": [],
   "source": [
    "model = FuzzyInductor(c=1, k=PolynomialKernel(degree=2), fuzzifier=LinearFuzzifier(profile='infer'), solver=GurobiSolver(adjustment='auto'))"
   ]
  },
  {
   "cell_type": "code",
   "execution_count": 97,
   "id": "92c174d4-f046-433c-84cb-9ef2d47bc55c",
   "metadata": {},
   "outputs": [
    {
     "data": {
      "text/html": [
       "<style>#sk-container-id-9 {color: black;background-color: white;}#sk-container-id-9 pre{padding: 0;}#sk-container-id-9 div.sk-toggleable {background-color: white;}#sk-container-id-9 label.sk-toggleable__label {cursor: pointer;display: block;width: 100%;margin-bottom: 0;padding: 0.3em;box-sizing: border-box;text-align: center;}#sk-container-id-9 label.sk-toggleable__label-arrow:before {content: \"▸\";float: left;margin-right: 0.25em;color: #696969;}#sk-container-id-9 label.sk-toggleable__label-arrow:hover:before {color: black;}#sk-container-id-9 div.sk-estimator:hover label.sk-toggleable__label-arrow:before {color: black;}#sk-container-id-9 div.sk-toggleable__content {max-height: 0;max-width: 0;overflow: hidden;text-align: left;background-color: #f0f8ff;}#sk-container-id-9 div.sk-toggleable__content pre {margin: 0.2em;color: black;border-radius: 0.25em;background-color: #f0f8ff;}#sk-container-id-9 input.sk-toggleable__control:checked~div.sk-toggleable__content {max-height: 200px;max-width: 100%;overflow: auto;}#sk-container-id-9 input.sk-toggleable__control:checked~label.sk-toggleable__label-arrow:before {content: \"▾\";}#sk-container-id-9 div.sk-estimator input.sk-toggleable__control:checked~label.sk-toggleable__label {background-color: #d4ebff;}#sk-container-id-9 div.sk-label input.sk-toggleable__control:checked~label.sk-toggleable__label {background-color: #d4ebff;}#sk-container-id-9 input.sk-hidden--visually {border: 0;clip: rect(1px 1px 1px 1px);clip: rect(1px, 1px, 1px, 1px);height: 1px;margin: -1px;overflow: hidden;padding: 0;position: absolute;width: 1px;}#sk-container-id-9 div.sk-estimator {font-family: monospace;background-color: #f0f8ff;border: 1px dotted black;border-radius: 0.25em;box-sizing: border-box;margin-bottom: 0.5em;}#sk-container-id-9 div.sk-estimator:hover {background-color: #d4ebff;}#sk-container-id-9 div.sk-parallel-item::after {content: \"\";width: 100%;border-bottom: 1px solid gray;flex-grow: 1;}#sk-container-id-9 div.sk-label:hover label.sk-toggleable__label {background-color: #d4ebff;}#sk-container-id-9 div.sk-serial::before {content: \"\";position: absolute;border-left: 1px solid gray;box-sizing: border-box;top: 0;bottom: 0;left: 50%;z-index: 0;}#sk-container-id-9 div.sk-serial {display: flex;flex-direction: column;align-items: center;background-color: white;padding-right: 0.2em;padding-left: 0.2em;position: relative;}#sk-container-id-9 div.sk-item {position: relative;z-index: 1;}#sk-container-id-9 div.sk-parallel {display: flex;align-items: stretch;justify-content: center;background-color: white;position: relative;}#sk-container-id-9 div.sk-item::before, #sk-container-id-9 div.sk-parallel-item::before {content: \"\";position: absolute;border-left: 1px solid gray;box-sizing: border-box;top: 0;bottom: 0;left: 50%;z-index: -1;}#sk-container-id-9 div.sk-parallel-item {display: flex;flex-direction: column;z-index: 1;position: relative;background-color: white;}#sk-container-id-9 div.sk-parallel-item:first-child::after {align-self: flex-end;width: 50%;}#sk-container-id-9 div.sk-parallel-item:last-child::after {align-self: flex-start;width: 50%;}#sk-container-id-9 div.sk-parallel-item:only-child::after {width: 0;}#sk-container-id-9 div.sk-dashed-wrapped {border: 1px dashed gray;margin: 0 0.4em 0.5em 0.4em;box-sizing: border-box;padding-bottom: 0.4em;background-color: white;}#sk-container-id-9 div.sk-label label {font-family: monospace;font-weight: bold;display: inline-block;line-height: 1.2em;}#sk-container-id-9 div.sk-label-container {text-align: center;}#sk-container-id-9 div.sk-container {/* jupyter's `normalize.less` sets `[hidden] { display: none; }` but bootstrap.min.css set `[hidden] { display: none !important; }` so we also need the `!important` here to be able to override the default hidden behavior on the sphinx rendered scikit-learn.org. See: https://github.com/scikit-learn/scikit-learn/issues/21755 */display: inline-block !important;position: relative;}#sk-container-id-9 div.sk-text-repr-fallback {display: none;}</style><div id=\"sk-container-id-9\" class=\"sk-top-container\"><div class=\"sk-text-repr-fallback\"><pre>FuzzyInductor(c=1, k=PolynomialKernel(2), f=LinearFuzzifier(profile=infer), solver=GurobiSolver(, adjustment=auto))</pre><b>In a Jupyter environment, please rerun this cell to show the HTML representation or trust the notebook. <br />On GitHub, the HTML representation is unable to render, please try loading this page with nbviewer.org.</b></div><div class=\"sk-container\" hidden><div class=\"sk-item\"><div class=\"sk-estimator sk-toggleable\"><input class=\"sk-toggleable__control sk-hidden--visually\" id=\"sk-estimator-id-9\" type=\"checkbox\" checked><label for=\"sk-estimator-id-9\" class=\"sk-toggleable__label sk-toggleable__label-arrow\">FuzzyInductor</label><div class=\"sk-toggleable__content\"><pre>FuzzyInductor(c=1, k=PolynomialKernel(2), f=LinearFuzzifier(profile=infer), solver=GurobiSolver(, adjustment=auto))</pre></div></div></div></div></div>"
      ],
      "text/plain": [
       "FuzzyInductor(c=1, k=PolynomialKernel(2), f=LinearFuzzifier(profile=infer), solver=GurobiSolver(, adjustment=auto))"
      ]
     },
     "execution_count": 97,
     "metadata": {},
     "output_type": "execute_result"
    }
   ],
   "source": [
    "model.fit(X_train, y_train)"
   ]
  },
  {
   "cell_type": "code",
   "execution_count": 40,
   "id": "2f7210a8-a224-4e78-9b6b-d7fc3add2a2d",
   "metadata": {},
   "outputs": [
    {
     "data": {
      "text/plain": [
       "[0.8666666666666667,\n",
       " 0.8666666666666667,\n",
       " 0.8666666666666667,\n",
       " 0.8666666666666667,\n",
       " 0.8666666666666667,\n",
       " 0.8666666666666667,\n",
       " 0.8666666666666667,\n",
       " 0.8666666666666667,\n",
       " 0.8666666666666667]"
      ]
     },
     "execution_count": 40,
     "metadata": {},
     "output_type": "execute_result"
    }
   ],
   "source": [
    "[accuracy_score(y_pred=model.predict(X_test, alpha=x), y_true=y_test) for x in np.linspace(0.1,0.9,9)]\n"
   ]
  },
  {
   "cell_type": "code",
   "execution_count": 41,
   "id": "64ba4935-4f3e-423a-8aa0-c2436e993e9b",
   "metadata": {},
   "outputs": [],
   "source": [
    "res = model.predict(X_test, alpha=0.5)"
   ]
  },
  {
   "cell_type": "code",
   "execution_count": 42,
   "id": "9b5c35e5-270f-4900-bf22-6a3be7d707fa",
   "metadata": {},
   "outputs": [],
   "source": [
    "wrong_classified = []"
   ]
  },
  {
   "cell_type": "code",
   "execution_count": 43,
   "id": "722447d8-c726-4066-b323-afeb9e2a9340",
   "metadata": {
    "scrolled": true
   },
   "outputs": [],
   "source": [
    "for i in range(len(X_test)):\n",
    "    if res[i] != y_test[i]:\n",
    "        wrong_classified.append(i)"
   ]
  },
  {
   "cell_type": "code",
   "execution_count": 44,
   "id": "b3881b11-a8c0-45d6-9bce-29ceb196fa06",
   "metadata": {
    "scrolled": true
   },
   "outputs": [
    {
     "data": {
      "text/plain": [
       "[8,\n",
       " 15,\n",
       " 21,\n",
       " 40,\n",
       " 45,\n",
       " 46,\n",
       " 48,\n",
       " 49,\n",
       " 62,\n",
       " 63,\n",
       " 68,\n",
       " 81,\n",
       " 87,\n",
       " 89,\n",
       " 94,\n",
       " 102,\n",
       " 103,\n",
       " 105,\n",
       " 116,\n",
       " 118,\n",
       " 125,\n",
       " 134,\n",
       " 137,\n",
       " 146,\n",
       " 161,\n",
       " 162,\n",
       " 168,\n",
       " 173,\n",
       " 195,\n",
       " 202,\n",
       " 212,\n",
       " 219,\n",
       " 233,\n",
       " 235,\n",
       " 237,\n",
       " 253,\n",
       " 263,\n",
       " 272,\n",
       " 283,\n",
       " 294]"
      ]
     },
     "execution_count": 44,
     "metadata": {},
     "output_type": "execute_result"
    }
   ],
   "source": [
    "wrong_classified"
   ]
  },
  {
   "cell_type": "code",
   "execution_count": null,
   "id": "c8769afb-db74-4b7a-a31f-138a15f43351",
   "metadata": {
    "scrolled": true
   },
   "outputs": [],
   "source": [
    "for index in wrong_classified:\n",
    "    arr = X_test[index].reshape(28,28)\n",
    "    img = Image.fromarray(np.uint8(arr) , 'L')\n",
    "    display(img.resize((200, 200)))"
   ]
  },
  {
   "cell_type": "code",
   "execution_count": 98,
   "id": "9a15a636-7a96-4ba5-8004-93064653b11e",
   "metadata": {},
   "outputs": [
    {
     "data": {
      "text/plain": [
       "[]"
      ]
     },
     "execution_count": 98,
     "metadata": {},
     "output_type": "execute_result"
    }
   ],
   "source": [
    "[(i,x) for (i,x) in enumerate(model.predict(X_test)) if 0.4<=x<=0.6]"
   ]
  },
  {
   "cell_type": "markdown",
   "id": "fdadc92c-ebd8-4dec-b195-fdaadb474373",
   "metadata": {},
   "source": [
    "### ResNet50 inputs"
   ]
  },
  {
   "cell_type": "code",
   "execution_count": 7,
   "id": "c89db8a7-9719-4551-a6c5-c69d71e25af4",
   "metadata": {},
   "outputs": [],
   "source": [
    "dataset = pd.read_json(\"./datasets/MNIST/digit-2/mnist_full_cnn.json\")"
   ]
  },
  {
   "cell_type": "code",
   "execution_count": 8,
   "id": "a79b79f7-5f30-4a34-b181-8611312ccd73",
   "metadata": {},
   "outputs": [],
   "source": [
    "X_train = np.array(dataset.X_train.dropna().to_list())\n",
    "y_train = np.array(dataset.y_train.dropna().to_list())\n",
    "X_test = np.array(dataset.X_test.to_list())\n",
    "y_test = np.array(dataset.y_test.to_list())"
   ]
  },
  {
   "cell_type": "code",
   "execution_count": 9,
   "id": "c89d75b3-4085-49e8-b199-53728b224c9b",
   "metadata": {},
   "outputs": [],
   "source": [
    "model = FuzzyInductor(solver=GurobiSolver(adjustment='auto'))"
   ]
  },
  {
   "cell_type": "code",
   "execution_count": 10,
   "id": "c74dbb21-5e21-4938-ab9c-b406adf67fed",
   "metadata": {},
   "outputs": [],
   "source": [
    "parameters_linear = {'c' : [x for x in np.logspace(-2,2,5)],\n",
    "                     'k' : [LinearKernel()],\n",
    "                     'fuzzifier' : [LinearFuzzifier(profile='infer'), LinearFuzzifier(profile='fixed')]}\n",
    "\n",
    "parameters_polynomial = {'c' : [x for x in np.logspace(-2,2,5)],\n",
    "                         'k' : [PolynomialKernel(degree=x) for x in (2,3,4)],\n",
    "                         'fuzzifier' : [LinearFuzzifier(profile='infer'), LinearFuzzifier(profile='fixed')]}\n",
    "\n",
    "parameters_gaussian = {'c' : [x for x in np.logspace(-2,2,5)],\n",
    "                       'k' : [GaussianKernel(sigma=x) for x in np.logspace(-2,2,5)],\n",
    "                       'fuzzifier' : [ExponentialFuzzifier(profile='fixed'), ExponentialFuzzifier(profile='infer')] +\n",
    "                                     [ExponentialFuzzifier(profile='alpha',alpha=x) for x in np.logspace(-2,0,3)]}\n",
    "\n",
    "params = [parameters_linear, parameters_polynomial, parameters_gaussian]"
   ]
  },
  {
   "cell_type": "code",
   "execution_count": null,
   "id": "e444aca3-9712-4cb2-8b8d-1edec8e09d08",
   "metadata": {
    "scrolled": true
   },
   "outputs": [],
   "source": [
    "outer_cv_scores = []\n",
    "outer_cv_params = []\n",
    "inner_cv = StratifiedKFold(n_splits=5)\n",
    "outer_cv = StratifiedKFold(n_splits=5)\n",
    "\n",
    "best_models = []\n",
    "\n",
    "for train, test in tqdm.tqdm(outer_cv.split(X_train, y_train)):\n",
    "\n",
    "    clf = GridSearchCV(estimator=model, param_grid=params, \n",
    "                       cv=inner_cv, n_jobs=-1, verbose=0, refit=True)\n",
    "    \n",
    "    clf.fit(X_train[train], y_train[train])\n",
    "\n",
    "    m = clf.best_estimator_\n",
    "    \n",
    "    best_acc = 0\n",
    "    for alpha in np.linspace(0.1,0.9,9):\n",
    "        acc = accuracy_score(y_pred=m.predict(X_train[train], alpha=alpha), y_true=y_train[train])\n",
    "        if acc > best_acc:\n",
    "            best_alpha = alpha\n",
    "\n",
    "    outer_cv_params.append(m.__repr__())\n",
    "    acc_score = accuracy_score(y_pred=m.predict(X_train[test], alpha=best_alpha), y_true=y_train[test])\n",
    "    outer_cv_scores.append(acc_score)\n",
    "\n",
    "    best_models.append((m, acc_score, best_alpha))\n",
    "\n",
    "\n",
    "score = [np.mean(outer_cv_scores), np.std(outer_cv_scores)]\n",
    "best_models = sorted(best_models, key=lambda x:x[1], reverse=True)"
   ]
  },
  {
   "cell_type": "code",
   "execution_count": 20,
   "id": "b9470ef2-194f-49db-a4b3-e35f098ebd91",
   "metadata": {},
   "outputs": [],
   "source": [
    "logger.info(log_model(model=best_models, model_name='mulearn', acc=score[0], std=score[1], dataset='MNIST_FULL_CNN_2', serialize=True))"
   ]
  },
  {
   "cell_type": "code",
   "execution_count": 17,
   "id": "c24ba80a-b114-4377-a9ac-9f0538d02588",
   "metadata": {},
   "outputs": [
    {
     "data": {
      "text/plain": [
       "[0.8480000000000001, 0.022494443758404006]"
      ]
     },
     "execution_count": 17,
     "metadata": {},
     "output_type": "execute_result"
    }
   ],
   "source": [
    "score"
   ]
  },
  {
   "cell_type": "code",
   "execution_count": 14,
   "id": "1cb327fd-60d6-45ec-afeb-d281297af810",
   "metadata": {},
   "outputs": [
    {
     "data": {
      "text/plain": [
       "[0.885, 0.82, 0.85, 0.83, 0.855]"
      ]
     },
     "execution_count": 14,
     "metadata": {},
     "output_type": "execute_result"
    }
   ],
   "source": [
    "outer_cv_scores"
   ]
  },
  {
   "cell_type": "code",
   "execution_count": 15,
   "id": "4de405e2-5ba3-4908-bc5f-d7c74c88fe2f",
   "metadata": {
    "scrolled": true
   },
   "outputs": [
    {
     "data": {
      "text/plain": [
       "['FuzzyInductor(c=100.0, k=GaussianKernel(sigma=100.0), f=ExponentialFuzzifier(), solver=GurobiSolver(, adjustment=auto))',\n",
       " 'FuzzyInductor(c=100.0, k=GaussianKernel(sigma=100.0), f=ExponentialFuzzifier(), solver=GurobiSolver(, adjustment=auto))',\n",
       " 'FuzzyInductor(c=1.0, k=LinearKernel(), f=LinearFuzzifier(), solver=GurobiSolver(, adjustment=auto))',\n",
       " 'FuzzyInductor(c=1.0, k=LinearKernel(), f=LinearFuzzifier(), solver=GurobiSolver(, adjustment=auto))',\n",
       " 'FuzzyInductor(c=10.0, k=LinearKernel(), f=LinearFuzzifier(), solver=GurobiSolver(, adjustment=auto))']"
      ]
     },
     "execution_count": 15,
     "metadata": {},
     "output_type": "execute_result"
    }
   ],
   "source": [
    "outer_cv_params"
   ]
  },
  {
   "cell_type": "code",
   "execution_count": null,
   "id": "da3d3931-3d11-4489-ad2e-b3b33c8f2b67",
   "metadata": {
    "scrolled": true
   },
   "outputs": [],
   "source": [
    "best_models"
   ]
  },
  {
   "cell_type": "code",
   "execution_count": 102,
   "id": "2c81e4d0-e319-4eec-8db2-60e6dd4439e2",
   "metadata": {},
   "outputs": [],
   "source": [
    "model = FuzzyInductor(c=1.0, k=GaussianKernel(sigma=100.0), fuzzifier=ExponentialFuzzifier(profile='alpha', alpha=0.1), solver=GurobiSolver(adjustment='auto'))"
   ]
  },
  {
   "cell_type": "code",
   "execution_count": 103,
   "id": "8164cad1-284b-4117-a0db-95e04b90a3bf",
   "metadata": {},
   "outputs": [
    {
     "name": "stdout",
     "output_type": "stream",
     "text": [
      "10.0-percentile is 0.0010405902359354458\n"
     ]
    },
    {
     "data": {
      "text/html": [
       "<style>#sk-container-id-10 {color: black;background-color: white;}#sk-container-id-10 pre{padding: 0;}#sk-container-id-10 div.sk-toggleable {background-color: white;}#sk-container-id-10 label.sk-toggleable__label {cursor: pointer;display: block;width: 100%;margin-bottom: 0;padding: 0.3em;box-sizing: border-box;text-align: center;}#sk-container-id-10 label.sk-toggleable__label-arrow:before {content: \"▸\";float: left;margin-right: 0.25em;color: #696969;}#sk-container-id-10 label.sk-toggleable__label-arrow:hover:before {color: black;}#sk-container-id-10 div.sk-estimator:hover label.sk-toggleable__label-arrow:before {color: black;}#sk-container-id-10 div.sk-toggleable__content {max-height: 0;max-width: 0;overflow: hidden;text-align: left;background-color: #f0f8ff;}#sk-container-id-10 div.sk-toggleable__content pre {margin: 0.2em;color: black;border-radius: 0.25em;background-color: #f0f8ff;}#sk-container-id-10 input.sk-toggleable__control:checked~div.sk-toggleable__content {max-height: 200px;max-width: 100%;overflow: auto;}#sk-container-id-10 input.sk-toggleable__control:checked~label.sk-toggleable__label-arrow:before {content: \"▾\";}#sk-container-id-10 div.sk-estimator input.sk-toggleable__control:checked~label.sk-toggleable__label {background-color: #d4ebff;}#sk-container-id-10 div.sk-label input.sk-toggleable__control:checked~label.sk-toggleable__label {background-color: #d4ebff;}#sk-container-id-10 input.sk-hidden--visually {border: 0;clip: rect(1px 1px 1px 1px);clip: rect(1px, 1px, 1px, 1px);height: 1px;margin: -1px;overflow: hidden;padding: 0;position: absolute;width: 1px;}#sk-container-id-10 div.sk-estimator {font-family: monospace;background-color: #f0f8ff;border: 1px dotted black;border-radius: 0.25em;box-sizing: border-box;margin-bottom: 0.5em;}#sk-container-id-10 div.sk-estimator:hover {background-color: #d4ebff;}#sk-container-id-10 div.sk-parallel-item::after {content: \"\";width: 100%;border-bottom: 1px solid gray;flex-grow: 1;}#sk-container-id-10 div.sk-label:hover label.sk-toggleable__label {background-color: #d4ebff;}#sk-container-id-10 div.sk-serial::before {content: \"\";position: absolute;border-left: 1px solid gray;box-sizing: border-box;top: 0;bottom: 0;left: 50%;z-index: 0;}#sk-container-id-10 div.sk-serial {display: flex;flex-direction: column;align-items: center;background-color: white;padding-right: 0.2em;padding-left: 0.2em;position: relative;}#sk-container-id-10 div.sk-item {position: relative;z-index: 1;}#sk-container-id-10 div.sk-parallel {display: flex;align-items: stretch;justify-content: center;background-color: white;position: relative;}#sk-container-id-10 div.sk-item::before, #sk-container-id-10 div.sk-parallel-item::before {content: \"\";position: absolute;border-left: 1px solid gray;box-sizing: border-box;top: 0;bottom: 0;left: 50%;z-index: -1;}#sk-container-id-10 div.sk-parallel-item {display: flex;flex-direction: column;z-index: 1;position: relative;background-color: white;}#sk-container-id-10 div.sk-parallel-item:first-child::after {align-self: flex-end;width: 50%;}#sk-container-id-10 div.sk-parallel-item:last-child::after {align-self: flex-start;width: 50%;}#sk-container-id-10 div.sk-parallel-item:only-child::after {width: 0;}#sk-container-id-10 div.sk-dashed-wrapped {border: 1px dashed gray;margin: 0 0.4em 0.5em 0.4em;box-sizing: border-box;padding-bottom: 0.4em;background-color: white;}#sk-container-id-10 div.sk-label label {font-family: monospace;font-weight: bold;display: inline-block;line-height: 1.2em;}#sk-container-id-10 div.sk-label-container {text-align: center;}#sk-container-id-10 div.sk-container {/* jupyter's `normalize.less` sets `[hidden] { display: none; }` but bootstrap.min.css set `[hidden] { display: none !important; }` so we also need the `!important` here to be able to override the default hidden behavior on the sphinx rendered scikit-learn.org. See: https://github.com/scikit-learn/scikit-learn/issues/21755 */display: inline-block !important;position: relative;}#sk-container-id-10 div.sk-text-repr-fallback {display: none;}</style><div id=\"sk-container-id-10\" class=\"sk-top-container\"><div class=\"sk-text-repr-fallback\"><pre>FuzzyInductor(c=1.0, k=GaussianKernel(sigma=100.0), f=ExponentialFuzzifier(profile=alpha, alpha=0.1), solver=GurobiSolver(, adjustment=auto))</pre><b>In a Jupyter environment, please rerun this cell to show the HTML representation or trust the notebook. <br />On GitHub, the HTML representation is unable to render, please try loading this page with nbviewer.org.</b></div><div class=\"sk-container\" hidden><div class=\"sk-item\"><div class=\"sk-estimator sk-toggleable\"><input class=\"sk-toggleable__control sk-hidden--visually\" id=\"sk-estimator-id-10\" type=\"checkbox\" checked><label for=\"sk-estimator-id-10\" class=\"sk-toggleable__label sk-toggleable__label-arrow\">FuzzyInductor</label><div class=\"sk-toggleable__content\"><pre>FuzzyInductor(c=1.0, k=GaussianKernel(sigma=100.0), f=ExponentialFuzzifier(profile=alpha, alpha=0.1), solver=GurobiSolver(, adjustment=auto))</pre></div></div></div></div></div>"
      ],
      "text/plain": [
       "FuzzyInductor(c=1.0, k=GaussianKernel(sigma=100.0), f=ExponentialFuzzifier(profile=alpha, alpha=0.1), solver=GurobiSolver(, adjustment=auto))"
      ]
     },
     "execution_count": 103,
     "metadata": {},
     "output_type": "execute_result"
    }
   ],
   "source": [
    "model.fit(X_train, y_train)"
   ]
  },
  {
   "cell_type": "code",
   "execution_count": 50,
   "id": "80963d31-3c3e-46e6-aea2-39fcba5e7ffc",
   "metadata": {},
   "outputs": [
    {
     "data": {
      "text/plain": [
       "[0.8966666666666666,\n",
       " 0.8933333333333333,\n",
       " 0.8933333333333333,\n",
       " 0.8933333333333333,\n",
       " 0.8933333333333333,\n",
       " 0.8966666666666666,\n",
       " 0.8966666666666666,\n",
       " 0.9,\n",
       " 0.8966666666666666]"
      ]
     },
     "execution_count": 50,
     "metadata": {},
     "output_type": "execute_result"
    }
   ],
   "source": [
    "[accuracy_score(y_pred=model.predict(X_test, alpha=x), y_true=y_test) for x in np.linspace(0.1,0.9,9)]"
   ]
  },
  {
   "cell_type": "code",
   "execution_count": 51,
   "id": "2f510c9b-56ea-437b-9e18-94e1c90a00c3",
   "metadata": {},
   "outputs": [],
   "source": [
    "res = model.predict(X_test, alpha=0.8)"
   ]
  },
  {
   "cell_type": "code",
   "execution_count": 52,
   "id": "4b52db3f-bff1-4e2b-bbbd-51b371f4a676",
   "metadata": {},
   "outputs": [],
   "source": [
    "wrong_classified = []"
   ]
  },
  {
   "cell_type": "code",
   "execution_count": 53,
   "id": "693e3b27-ed65-46ca-9fb6-a4ebbb886ee3",
   "metadata": {
    "scrolled": true
   },
   "outputs": [],
   "source": [
    "for i in range(len(X_test)):\n",
    "    if res[i] != y_test[i]:\n",
    "        wrong_classified.append(i)"
   ]
  },
  {
   "cell_type": "code",
   "execution_count": 54,
   "id": "f75db776-8bce-43fa-be70-56e976dba24b",
   "metadata": {
    "scrolled": true
   },
   "outputs": [
    {
     "data": {
      "text/plain": [
       "[8,\n",
       " 15,\n",
       " 49,\n",
       " 60,\n",
       " 63,\n",
       " 88,\n",
       " 102,\n",
       " 103,\n",
       " 104,\n",
       " 106,\n",
       " 112,\n",
       " 114,\n",
       " 115,\n",
       " 119,\n",
       " 129,\n",
       " 131,\n",
       " 161,\n",
       " 168,\n",
       " 173,\n",
       " 202,\n",
       " 204,\n",
       " 205,\n",
       " 220,\n",
       " 227,\n",
       " 232,\n",
       " 234,\n",
       " 236,\n",
       " 272,\n",
       " 284,\n",
       " 291]"
      ]
     },
     "execution_count": 54,
     "metadata": {},
     "output_type": "execute_result"
    }
   ],
   "source": [
    "wrong_classified"
   ]
  },
  {
   "cell_type": "code",
   "execution_count": null,
   "id": "4ed8c37a-024d-4e28-8cd4-b0ecd01ab401",
   "metadata": {
    "scrolled": true
   },
   "outputs": [],
   "source": [
    "for index in wrong_classified:\n",
    "    arr = np.array(pd.read_json(\"./mnist.json\").X_test.dropna().to_list())[index].reshape(28,28)\n",
    "    img = Image.fromarray(np.uint8(arr) , 'L')\n",
    "    display(img.resize((200, 200)))"
   ]
  },
  {
   "cell_type": "code",
   "execution_count": 104,
   "id": "9040f6fe-4c29-4658-9d05-e429689f1bee",
   "metadata": {},
   "outputs": [
    {
     "data": {
      "text/plain": [
       "[(254, 0.5684068308197364)]"
      ]
     },
     "execution_count": 104,
     "metadata": {},
     "output_type": "execute_result"
    }
   ],
   "source": [
    "[(i,x) for (i,x) in enumerate(model.predict(X_test)) if 0.4<=x<=0.6]"
   ]
  },
  {
   "cell_type": "code",
   "execution_count": 105,
   "id": "cae4473d-a253-4828-8fed-a5729af9b931",
   "metadata": {},
   "outputs": [
    {
     "data": {
      "image/jpeg": "[encoded data removed]",
      "image/png": "[encoded data removed]",
      "text/plain": [
       "<PIL.Image.Image image mode=L size=200x200>"
      ]
     },
     "metadata": {},
     "output_type": "display_data"
    }
   ],
   "source": [
    "arr = np.array(pd.read_json(\"./mnist.json\").X_test.dropna().to_list())[254].reshape(28,28)\n",
    "img = Image.fromarray(np.uint8(arr) , 'L')\n",
    "display(img.resize((200, 200)))"
   ]
  },
  {
   "cell_type": "markdown",
   "id": "f051e910-0ecd-4553-a226-e85c95ac7b8c",
   "metadata": {},
   "source": [
    "# <span style=\"color:red\"> Fuzzy KNN"
   ]
  },
  {
   "cell_type": "markdown",
   "id": "dc8ca0c1-336d-4255-ad88-287b2ef2f2a7",
   "metadata": {},
   "source": [
    "## Synthetic datasets"
   ]
  },
  {
   "cell_type": "markdown",
   "id": "556ea4c8-f0d2-48f4-885e-e8bf7c5e72bd",
   "metadata": {},
   "source": [
    "### Gaussian"
   ]
  },
  {
   "cell_type": "code",
   "execution_count": 22,
   "id": "65b724c0-f5a9-411f-b819-b42e1377d0fb",
   "metadata": {},
   "outputs": [],
   "source": [
    "dataset = pd.read_csv(\"datasets/synthetic_datasets/gaussian.csv\").drop('Unnamed: 0', axis=1)"
   ]
  },
  {
   "cell_type": "code",
   "execution_count": 23,
   "id": "11f3fb10-06e8-42e3-81d9-c3c016e30f2c",
   "metadata": {},
   "outputs": [
    {
     "data": {
      "text/html": [
       "<style>#sk-container-id-5 {color: black;background-color: white;}#sk-container-id-5 pre{padding: 0;}#sk-container-id-5 div.sk-toggleable {background-color: white;}#sk-container-id-5 label.sk-toggleable__label {cursor: pointer;display: block;width: 100%;margin-bottom: 0;padding: 0.3em;box-sizing: border-box;text-align: center;}#sk-container-id-5 label.sk-toggleable__label-arrow:before {content: \"▸\";float: left;margin-right: 0.25em;color: #696969;}#sk-container-id-5 label.sk-toggleable__label-arrow:hover:before {color: black;}#sk-container-id-5 div.sk-estimator:hover label.sk-toggleable__label-arrow:before {color: black;}#sk-container-id-5 div.sk-toggleable__content {max-height: 0;max-width: 0;overflow: hidden;text-align: left;background-color: #f0f8ff;}#sk-container-id-5 div.sk-toggleable__content pre {margin: 0.2em;color: black;border-radius: 0.25em;background-color: #f0f8ff;}#sk-container-id-5 input.sk-toggleable__control:checked~div.sk-toggleable__content {max-height: 200px;max-width: 100%;overflow: auto;}#sk-container-id-5 input.sk-toggleable__control:checked~label.sk-toggleable__label-arrow:before {content: \"▾\";}#sk-container-id-5 div.sk-estimator input.sk-toggleable__control:checked~label.sk-toggleable__label {background-color: #d4ebff;}#sk-container-id-5 div.sk-label input.sk-toggleable__control:checked~label.sk-toggleable__label {background-color: #d4ebff;}#sk-container-id-5 input.sk-hidden--visually {border: 0;clip: rect(1px 1px 1px 1px);clip: rect(1px, 1px, 1px, 1px);height: 1px;margin: -1px;overflow: hidden;padding: 0;position: absolute;width: 1px;}#sk-container-id-5 div.sk-estimator {font-family: monospace;background-color: #f0f8ff;border: 1px dotted black;border-radius: 0.25em;box-sizing: border-box;margin-bottom: 0.5em;}#sk-container-id-5 div.sk-estimator:hover {background-color: #d4ebff;}#sk-container-id-5 div.sk-parallel-item::after {content: \"\";width: 100%;border-bottom: 1px solid gray;flex-grow: 1;}#sk-container-id-5 div.sk-label:hover label.sk-toggleable__label {background-color: #d4ebff;}#sk-container-id-5 div.sk-serial::before {content: \"\";position: absolute;border-left: 1px solid gray;box-sizing: border-box;top: 0;bottom: 0;left: 50%;z-index: 0;}#sk-container-id-5 div.sk-serial {display: flex;flex-direction: column;align-items: center;background-color: white;padding-right: 0.2em;padding-left: 0.2em;position: relative;}#sk-container-id-5 div.sk-item {position: relative;z-index: 1;}#sk-container-id-5 div.sk-parallel {display: flex;align-items: stretch;justify-content: center;background-color: white;position: relative;}#sk-container-id-5 div.sk-item::before, #sk-container-id-5 div.sk-parallel-item::before {content: \"\";position: absolute;border-left: 1px solid gray;box-sizing: border-box;top: 0;bottom: 0;left: 50%;z-index: -1;}#sk-container-id-5 div.sk-parallel-item {display: flex;flex-direction: column;z-index: 1;position: relative;background-color: white;}#sk-container-id-5 div.sk-parallel-item:first-child::after {align-self: flex-end;width: 50%;}#sk-container-id-5 div.sk-parallel-item:last-child::after {align-self: flex-start;width: 50%;}#sk-container-id-5 div.sk-parallel-item:only-child::after {width: 0;}#sk-container-id-5 div.sk-dashed-wrapped {border: 1px dashed gray;margin: 0 0.4em 0.5em 0.4em;box-sizing: border-box;padding-bottom: 0.4em;background-color: white;}#sk-container-id-5 div.sk-label label {font-family: monospace;font-weight: bold;display: inline-block;line-height: 1.2em;}#sk-container-id-5 div.sk-label-container {text-align: center;}#sk-container-id-5 div.sk-container {/* jupyter's `normalize.less` sets `[hidden] { display: none; }` but bootstrap.min.css set `[hidden] { display: none !important; }` so we also need the `!important` here to be able to override the default hidden behavior on the sphinx rendered scikit-learn.org. See: https://github.com/scikit-learn/scikit-learn/issues/21755 */display: inline-block !important;position: relative;}#sk-container-id-5 div.sk-text-repr-fallback {display: none;}</style><div id=\"sk-container-id-5\" class=\"sk-top-container\"><div class=\"sk-text-repr-fallback\"><pre>FuzzyKNN(k=11)</pre><b>In a Jupyter environment, please rerun this cell to show the HTML representation or trust the notebook. <br />On GitHub, the HTML representation is unable to render, please try loading this page with nbviewer.org.</b></div><div class=\"sk-container\" hidden><div class=\"sk-item\"><div class=\"sk-estimator sk-toggleable\"><input class=\"sk-toggleable__control sk-hidden--visually\" id=\"sk-estimator-id-9\" type=\"checkbox\" checked><label for=\"sk-estimator-id-9\" class=\"sk-toggleable__label sk-toggleable__label-arrow\">FuzzyKNN</label><div class=\"sk-toggleable__content\"><pre>FuzzyKNN(k=11)</pre></div></div></div></div></div>"
      ],
      "text/plain": [
       "FuzzyKNN(k=11)"
      ]
     },
     "execution_count": 23,
     "metadata": {},
     "output_type": "execute_result"
    }
   ],
   "source": [
    "model = FuzzyKNN(k=11)\n",
    "model.fit(np.array(dataset.X).reshape(-1,1), list(dataset.y_crisp))"
   ]
  },
  {
   "cell_type": "code",
   "execution_count": 24,
   "id": "79428c44-f0b7-4eef-85c0-d8f4da0a1dd9",
   "metadata": {},
   "outputs": [
    {
     "data": {
      "image/png": "[encoded data removed]",
      "text/plain": [
       "<Figure size 640x480 with 1 Axes>"
      ]
     },
     "metadata": {},
     "output_type": "display_data"
    }
   ],
   "source": [
    "plt.plot(X_test2_g[0], [y[0] for y in model.predict(X_test2_g[0])], color=\"blue\", label=\"learnt f.\")\n",
    "plt.plot(X_test2_g[1], [y[0] for y in model.predict(X_test2_g[1])], color=\"blue\")\n",
    "plt.plot(X_test2_g[2], [y[0] for y in model.predict(X_test2_g[2])], color=\"blue\")\n",
    "\n",
    "plt.plot(X_test2_g[0], gaussian(X_test2_g[0], np.var(X_test)), color=\"red\", label=\"original f.\")\n",
    "plt.plot(X_test2_g[1], gaussian(X_test2_g[1], np.var(X_test)), color=\"red\")\n",
    "plt.plot(X_test2_g[2], gaussian(X_test2_g[2], np.var(X_test)), color=\"red\")\n",
    "\n",
    "plt.legend(loc=\"upper right\")\n",
    "\n",
    "plt.show()"
   ]
  },
  {
   "cell_type": "code",
   "execution_count": 26,
   "id": "b27d9a0a-dfe4-406b-a902-ab79c6aaac41",
   "metadata": {},
   "outputs": [
    {
     "data": {
      "text/plain": [
       "0.15321809785868928"
      ]
     },
     "execution_count": 26,
     "metadata": {},
     "output_type": "execute_result"
    }
   ],
   "source": [
    "err = np.sum(step*(np.abs(np.array([y[0] for y in model.predict(X_test)]) - gaussian(X_test, np.var(X_test)))))\n",
    "err"
   ]
  },
  {
   "cell_type": "code",
   "execution_count": 28,
   "id": "a9c90cb3-092b-47c4-ad6e-8c9213d15be1",
   "metadata": {},
   "outputs": [],
   "source": [
    "logger.info(log_model(model=model, score=err, dataset='gaussian', serialize=True))"
   ]
  },
  {
   "cell_type": "markdown",
   "id": "3b78610b-612c-4898-897c-2226b96e617c",
   "metadata": {},
   "source": [
    "### Trapezoidal"
   ]
  },
  {
   "cell_type": "code",
   "execution_count": 29,
   "id": "e5e60ed3-9e4a-4323-9ef4-fb64e8ef8603",
   "metadata": {},
   "outputs": [],
   "source": [
    "dataset = pd.read_csv(\"datasets/synthetic_datasets/trapezoidal.csv\").drop('Unnamed: 0', axis=1)"
   ]
  },
  {
   "cell_type": "code",
   "execution_count": 30,
   "id": "6675cd57-fc05-42a6-83e8-5f4b89bdca37",
   "metadata": {},
   "outputs": [
    {
     "data": {
      "text/html": [
       "<style>#sk-container-id-6 {color: black;background-color: white;}#sk-container-id-6 pre{padding: 0;}#sk-container-id-6 div.sk-toggleable {background-color: white;}#sk-container-id-6 label.sk-toggleable__label {cursor: pointer;display: block;width: 100%;margin-bottom: 0;padding: 0.3em;box-sizing: border-box;text-align: center;}#sk-container-id-6 label.sk-toggleable__label-arrow:before {content: \"▸\";float: left;margin-right: 0.25em;color: #696969;}#sk-container-id-6 label.sk-toggleable__label-arrow:hover:before {color: black;}#sk-container-id-6 div.sk-estimator:hover label.sk-toggleable__label-arrow:before {color: black;}#sk-container-id-6 div.sk-toggleable__content {max-height: 0;max-width: 0;overflow: hidden;text-align: left;background-color: #f0f8ff;}#sk-container-id-6 div.sk-toggleable__content pre {margin: 0.2em;color: black;border-radius: 0.25em;background-color: #f0f8ff;}#sk-container-id-6 input.sk-toggleable__control:checked~div.sk-toggleable__content {max-height: 200px;max-width: 100%;overflow: auto;}#sk-container-id-6 input.sk-toggleable__control:checked~label.sk-toggleable__label-arrow:before {content: \"▾\";}#sk-container-id-6 div.sk-estimator input.sk-toggleable__control:checked~label.sk-toggleable__label {background-color: #d4ebff;}#sk-container-id-6 div.sk-label input.sk-toggleable__control:checked~label.sk-toggleable__label {background-color: #d4ebff;}#sk-container-id-6 input.sk-hidden--visually {border: 0;clip: rect(1px 1px 1px 1px);clip: rect(1px, 1px, 1px, 1px);height: 1px;margin: -1px;overflow: hidden;padding: 0;position: absolute;width: 1px;}#sk-container-id-6 div.sk-estimator {font-family: monospace;background-color: #f0f8ff;border: 1px dotted black;border-radius: 0.25em;box-sizing: border-box;margin-bottom: 0.5em;}#sk-container-id-6 div.sk-estimator:hover {background-color: #d4ebff;}#sk-container-id-6 div.sk-parallel-item::after {content: \"\";width: 100%;border-bottom: 1px solid gray;flex-grow: 1;}#sk-container-id-6 div.sk-label:hover label.sk-toggleable__label {background-color: #d4ebff;}#sk-container-id-6 div.sk-serial::before {content: \"\";position: absolute;border-left: 1px solid gray;box-sizing: border-box;top: 0;bottom: 0;left: 50%;z-index: 0;}#sk-container-id-6 div.sk-serial {display: flex;flex-direction: column;align-items: center;background-color: white;padding-right: 0.2em;padding-left: 0.2em;position: relative;}#sk-container-id-6 div.sk-item {position: relative;z-index: 1;}#sk-container-id-6 div.sk-parallel {display: flex;align-items: stretch;justify-content: center;background-color: white;position: relative;}#sk-container-id-6 div.sk-item::before, #sk-container-id-6 div.sk-parallel-item::before {content: \"\";position: absolute;border-left: 1px solid gray;box-sizing: border-box;top: 0;bottom: 0;left: 50%;z-index: -1;}#sk-container-id-6 div.sk-parallel-item {display: flex;flex-direction: column;z-index: 1;position: relative;background-color: white;}#sk-container-id-6 div.sk-parallel-item:first-child::after {align-self: flex-end;width: 50%;}#sk-container-id-6 div.sk-parallel-item:last-child::after {align-self: flex-start;width: 50%;}#sk-container-id-6 div.sk-parallel-item:only-child::after {width: 0;}#sk-container-id-6 div.sk-dashed-wrapped {border: 1px dashed gray;margin: 0 0.4em 0.5em 0.4em;box-sizing: border-box;padding-bottom: 0.4em;background-color: white;}#sk-container-id-6 div.sk-label label {font-family: monospace;font-weight: bold;display: inline-block;line-height: 1.2em;}#sk-container-id-6 div.sk-label-container {text-align: center;}#sk-container-id-6 div.sk-container {/* jupyter's `normalize.less` sets `[hidden] { display: none; }` but bootstrap.min.css set `[hidden] { display: none !important; }` so we also need the `!important` here to be able to override the default hidden behavior on the sphinx rendered scikit-learn.org. See: https://github.com/scikit-learn/scikit-learn/issues/21755 */display: inline-block !important;position: relative;}#sk-container-id-6 div.sk-text-repr-fallback {display: none;}</style><div id=\"sk-container-id-6\" class=\"sk-top-container\"><div class=\"sk-text-repr-fallback\"><pre>FuzzyKNN(k=11)</pre><b>In a Jupyter environment, please rerun this cell to show the HTML representation or trust the notebook. <br />On GitHub, the HTML representation is unable to render, please try loading this page with nbviewer.org.</b></div><div class=\"sk-container\" hidden><div class=\"sk-item\"><div class=\"sk-estimator sk-toggleable\"><input class=\"sk-toggleable__control sk-hidden--visually\" id=\"sk-estimator-id-10\" type=\"checkbox\" checked><label for=\"sk-estimator-id-10\" class=\"sk-toggleable__label sk-toggleable__label-arrow\">FuzzyKNN</label><div class=\"sk-toggleable__content\"><pre>FuzzyKNN(k=11)</pre></div></div></div></div></div>"
      ],
      "text/plain": [
       "FuzzyKNN(k=11)"
      ]
     },
     "execution_count": 30,
     "metadata": {},
     "output_type": "execute_result"
    }
   ],
   "source": [
    "model = FuzzyKNN(k=11)\n",
    "model.fit(np.array(dataset.X).reshape(-1,1), list(dataset.y_crisp))"
   ]
  },
  {
   "cell_type": "code",
   "execution_count": 32,
   "id": "a5b74263-bb8b-4253-b522-62fd5dcdbcd4",
   "metadata": {},
   "outputs": [
    {
     "data": {
      "image/png": "[encoded data removed]",
      "text/plain": [
       "<Figure size 640x480 with 1 Axes>"
      ]
     },
     "metadata": {},
     "output_type": "display_data"
    }
   ],
   "source": [
    "plt.plot(X_test2_t[0], [y[0] for y in model.predict(X_test2_t[0])], color=\"blue\", label=\"learnt f.\")\n",
    "plt.plot(X_test2_t[1], [y[0] for y in model.predict(X_test2_t[1])], color=\"blue\")\n",
    "plt.plot(X_test2_t[2], [y[0] for y in model.predict(X_test2_t[2])], color=\"blue\")\n",
    "\n",
    "plt.plot(X_test2_t[0], [trapezoidal(x) for x in X_test2_t[0]], color=\"red\", label=\"original f.\")\n",
    "plt.plot(X_test2_t[1], [trapezoidal(x) for x in X_test2_t[1]], color=\"red\")\n",
    "plt.plot(X_test2_t[2], [trapezoidal(x) for x in X_test2_t[2]], color=\"red\")\n",
    "\n",
    "plt.legend(loc=\"upper right\")\n",
    "\n",
    "plt.show()"
   ]
  },
  {
   "cell_type": "code",
   "execution_count": 33,
   "id": "6811a601-97c8-4488-bbc5-91ead4d85b74",
   "metadata": {},
   "outputs": [
    {
     "data": {
      "text/plain": [
       "0.2173919665411157"
      ]
     },
     "execution_count": 33,
     "metadata": {},
     "output_type": "execute_result"
    }
   ],
   "source": [
    "err = np.sum(step*(np.abs(np.array([y[0] for y in model.predict(X_test)]) - [trapezoidal(x) for x in X_test])))\n",
    "err"
   ]
  },
  {
   "cell_type": "code",
   "execution_count": 34,
   "id": "14e911bf-79b5-4cab-a335-8ab64ce9d17a",
   "metadata": {},
   "outputs": [],
   "source": [
    "logger.info(log_model(model=model, score=err, dataset='trapezoidal', serialize=True))"
   ]
  },
  {
   "cell_type": "markdown",
   "id": "2df14308-ccdb-48d0-b328-cb9fcb66531a",
   "metadata": {},
   "source": [
    "## Breast cancer"
   ]
  },
  {
   "cell_type": "code",
   "execution_count": 95,
   "id": "a5f7f162-93c8-48ea-a323-d1fa3d4ce4d0",
   "metadata": {},
   "outputs": [],
   "source": [
    "dataset_bc = load_breast_cancer()"
   ]
  },
  {
   "cell_type": "code",
   "execution_count": 96,
   "id": "b99c6583-77f7-4c0e-8229-689ba00dc8f7",
   "metadata": {},
   "outputs": [],
   "source": [
    "parameters = {'k' : [3,5,7,9,11,21,31,41,51]}"
   ]
  },
  {
   "cell_type": "code",
   "execution_count": 97,
   "id": "0a2d2128-5bfb-4ea2-bcf6-c4345cebda6c",
   "metadata": {},
   "outputs": [],
   "source": [
    "model = FuzzyKNN()"
   ]
  },
  {
   "cell_type": "code",
   "execution_count": 98,
   "id": "405b0611-690a-4e62-9db5-7f128d186415",
   "metadata": {},
   "outputs": [
    {
     "name": "stderr",
     "output_type": "stream",
     "text": [
      "5it [01:23, 16.80s/it]\n"
     ]
    }
   ],
   "source": [
    "outer_cv_scores = []\n",
    "outer_cv_params = []\n",
    "inner_cv = StratifiedKFold(n_splits=5)\n",
    "outer_cv = StratifiedKFold(n_splits=5)\n",
    "best_models = []\n",
    "\n",
    "for train, test in tqdm.tqdm(outer_cv.split(dataset_bc.data, dataset_bc.target)):\n",
    "\n",
    "    clf = GridSearchCV(estimator=model, param_grid= parameters, cv=inner_cv, n_jobs=-1, verbose=0, refit=True)\n",
    "    \n",
    "    clf.fit(dataset_bc.data[train], dataset_bc.target[train])\n",
    "\n",
    "    m = clf.best_estimator_\n",
    "    \n",
    "    outer_cv_params.append(m.__repr__())\n",
    "    acc_score = m.score(dataset_bc.data[test], dataset_bc.target[test])\n",
    "    outer_cv_scores.append(acc_score)\n",
    "\n",
    "    best_models.append((m, acc_score))\n",
    "\n",
    "score = [np.mean(outer_cv_scores), np.std(outer_cv_scores)]\n",
    "\n",
    "best_models = sorted(best_models, key=lambda x:x[1], reverse=True)"
   ]
  },
  {
   "cell_type": "code",
   "execution_count": 99,
   "id": "fdd16de7-c6df-4ca2-9f86-76a86a573fcc",
   "metadata": {},
   "outputs": [
    {
     "data": {
      "text/plain": [
       "[0.9209129017233348, 0.031871228958278215]"
      ]
     },
     "execution_count": 99,
     "metadata": {},
     "output_type": "execute_result"
    }
   ],
   "source": [
    "score"
   ]
  },
  {
   "cell_type": "code",
   "execution_count": 100,
   "id": "a104ff48-f1bf-404f-814d-6e29bf68b6bb",
   "metadata": {},
   "outputs": [
    {
     "data": {
      "text/plain": [
       "[(FuzzyKNN(k=9), 0.9473684210526315),\n",
       " (FuzzyKNN(k=11), 0.9385964912280702),\n",
       " (FuzzyKNN(k=7), 0.9385964912280702),\n",
       " (FuzzyKNN(k=7), 0.9203539823008849),\n",
       " (FuzzyKNN(k=7), 0.8596491228070176)]"
      ]
     },
     "execution_count": 100,
     "metadata": {},
     "output_type": "execute_result"
    }
   ],
   "source": [
    "best_models"
   ]
  },
  {
   "cell_type": "code",
   "execution_count": 101,
   "id": "7059bad6-373d-4d6e-a076-a1db7d113138",
   "metadata": {},
   "outputs": [],
   "source": [
    "logger.info(log_model(model=best_models, model_name='FuzzyKNN', acc=score[0], std=score[1], dataset='breast_cancer', serialize=True))"
   ]
  },
  {
   "cell_type": "code",
   "execution_count": 75,
   "id": "c6c01b24-ccd7-474e-8aa8-d809b5f3f843",
   "metadata": {},
   "outputs": [],
   "source": [
    "X_train, X_test, y_train, y_test = train_test_split(dataset_bc.data, dataset_bc.target, random_state=42)"
   ]
  },
  {
   "cell_type": "code",
   "execution_count": 76,
   "id": "10f5ca12-2a84-46aa-834a-fb70c88d478d",
   "metadata": {},
   "outputs": [],
   "source": [
    "model = FuzzyKNN(k=9)"
   ]
  },
  {
   "cell_type": "code",
   "execution_count": 77,
   "id": "1c428af1-b8d1-4daa-8778-cf4976771815",
   "metadata": {},
   "outputs": [
    {
     "data": {
      "text/html": [
       "<style>#sk-container-id-1 {color: black;background-color: white;}#sk-container-id-1 pre{padding: 0;}#sk-container-id-1 div.sk-toggleable {background-color: white;}#sk-container-id-1 label.sk-toggleable__label {cursor: pointer;display: block;width: 100%;margin-bottom: 0;padding: 0.3em;box-sizing: border-box;text-align: center;}#sk-container-id-1 label.sk-toggleable__label-arrow:before {content: \"▸\";float: left;margin-right: 0.25em;color: #696969;}#sk-container-id-1 label.sk-toggleable__label-arrow:hover:before {color: black;}#sk-container-id-1 div.sk-estimator:hover label.sk-toggleable__label-arrow:before {color: black;}#sk-container-id-1 div.sk-toggleable__content {max-height: 0;max-width: 0;overflow: hidden;text-align: left;background-color: #f0f8ff;}#sk-container-id-1 div.sk-toggleable__content pre {margin: 0.2em;color: black;border-radius: 0.25em;background-color: #f0f8ff;}#sk-container-id-1 input.sk-toggleable__control:checked~div.sk-toggleable__content {max-height: 200px;max-width: 100%;overflow: auto;}#sk-container-id-1 input.sk-toggleable__control:checked~label.sk-toggleable__label-arrow:before {content: \"▾\";}#sk-container-id-1 div.sk-estimator input.sk-toggleable__control:checked~label.sk-toggleable__label {background-color: #d4ebff;}#sk-container-id-1 div.sk-label input.sk-toggleable__control:checked~label.sk-toggleable__label {background-color: #d4ebff;}#sk-container-id-1 input.sk-hidden--visually {border: 0;clip: rect(1px 1px 1px 1px);clip: rect(1px, 1px, 1px, 1px);height: 1px;margin: -1px;overflow: hidden;padding: 0;position: absolute;width: 1px;}#sk-container-id-1 div.sk-estimator {font-family: monospace;background-color: #f0f8ff;border: 1px dotted black;border-radius: 0.25em;box-sizing: border-box;margin-bottom: 0.5em;}#sk-container-id-1 div.sk-estimator:hover {background-color: #d4ebff;}#sk-container-id-1 div.sk-parallel-item::after {content: \"\";width: 100%;border-bottom: 1px solid gray;flex-grow: 1;}#sk-container-id-1 div.sk-label:hover label.sk-toggleable__label {background-color: #d4ebff;}#sk-container-id-1 div.sk-serial::before {content: \"\";position: absolute;border-left: 1px solid gray;box-sizing: border-box;top: 0;bottom: 0;left: 50%;z-index: 0;}#sk-container-id-1 div.sk-serial {display: flex;flex-direction: column;align-items: center;background-color: white;padding-right: 0.2em;padding-left: 0.2em;position: relative;}#sk-container-id-1 div.sk-item {position: relative;z-index: 1;}#sk-container-id-1 div.sk-parallel {display: flex;align-items: stretch;justify-content: center;background-color: white;position: relative;}#sk-container-id-1 div.sk-item::before, #sk-container-id-1 div.sk-parallel-item::before {content: \"\";position: absolute;border-left: 1px solid gray;box-sizing: border-box;top: 0;bottom: 0;left: 50%;z-index: -1;}#sk-container-id-1 div.sk-parallel-item {display: flex;flex-direction: column;z-index: 1;position: relative;background-color: white;}#sk-container-id-1 div.sk-parallel-item:first-child::after {align-self: flex-end;width: 50%;}#sk-container-id-1 div.sk-parallel-item:last-child::after {align-self: flex-start;width: 50%;}#sk-container-id-1 div.sk-parallel-item:only-child::after {width: 0;}#sk-container-id-1 div.sk-dashed-wrapped {border: 1px dashed gray;margin: 0 0.4em 0.5em 0.4em;box-sizing: border-box;padding-bottom: 0.4em;background-color: white;}#sk-container-id-1 div.sk-label label {font-family: monospace;font-weight: bold;display: inline-block;line-height: 1.2em;}#sk-container-id-1 div.sk-label-container {text-align: center;}#sk-container-id-1 div.sk-container {/* jupyter's `normalize.less` sets `[hidden] { display: none; }` but bootstrap.min.css set `[hidden] { display: none !important; }` so we also need the `!important` here to be able to override the default hidden behavior on the sphinx rendered scikit-learn.org. See: https://github.com/scikit-learn/scikit-learn/issues/21755 */display: inline-block !important;position: relative;}#sk-container-id-1 div.sk-text-repr-fallback {display: none;}</style><div id=\"sk-container-id-1\" class=\"sk-top-container\"><div class=\"sk-text-repr-fallback\"><pre>FuzzyKNN(k=9)</pre><b>In a Jupyter environment, please rerun this cell to show the HTML representation or trust the notebook. <br />On GitHub, the HTML representation is unable to render, please try loading this page with nbviewer.org.</b></div><div class=\"sk-container\" hidden><div class=\"sk-item\"><div class=\"sk-estimator sk-toggleable\"><input class=\"sk-toggleable__control sk-hidden--visually\" id=\"sk-estimator-id-1\" type=\"checkbox\" checked><label for=\"sk-estimator-id-1\" class=\"sk-toggleable__label sk-toggleable__label-arrow\">FuzzyKNN</label><div class=\"sk-toggleable__content\"><pre>FuzzyKNN(k=9)</pre></div></div></div></div></div>"
      ],
      "text/plain": [
       "FuzzyKNN(k=9)"
      ]
     },
     "execution_count": 77,
     "metadata": {},
     "output_type": "execute_result"
    }
   ],
   "source": [
    "model.fit(X_train, y_train)"
   ]
  },
  {
   "cell_type": "code",
   "execution_count": 78,
   "id": "f7ff03a1-dd70-47ae-a577-f17ebfbe4eba",
   "metadata": {},
   "outputs": [
    {
     "data": {
      "text/plain": [
       "0.951048951048951"
      ]
     },
     "execution_count": 78,
     "metadata": {},
     "output_type": "execute_result"
    }
   ],
   "source": [
    "model.score(X_test, y_test)"
   ]
  },
  {
   "cell_type": "code",
   "execution_count": 79,
   "id": "7d91d046-6866-4213-9222-d752ee136296",
   "metadata": {},
   "outputs": [],
   "source": [
    "res = model.predict(X_test)"
   ]
  },
  {
   "cell_type": "code",
   "execution_count": 80,
   "id": "8b566b3b-8351-47a6-ade8-a37955949c57",
   "metadata": {},
   "outputs": [],
   "source": [
    "res = [x[0] for x in res]"
   ]
  },
  {
   "cell_type": "code",
   "execution_count": 81,
   "id": "5342181c-5fbc-43bd-8ca6-0bff0b64fa02",
   "metadata": {},
   "outputs": [],
   "source": [
    "wrong_classified = []"
   ]
  },
  {
   "cell_type": "code",
   "execution_count": 82,
   "id": "08f869ec-8a76-4033-9bb7-21b1f066abf9",
   "metadata": {
    "scrolled": true
   },
   "outputs": [],
   "source": [
    "for i in range(len(X_test)):\n",
    "    if res[i] != y_test[i]:\n",
    "        wrong_classified.append(i)"
   ]
  },
  {
   "cell_type": "code",
   "execution_count": 83,
   "id": "c9acd5c7-f5b6-41a3-ab0d-fa2f6c6fd872",
   "metadata": {
    "scrolled": true
   },
   "outputs": [
    {
     "data": {
      "text/plain": [
       "[13, 33, 58, 73, 77, 82, 134]"
      ]
     },
     "execution_count": 83,
     "metadata": {},
     "output_type": "execute_result"
    }
   ],
   "source": [
    "wrong_classified"
   ]
  },
  {
   "cell_type": "markdown",
   "id": "36fc0865-6169-44b7-93d8-895f4c49d676",
   "metadata": {},
   "source": [
    "## MNIST"
   ]
  },
  {
   "cell_type": "code",
   "execution_count": 59,
   "id": "a61bb45e-796f-41ce-95c4-d7b1082ac623",
   "metadata": {},
   "outputs": [],
   "source": [
    "dataset = pd.read_json(f'datasets/MNIST/digit-{digit}/mnist_full.json')"
   ]
  },
  {
   "cell_type": "code",
   "execution_count": 60,
   "id": "bf80c0f6-0045-49f7-9ac9-c53eb8188873",
   "metadata": {},
   "outputs": [],
   "source": [
    "X_train = np.array(dataset.X_train.dropna().to_list())\n",
    "y_train = np.array(dataset.y_train.dropna().to_list())\n",
    "X_test = np.array(dataset.X_test.to_list())\n",
    "y_test = np.array(dataset.y_test.to_list())"
   ]
  },
  {
   "cell_type": "code",
   "execution_count": 61,
   "id": "fe6b5b22-c6eb-48cd-b947-eb8faaf4f339",
   "metadata": {},
   "outputs": [],
   "source": [
    "parameters = {'k' : [3,5,7,9,11]}"
   ]
  },
  {
   "cell_type": "code",
   "execution_count": 62,
   "id": "c9d97204-d278-4c13-afe3-3659b8712f62",
   "metadata": {},
   "outputs": [],
   "source": [
    "model = FuzzyKNN()"
   ]
  },
  {
   "cell_type": "code",
   "execution_count": 63,
   "id": "d852d6f8-1ea9-4c16-a231-a4839605115c",
   "metadata": {},
   "outputs": [
    {
     "name": "stderr",
     "output_type": "stream",
     "text": [
      "5it [05:23, 64.74s/it]\n"
     ]
    }
   ],
   "source": [
    "outer_cv_scores = []\n",
    "outer_cv_params = []\n",
    "inner_cv = StratifiedKFold(n_splits=5)\n",
    "outer_cv = StratifiedKFold(n_splits=5)\n",
    "best_models = []\n",
    "\n",
    "for train, test in tqdm.tqdm(outer_cv.split(X_train, y_train)):\n",
    "\n",
    "    clf = GridSearchCV(estimator=model, param_grid=parameters, \n",
    "                       cv=inner_cv, n_jobs=-1, verbose=0, refit=True)\n",
    "    \n",
    "    clf.fit(X_train[train], y_train[train])\n",
    "\n",
    "    m = clf.best_estimator_\n",
    "\n",
    "    outer_cv_params.append(m.__repr__())\n",
    "    acc_score = m.score(X_train[test], y_train[test])\n",
    "    outer_cv_scores.append(acc_score)\n",
    "    best_models.append((m, acc_score))\n",
    "\n",
    "score = [np.mean(outer_cv_scores), np.std(outer_cv_scores)]\n",
    "best_models = sorted(best_models, key=lambda x:x[1], reverse=True)"
   ]
  },
  {
   "cell_type": "code",
   "execution_count": 64,
   "id": "ecb41642-6bb4-488f-9846-b23f843ea2f9",
   "metadata": {},
   "outputs": [
    {
     "data": {
      "text/plain": [
       "[0.9119999999999999, 0.035580893749314384]"
      ]
     },
     "execution_count": 64,
     "metadata": {},
     "output_type": "execute_result"
    }
   ],
   "source": [
    "score"
   ]
  },
  {
   "cell_type": "code",
   "execution_count": 65,
   "id": "82a90ee8-700f-4f87-b1d7-480ddf18c09f",
   "metadata": {},
   "outputs": [
    {
     "data": {
      "text/plain": [
       "['FuzzyKNN()', 'FuzzyKNN()', 'FuzzyKNN()', 'FuzzyKNN()', 'FuzzyKNN()']"
      ]
     },
     "execution_count": 65,
     "metadata": {},
     "output_type": "execute_result"
    }
   ],
   "source": [
    "outer_cv_params"
   ]
  },
  {
   "cell_type": "code",
   "execution_count": 66,
   "id": "41ffefdb-0edb-407b-a281-f6a28d0dfaab",
   "metadata": {},
   "outputs": [
    {
     "data": {
      "text/plain": [
       "[0.955, 0.87, 0.94, 0.87, 0.925]"
      ]
     },
     "execution_count": 66,
     "metadata": {},
     "output_type": "execute_result"
    }
   ],
   "source": [
    "outer_cv_scores"
   ]
  },
  {
   "cell_type": "code",
   "execution_count": 67,
   "id": "6b3ee8a1-05d4-4c7c-969b-fdec0cf9da95",
   "metadata": {},
   "outputs": [
    {
     "data": {
      "text/plain": [
       "[(FuzzyKNN(), 0.955),\n",
       " (FuzzyKNN(), 0.94),\n",
       " (FuzzyKNN(), 0.925),\n",
       " (FuzzyKNN(), 0.87),\n",
       " (FuzzyKNN(), 0.87)]"
      ]
     },
     "execution_count": 67,
     "metadata": {},
     "output_type": "execute_result"
    }
   ],
   "source": [
    "best_models"
   ]
  },
  {
   "cell_type": "code",
   "execution_count": 68,
   "id": "709f81fa-c7de-46d3-a80d-d3128a952c68",
   "metadata": {},
   "outputs": [],
   "source": [
    "logger.info(log_model(model=best_models, model_name='FuzzyKNN', acc=score[0], std=score[1], dataset=f'MNIST_FULL_{digit}', serialize=True))"
   ]
  },
  {
   "cell_type": "code",
   "execution_count": 40,
   "id": "43573810-20d8-4e89-a54a-005f08437f97",
   "metadata": {},
   "outputs": [
    {
     "data": {
      "text/html": [
       "<style>#sk-container-id-1 {color: black;background-color: white;}#sk-container-id-1 pre{padding: 0;}#sk-container-id-1 div.sk-toggleable {background-color: white;}#sk-container-id-1 label.sk-toggleable__label {cursor: pointer;display: block;width: 100%;margin-bottom: 0;padding: 0.3em;box-sizing: border-box;text-align: center;}#sk-container-id-1 label.sk-toggleable__label-arrow:before {content: \"▸\";float: left;margin-right: 0.25em;color: #696969;}#sk-container-id-1 label.sk-toggleable__label-arrow:hover:before {color: black;}#sk-container-id-1 div.sk-estimator:hover label.sk-toggleable__label-arrow:before {color: black;}#sk-container-id-1 div.sk-toggleable__content {max-height: 0;max-width: 0;overflow: hidden;text-align: left;background-color: #f0f8ff;}#sk-container-id-1 div.sk-toggleable__content pre {margin: 0.2em;color: black;border-radius: 0.25em;background-color: #f0f8ff;}#sk-container-id-1 input.sk-toggleable__control:checked~div.sk-toggleable__content {max-height: 200px;max-width: 100%;overflow: auto;}#sk-container-id-1 input.sk-toggleable__control:checked~label.sk-toggleable__label-arrow:before {content: \"▾\";}#sk-container-id-1 div.sk-estimator input.sk-toggleable__control:checked~label.sk-toggleable__label {background-color: #d4ebff;}#sk-container-id-1 div.sk-label input.sk-toggleable__control:checked~label.sk-toggleable__label {background-color: #d4ebff;}#sk-container-id-1 input.sk-hidden--visually {border: 0;clip: rect(1px 1px 1px 1px);clip: rect(1px, 1px, 1px, 1px);height: 1px;margin: -1px;overflow: hidden;padding: 0;position: absolute;width: 1px;}#sk-container-id-1 div.sk-estimator {font-family: monospace;background-color: #f0f8ff;border: 1px dotted black;border-radius: 0.25em;box-sizing: border-box;margin-bottom: 0.5em;}#sk-container-id-1 div.sk-estimator:hover {background-color: #d4ebff;}#sk-container-id-1 div.sk-parallel-item::after {content: \"\";width: 100%;border-bottom: 1px solid gray;flex-grow: 1;}#sk-container-id-1 div.sk-label:hover label.sk-toggleable__label {background-color: #d4ebff;}#sk-container-id-1 div.sk-serial::before {content: \"\";position: absolute;border-left: 1px solid gray;box-sizing: border-box;top: 0;bottom: 0;left: 50%;z-index: 0;}#sk-container-id-1 div.sk-serial {display: flex;flex-direction: column;align-items: center;background-color: white;padding-right: 0.2em;padding-left: 0.2em;position: relative;}#sk-container-id-1 div.sk-item {position: relative;z-index: 1;}#sk-container-id-1 div.sk-parallel {display: flex;align-items: stretch;justify-content: center;background-color: white;position: relative;}#sk-container-id-1 div.sk-item::before, #sk-container-id-1 div.sk-parallel-item::before {content: \"\";position: absolute;border-left: 1px solid gray;box-sizing: border-box;top: 0;bottom: 0;left: 50%;z-index: -1;}#sk-container-id-1 div.sk-parallel-item {display: flex;flex-direction: column;z-index: 1;position: relative;background-color: white;}#sk-container-id-1 div.sk-parallel-item:first-child::after {align-self: flex-end;width: 50%;}#sk-container-id-1 div.sk-parallel-item:last-child::after {align-self: flex-start;width: 50%;}#sk-container-id-1 div.sk-parallel-item:only-child::after {width: 0;}#sk-container-id-1 div.sk-dashed-wrapped {border: 1px dashed gray;margin: 0 0.4em 0.5em 0.4em;box-sizing: border-box;padding-bottom: 0.4em;background-color: white;}#sk-container-id-1 div.sk-label label {font-family: monospace;font-weight: bold;display: inline-block;line-height: 1.2em;}#sk-container-id-1 div.sk-label-container {text-align: center;}#sk-container-id-1 div.sk-container {/* jupyter's `normalize.less` sets `[hidden] { display: none; }` but bootstrap.min.css set `[hidden] { display: none !important; }` so we also need the `!important` here to be able to override the default hidden behavior on the sphinx rendered scikit-learn.org. See: https://github.com/scikit-learn/scikit-learn/issues/21755 */display: inline-block !important;position: relative;}#sk-container-id-1 div.sk-text-repr-fallback {display: none;}</style><div id=\"sk-container-id-1\" class=\"sk-top-container\"><div class=\"sk-text-repr-fallback\"><pre>FuzzyKNN()</pre><b>In a Jupyter environment, please rerun this cell to show the HTML representation or trust the notebook. <br />On GitHub, the HTML representation is unable to render, please try loading this page with nbviewer.org.</b></div><div class=\"sk-container\" hidden><div class=\"sk-item\"><div class=\"sk-estimator sk-toggleable\"><input class=\"sk-toggleable__control sk-hidden--visually\" id=\"sk-estimator-id-1\" type=\"checkbox\" checked><label for=\"sk-estimator-id-1\" class=\"sk-toggleable__label sk-toggleable__label-arrow\">FuzzyKNN</label><div class=\"sk-toggleable__content\"><pre>FuzzyKNN()</pre></div></div></div></div></div>"
      ],
      "text/plain": [
       "FuzzyKNN()"
      ]
     },
     "execution_count": 40,
     "metadata": {},
     "output_type": "execute_result"
    }
   ],
   "source": [
    "model = FuzzyKNN(k=3)\n",
    "model.fit(X_train, y_train)"
   ]
  },
  {
   "cell_type": "code",
   "execution_count": 41,
   "id": "d87ca788-9d20-4163-875e-e4380910c798",
   "metadata": {},
   "outputs": [
    {
     "data": {
      "text/plain": [
       "0.9407101449275362"
      ]
     },
     "execution_count": 41,
     "metadata": {},
     "output_type": "execute_result"
    }
   ],
   "source": [
    "model.score(X_test, y_test)"
   ]
  },
  {
   "cell_type": "code",
   "execution_count": 194,
   "id": "94765605-245e-470d-bc7b-65107702bdc4",
   "metadata": {},
   "outputs": [],
   "source": [
    "res = model.predict(X_test)"
   ]
  },
  {
   "cell_type": "code",
   "execution_count": 195,
   "id": "399f8682-bf53-4438-83ab-3c436d1eb0f8",
   "metadata": {},
   "outputs": [],
   "source": [
    "res = [x[0] for x in res]"
   ]
  },
  {
   "cell_type": "code",
   "execution_count": 196,
   "id": "d7e8403e-27a6-4074-a2ea-9d1c172783ee",
   "metadata": {},
   "outputs": [],
   "source": [
    "wrong_classified = []"
   ]
  },
  {
   "cell_type": "code",
   "execution_count": 197,
   "id": "12d2e099-58ce-4300-ab7f-261547ef0114",
   "metadata": {
    "scrolled": true
   },
   "outputs": [],
   "source": [
    "for i in range(len(X_test)):\n",
    "    if res[i] != y_test[i]:\n",
    "        wrong_classified.append(i)"
   ]
  },
  {
   "cell_type": "code",
   "execution_count": 198,
   "id": "fb2d0d98-58e7-4623-bd52-4ec2643a7947",
   "metadata": {
    "scrolled": true
   },
   "outputs": [
    {
     "data": {
      "text/plain": [
       "[14,\n",
       " 155,\n",
       " 160,\n",
       " 161,\n",
       " 162,\n",
       " 164,\n",
       " 166,\n",
       " 168,\n",
       " 170,\n",
       " 177,\n",
       " 182,\n",
       " 186,\n",
       " 192,\n",
       " 194,\n",
       " 195,\n",
       " 197,\n",
       " 199,\n",
       " 202,\n",
       " 203,\n",
       " 212,\n",
       " 214,\n",
       " 216,\n",
       " 217,\n",
       " 220,\n",
       " 225,\n",
       " 226,\n",
       " 229,\n",
       " 231,\n",
       " 232,\n",
       " 235,\n",
       " 237,\n",
       " 246,\n",
       " 251,\n",
       " 253,\n",
       " 257,\n",
       " 264,\n",
       " 272,\n",
       " 273,\n",
       " 274,\n",
       " 275,\n",
       " 278,\n",
       " 283,\n",
       " 284,\n",
       " 285,\n",
       " 288,\n",
       " 291,\n",
       " 298]"
      ]
     },
     "execution_count": 198,
     "metadata": {},
     "output_type": "execute_result"
    }
   ],
   "source": [
    "wrong_classified"
   ]
  },
  {
   "cell_type": "code",
   "execution_count": null,
   "id": "6a36c751-ffae-4029-a93d-8fdf08b568b7",
   "metadata": {
    "scrolled": true
   },
   "outputs": [],
   "source": [
    "for index in wrong_classified:\n",
    "    arr = X_test[index].reshape(28,28)\n",
    "    img = Image.fromarray(np.uint8(arr) , 'L')\n",
    "    print('Label:', y_test[index])\n",
    "    display(img.resize((200, 200)))\n",
    "    print()"
   ]
  },
  {
   "cell_type": "markdown",
   "id": "f94d8ac4-941c-435a-bcf4-48232dc3cf3c",
   "metadata": {},
   "source": [
    "### ResNet50 inputs"
   ]
  },
  {
   "cell_type": "code",
   "execution_count": 84,
   "id": "0949cdf9-1f79-47c0-b7bd-02d81371eadf",
   "metadata": {},
   "outputs": [],
   "source": [
    "dataset = pd.read_json(f\"datasets/MNIST/digit-{digit}/mnist_full_cnn.json\")"
   ]
  },
  {
   "cell_type": "code",
   "execution_count": 85,
   "id": "4e653c1d-7135-4afe-9e06-1bf4cdbb61e8",
   "metadata": {},
   "outputs": [],
   "source": [
    "X_train = np.array(dataset.X_train.dropna().to_list())\n",
    "y_train = np.array(dataset.y_train.dropna().to_list())\n",
    "X_test = np.array(dataset.X_test.to_list())\n",
    "y_test = np.array(dataset.y_test.to_list())"
   ]
  },
  {
   "cell_type": "code",
   "execution_count": 86,
   "id": "81a960c8-47c8-4578-9688-082129107c8e",
   "metadata": {},
   "outputs": [],
   "source": [
    "model = FuzzyKNN()"
   ]
  },
  {
   "cell_type": "code",
   "execution_count": 87,
   "id": "d2a15e7e-701f-4845-88b8-04dee5c0d218",
   "metadata": {},
   "outputs": [],
   "source": [
    "parameters = {'k' : [3,5,7,9,11,31]}"
   ]
  },
  {
   "cell_type": "code",
   "execution_count": 88,
   "id": "3e105c92-e8ec-4223-b7fe-12236879aa8e",
   "metadata": {
    "scrolled": true
   },
   "outputs": [
    {
     "name": "stderr",
     "output_type": "stream",
     "text": [
      "5it [07:35, 91.00s/it]\n"
     ]
    }
   ],
   "source": [
    "outer_cv_scores = []\n",
    "outer_cv_params = []\n",
    "inner_cv = StratifiedKFold(n_splits=5)\n",
    "outer_cv = StratifiedKFold(n_splits=5)\n",
    "best_models = []\n",
    "\n",
    "for train, test in tqdm.tqdm(outer_cv.split(X_train, y_train)):\n",
    "\n",
    "    clf = GridSearchCV(estimator=model, param_grid=parameters, \n",
    "                       cv=inner_cv, n_jobs=-1, verbose=0, refit=True)\n",
    "    \n",
    "    clf.fit(X_train[train], y_train[train])\n",
    "\n",
    "    m = clf.best_estimator_\n",
    "\n",
    "    outer_cv_params.append(m.__repr__())\n",
    "    acc_score = m.score(X_train[test], y_train[test])\n",
    "    outer_cv_scores.append(m.score(X_train[test], y_train[test]))\n",
    "    best_models.append((m, acc_score))\n",
    "\n",
    "\n",
    "score = [np.mean(outer_cv_scores), np.std(outer_cv_scores)]\n",
    "best_models = sorted(best_models, key=lambda x:x[1], reverse=True)"
   ]
  },
  {
   "cell_type": "code",
   "execution_count": 89,
   "id": "4d25bbfb-3698-4a40-9f42-22f34dd23d09",
   "metadata": {},
   "outputs": [],
   "source": [
    "logger.info(log_model(model=best_models, model_name='FuzzyKNN', acc=score[0], std=score[1], dataset=f'MNIST_FULL_CNN_{digit}', serialize=True))"
   ]
  },
  {
   "cell_type": "code",
   "execution_count": 90,
   "id": "470306da-d7a5-4a6a-90d5-7438e5e394f5",
   "metadata": {},
   "outputs": [
    {
     "data": {
      "text/plain": [
       "[0.9, 0.01581138830084191]"
      ]
     },
     "execution_count": 90,
     "metadata": {},
     "output_type": "execute_result"
    }
   ],
   "source": [
    "score"
   ]
  },
  {
   "cell_type": "code",
   "execution_count": 91,
   "id": "1c4d5bf5-7a16-4572-b6fa-b2761247b3ac",
   "metadata": {},
   "outputs": [
    {
     "data": {
      "text/plain": [
       "[0.89, 0.88, 0.895, 0.91, 0.925]"
      ]
     },
     "execution_count": 91,
     "metadata": {},
     "output_type": "execute_result"
    }
   ],
   "source": [
    "outer_cv_scores"
   ]
  },
  {
   "cell_type": "code",
   "execution_count": 92,
   "id": "f4a7204e-2fa3-4b78-8c30-a9219448decc",
   "metadata": {},
   "outputs": [
    {
     "data": {
      "text/plain": [
       "['FuzzyKNN()', 'FuzzyKNN()', 'FuzzyKNN()', 'FuzzyKNN()', 'FuzzyKNN()']"
      ]
     },
     "execution_count": 92,
     "metadata": {},
     "output_type": "execute_result"
    }
   ],
   "source": [
    "outer_cv_params"
   ]
  },
  {
   "cell_type": "code",
   "execution_count": 93,
   "id": "21e59046-4aaf-483a-b4bd-8fd86aa85243",
   "metadata": {},
   "outputs": [
    {
     "data": {
      "text/plain": [
       "[(FuzzyKNN(), 0.925),\n",
       " (FuzzyKNN(), 0.91),\n",
       " (FuzzyKNN(), 0.895),\n",
       " (FuzzyKNN(), 0.89),\n",
       " (FuzzyKNN(), 0.88)]"
      ]
     },
     "execution_count": 93,
     "metadata": {},
     "output_type": "execute_result"
    }
   ],
   "source": [
    "best_models"
   ]
  },
  {
   "cell_type": "code",
   "execution_count": 215,
   "id": "30bd06af-d48a-49ae-9aa7-201e4272d754",
   "metadata": {},
   "outputs": [
    {
     "data": {
      "text/html": [
       "<style>#sk-container-id-7 {color: black;background-color: white;}#sk-container-id-7 pre{padding: 0;}#sk-container-id-7 div.sk-toggleable {background-color: white;}#sk-container-id-7 label.sk-toggleable__label {cursor: pointer;display: block;width: 100%;margin-bottom: 0;padding: 0.3em;box-sizing: border-box;text-align: center;}#sk-container-id-7 label.sk-toggleable__label-arrow:before {content: \"▸\";float: left;margin-right: 0.25em;color: #696969;}#sk-container-id-7 label.sk-toggleable__label-arrow:hover:before {color: black;}#sk-container-id-7 div.sk-estimator:hover label.sk-toggleable__label-arrow:before {color: black;}#sk-container-id-7 div.sk-toggleable__content {max-height: 0;max-width: 0;overflow: hidden;text-align: left;background-color: #f0f8ff;}#sk-container-id-7 div.sk-toggleable__content pre {margin: 0.2em;color: black;border-radius: 0.25em;background-color: #f0f8ff;}#sk-container-id-7 input.sk-toggleable__control:checked~div.sk-toggleable__content {max-height: 200px;max-width: 100%;overflow: auto;}#sk-container-id-7 input.sk-toggleable__control:checked~label.sk-toggleable__label-arrow:before {content: \"▾\";}#sk-container-id-7 div.sk-estimator input.sk-toggleable__control:checked~label.sk-toggleable__label {background-color: #d4ebff;}#sk-container-id-7 div.sk-label input.sk-toggleable__control:checked~label.sk-toggleable__label {background-color: #d4ebff;}#sk-container-id-7 input.sk-hidden--visually {border: 0;clip: rect(1px 1px 1px 1px);clip: rect(1px, 1px, 1px, 1px);height: 1px;margin: -1px;overflow: hidden;padding: 0;position: absolute;width: 1px;}#sk-container-id-7 div.sk-estimator {font-family: monospace;background-color: #f0f8ff;border: 1px dotted black;border-radius: 0.25em;box-sizing: border-box;margin-bottom: 0.5em;}#sk-container-id-7 div.sk-estimator:hover {background-color: #d4ebff;}#sk-container-id-7 div.sk-parallel-item::after {content: \"\";width: 100%;border-bottom: 1px solid gray;flex-grow: 1;}#sk-container-id-7 div.sk-label:hover label.sk-toggleable__label {background-color: #d4ebff;}#sk-container-id-7 div.sk-serial::before {content: \"\";position: absolute;border-left: 1px solid gray;box-sizing: border-box;top: 0;bottom: 0;left: 50%;z-index: 0;}#sk-container-id-7 div.sk-serial {display: flex;flex-direction: column;align-items: center;background-color: white;padding-right: 0.2em;padding-left: 0.2em;position: relative;}#sk-container-id-7 div.sk-item {position: relative;z-index: 1;}#sk-container-id-7 div.sk-parallel {display: flex;align-items: stretch;justify-content: center;background-color: white;position: relative;}#sk-container-id-7 div.sk-item::before, #sk-container-id-7 div.sk-parallel-item::before {content: \"\";position: absolute;border-left: 1px solid gray;box-sizing: border-box;top: 0;bottom: 0;left: 50%;z-index: -1;}#sk-container-id-7 div.sk-parallel-item {display: flex;flex-direction: column;z-index: 1;position: relative;background-color: white;}#sk-container-id-7 div.sk-parallel-item:first-child::after {align-self: flex-end;width: 50%;}#sk-container-id-7 div.sk-parallel-item:last-child::after {align-self: flex-start;width: 50%;}#sk-container-id-7 div.sk-parallel-item:only-child::after {width: 0;}#sk-container-id-7 div.sk-dashed-wrapped {border: 1px dashed gray;margin: 0 0.4em 0.5em 0.4em;box-sizing: border-box;padding-bottom: 0.4em;background-color: white;}#sk-container-id-7 div.sk-label label {font-family: monospace;font-weight: bold;display: inline-block;line-height: 1.2em;}#sk-container-id-7 div.sk-label-container {text-align: center;}#sk-container-id-7 div.sk-container {/* jupyter's `normalize.less` sets `[hidden] { display: none; }` but bootstrap.min.css set `[hidden] { display: none !important; }` so we also need the `!important` here to be able to override the default hidden behavior on the sphinx rendered scikit-learn.org. See: https://github.com/scikit-learn/scikit-learn/issues/21755 */display: inline-block !important;position: relative;}#sk-container-id-7 div.sk-text-repr-fallback {display: none;}</style><div id=\"sk-container-id-7\" class=\"sk-top-container\"><div class=\"sk-text-repr-fallback\"><pre>FuzzyKNN(k=5)</pre><b>In a Jupyter environment, please rerun this cell to show the HTML representation or trust the notebook. <br />On GitHub, the HTML representation is unable to render, please try loading this page with nbviewer.org.</b></div><div class=\"sk-container\" hidden><div class=\"sk-item\"><div class=\"sk-estimator sk-toggleable\"><input class=\"sk-toggleable__control sk-hidden--visually\" id=\"sk-estimator-id-7\" type=\"checkbox\" checked><label for=\"sk-estimator-id-7\" class=\"sk-toggleable__label sk-toggleable__label-arrow\">FuzzyKNN</label><div class=\"sk-toggleable__content\"><pre>FuzzyKNN(k=5)</pre></div></div></div></div></div>"
      ],
      "text/plain": [
       "FuzzyKNN(k=5)"
      ]
     },
     "execution_count": 215,
     "metadata": {},
     "output_type": "execute_result"
    }
   ],
   "source": [
    "model = FuzzyKNN(k=5)\n",
    "model.fit(X_train, y_train)"
   ]
  },
  {
   "cell_type": "code",
   "execution_count": 216,
   "id": "4fe5f095-f71f-451a-b225-7f885cf15db7",
   "metadata": {},
   "outputs": [
    {
     "data": {
      "text/plain": [
       "0.8433333333333334"
      ]
     },
     "execution_count": 216,
     "metadata": {},
     "output_type": "execute_result"
    }
   ],
   "source": [
    "model.score(X_test, y_test)"
   ]
  },
  {
   "cell_type": "code",
   "execution_count": 217,
   "id": "45da1d58-6964-4e83-999b-4a79fc708ef6",
   "metadata": {},
   "outputs": [],
   "source": [
    "res = model.predict(X_test)"
   ]
  },
  {
   "cell_type": "code",
   "execution_count": 218,
   "id": "ccf58c0e-506b-48d5-be0e-26243edcb9c1",
   "metadata": {},
   "outputs": [],
   "source": [
    "res = [x[0] for x in res]"
   ]
  },
  {
   "cell_type": "code",
   "execution_count": 219,
   "id": "3f2db493-b5a5-44f5-8ebc-67658409340f",
   "metadata": {},
   "outputs": [],
   "source": [
    "wrong_classified = []"
   ]
  },
  {
   "cell_type": "code",
   "execution_count": 220,
   "id": "f66849af-f5a3-4ef8-927f-e6c062f46454",
   "metadata": {
    "scrolled": true
   },
   "outputs": [],
   "source": [
    "for i in range(len(X_test)):\n",
    "    if res[i] != y_test[i]:\n",
    "        wrong_classified.append(i)"
   ]
  },
  {
   "cell_type": "code",
   "execution_count": 221,
   "id": "1854d4c5-36c9-494f-9c7c-882c2cf2d31b",
   "metadata": {
    "scrolled": true
   },
   "outputs": [
    {
     "data": {
      "text/plain": [
       "[14,\n",
       " 68,\n",
       " 94,\n",
       " 104,\n",
       " 125,\n",
       " 147,\n",
       " 149,\n",
       " 155,\n",
       " 161,\n",
       " 162,\n",
       " 164,\n",
       " 165,\n",
       " 169,\n",
       " 170,\n",
       " 173,\n",
       " 174,\n",
       " 184,\n",
       " 191,\n",
       " 192,\n",
       " 195,\n",
       " 199,\n",
       " 202,\n",
       " 204,\n",
       " 205,\n",
       " 207,\n",
       " 208,\n",
       " 209,\n",
       " 211,\n",
       " 226,\n",
       " 232,\n",
       " 234,\n",
       " 235,\n",
       " 241,\n",
       " 250,\n",
       " 253,\n",
       " 262,\n",
       " 263,\n",
       " 264,\n",
       " 271,\n",
       " 272,\n",
       " 275,\n",
       " 279,\n",
       " 281,\n",
       " 286,\n",
       " 291,\n",
       " 294,\n",
       " 298]"
      ]
     },
     "execution_count": 221,
     "metadata": {},
     "output_type": "execute_result"
    }
   ],
   "source": [
    "wrong_classified"
   ]
  },
  {
   "cell_type": "code",
   "execution_count": null,
   "id": "b1fbb681-14f4-45c2-b236-8d16087b4ce7",
   "metadata": {
    "scrolled": true
   },
   "outputs": [],
   "source": [
    "for index in wrong_classified:\n",
    "    arr = np.array(pd.read_json(\"./mnist.json\").X_test.dropna().to_list())[index].reshape(28,28)\n",
    "    img = Image.fromarray(np.uint8(arr) , 'L')\n",
    "    display(img.resize((200, 200)))"
   ]
  },
  {
   "cell_type": "markdown",
   "id": "e6f684cb-ff97-4b4e-bb50-b3f41502fe94",
   "metadata": {},
   "source": [
    "# <span style=\"color:red\"> Fuzzy C-Means "
   ]
  },
  {
   "cell_type": "markdown",
   "id": "bdbe5295-9bf0-4581-b1df-33af5dc26c45",
   "metadata": {},
   "source": [
    "## Synthetic datasets"
   ]
  },
  {
   "cell_type": "markdown",
   "id": "28c1e2b9-94a0-4fee-a1c7-f78705d3d488",
   "metadata": {},
   "source": [
    "### Gaussian"
   ]
  },
  {
   "cell_type": "code",
   "execution_count": 35,
   "id": "e95c68f7-b318-458a-ac9a-87fc818df189",
   "metadata": {},
   "outputs": [],
   "source": [
    "dataset = pd.read_csv(\"datasets/synthetic_datasets/gaussian.csv\").drop('Unnamed: 0', axis=1)"
   ]
  },
  {
   "cell_type": "code",
   "execution_count": 43,
   "id": "3602c9a2-ee9d-488b-8f28-c680fbfa09ff",
   "metadata": {},
   "outputs": [
    {
     "name": "stdout",
     "output_type": "stream",
     "text": [
      "20 candidates\n",
      "[{'m': 2, 'n_clusters': 3}, 0.00048567001963065155]\n"
     ]
    }
   ],
   "source": [
    "param_grid = {'n_clusters' : [2,3,4,5],\n",
    "              'm' : [2,2.5,3,3.5,4]}\n",
    "\n",
    "param_candidates = ParameterGrid(param_grid)\n",
    "print(f'{len(param_candidates)} candidates')\n",
    "\n",
    "cv = KFold(n_splits=5)\n",
    "\n",
    "def fit_model(params, dataset):\n",
    "\n",
    "    scores = []\n",
    "\n",
    "    for train, test in cv.split(dataset[['X', 'y_crisp']]):\n",
    "        X_train = dataset.X[train]\n",
    "        X_test = dataset.X[test]\n",
    "        y_train_crisp = dataset.y_crisp[train]\n",
    "        y_test_crisp = dataset.y_crisp[test] \n",
    "        y_test = dataset.y[test]\n",
    "\n",
    "        model = FCM(n_clusters=params['n_clusters'], m=params['m'])\n",
    "        \n",
    "        matrix = np.array([[0]*params['n_clusters']]*2)\n",
    "        \n",
    "        model.fit(np.array(X_train).reshape(-1,1))\n",
    "        \n",
    "        for pred, y in zip(model.soft_predict(np.array(X_test).reshape(-1,1)), y_test_crisp):\n",
    "            matrix[y][np.argmax(pred)] += 1 \n",
    "    \n",
    "        i = np.argmax(matrix[1])\n",
    "        \n",
    "        score = sklearn.metrics.mean_squared_error(\n",
    "            y_pred=np.array([y[i] for y in model.soft_predict(np.array(X_test).reshape(-1,1))]),\n",
    "            y_true=np.array(y_test)\n",
    "        )\n",
    "\n",
    "        scores.append(score)\n",
    "\n",
    "    mean_score = np.mean(scores)\n",
    "        \n",
    "    return [params, mean_score]\n",
    "\n",
    "res = Parallel(n_jobs=-1, verbose=0)(delayed(fit_model)(params, dataset) for params in param_candidates)\n",
    "best_result = min(res, key=lambda x: x[1])\n",
    "print(best_result)"
   ]
  },
  {
   "cell_type": "code",
   "execution_count": 44,
   "id": "c98f02cc-a843-41a5-a3ca-4f6c1f81cebe",
   "metadata": {},
   "outputs": [],
   "source": [
    "model = FCM(n_clusters=best_result[0]['n_clusters'], m=best_result[0]['m'])\n",
    "model.fit(np.array(dataset.X).reshape(-1,1))"
   ]
  },
  {
   "cell_type": "code",
   "execution_count": 45,
   "id": "82624794-1e2c-4162-b622-49004e9d308f",
   "metadata": {},
   "outputs": [
    {
     "data": {
      "text/plain": [
       "array([[0.01127356, 0.03622477, 0.95250167],\n",
       "       [0.01107813, 0.03565957, 0.9532623 ],\n",
       "       [0.01088376, 0.03509589, 0.95402035],\n",
       "       ...,\n",
       "       [0.95325873, 0.0358897 , 0.01085157],\n",
       "       [0.95248978, 0.03646472, 0.0110455 ],\n",
       "       [0.95171826, 0.03704125, 0.0112405 ]])"
      ]
     },
     "execution_count": 45,
     "metadata": {},
     "output_type": "execute_result"
    }
   ],
   "source": [
    "model.soft_predict(np.array(X_test).reshape(-1,1))"
   ]
  },
  {
   "cell_type": "code",
   "execution_count": 46,
   "id": "14bf4bf4-e543-4e49-94ac-bb739a216229",
   "metadata": {},
   "outputs": [],
   "source": [
    "matrix = np.array([[0]*best_result[0]['n_clusters']]*2)\n",
    "for pred, y in zip(model.soft_predict(np.array(dataset.X).reshape(-1,1)), dataset.y_crisp):\n",
    "    matrix[y][np.argmax(pred)] += 1 "
   ]
  },
  {
   "cell_type": "code",
   "execution_count": 47,
   "id": "5a962dc3-1dd4-4ac2-abdf-5265035cec04",
   "metadata": {},
   "outputs": [
    {
     "data": {
      "text/plain": [
       "array([[389,   0, 378],\n",
       "       [  0, 248,   0]])"
      ]
     },
     "execution_count": 47,
     "metadata": {},
     "output_type": "execute_result"
    }
   ],
   "source": [
    "matrix"
   ]
  },
  {
   "cell_type": "code",
   "execution_count": 48,
   "id": "3457456a-c863-441f-bcbe-f9a8466c4a11",
   "metadata": {},
   "outputs": [
    {
     "data": {
      "image/png": "[encoded data removed]",
      "text/plain": [
       "<Figure size 640x480 with 1 Axes>"
      ]
     },
     "metadata": {},
     "output_type": "display_data"
    }
   ],
   "source": [
    "plt.plot(X_test2_g[0], [y[np.argmax(matrix[1])] for y in model.soft_predict(X_test2_g[0].reshape(-1,1))], color=\"blue\", label=\"learnt f.\")\n",
    "plt.plot(X_test2_g[1], [y[np.argmax(matrix[1])] for y in model.soft_predict(X_test2_g[1].reshape(-1,1))], color=\"blue\")\n",
    "plt.plot(X_test2_g[2], [y[np.argmax(matrix[1])] for y in model.soft_predict(X_test2_g[2].reshape(-1,1))], color=\"blue\")\n",
    "\n",
    "plt.plot(X_test2_g[0], gaussian(X_test2_g[0], np.var(X_test)), color=\"red\", label=\"original f.\")\n",
    "plt.plot(X_test2_g[1], gaussian(X_test2_g[1], np.var(X_test)), color=\"red\")\n",
    "plt.plot(X_test2_g[2], gaussian(X_test2_g[2], np.var(X_test)), color=\"red\")\n",
    "\n",
    "plt.legend(loc=\"upper right\")\n",
    "\n",
    "plt.show()"
   ]
  },
  {
   "cell_type": "code",
   "execution_count": 49,
   "id": "c4d3f2ad-6b4e-4f56-a808-61f9c32b7c4d",
   "metadata": {},
   "outputs": [
    {
     "data": {
      "text/plain": [
       "0.044115529427672134"
      ]
     },
     "execution_count": 49,
     "metadata": {},
     "output_type": "execute_result"
    }
   ],
   "source": [
    "err = np.sum(step*np.abs(np.array([y[np.argmax(matrix[1])] for y in model.soft_predict(X_test.reshape(-1,1))]) - gaussian(X_test, np.var(X_test))))\n",
    "err"
   ]
  },
  {
   "cell_type": "code",
   "execution_count": 64,
   "id": "710f0433-a803-4b65-9cef-128254fc3128",
   "metadata": {},
   "outputs": [
    {
     "data": {
      "text/plain": [
       "'FCM(n_clusters=3, max_iter=150, m=2.0)'"
      ]
     },
     "execution_count": 64,
     "metadata": {},
     "output_type": "execute_result"
    }
   ],
   "source": [
    "model.__repr__()[:37] + ')'"
   ]
  },
  {
   "cell_type": "code",
   "execution_count": 65,
   "id": "65a95c71-4d71-4e02-8c5c-c1474179a81f",
   "metadata": {},
   "outputs": [],
   "source": [
    "logger.info(log_model(model=model, model_name=model.__repr__()[:37] + ')', score=err, dataset='gaussian', serialize=True))"
   ]
  },
  {
   "cell_type": "markdown",
   "id": "abbf83ce-1653-4e20-9c70-aef3d2a10316",
   "metadata": {},
   "source": [
    "### Trapezoidal"
   ]
  },
  {
   "cell_type": "code",
   "execution_count": 95,
   "id": "d1ecd8b5-4f10-44c2-b6e0-d8179aad5f75",
   "metadata": {},
   "outputs": [],
   "source": [
    "dataset = pd.read_csv(\"datasets/synthetic_datasets/trapezoidal.csv\").drop('Unnamed: 0', axis=1)"
   ]
  },
  {
   "cell_type": "code",
   "execution_count": 96,
   "id": "3cfcc0c3-ded9-4052-af23-6a1209bdddf4",
   "metadata": {},
   "outputs": [
    {
     "name": "stdout",
     "output_type": "stream",
     "text": [
      "20 candidates\n",
      "[{'m': 2, 'n_clusters': 3}, 0.001303794804695783]\n"
     ]
    }
   ],
   "source": [
    "param_grid = {'n_clusters' : [2,3,4,5],\n",
    "              'm' : [2,2.5,3,3.5,4]}\n",
    "\n",
    "param_candidates = ParameterGrid(param_grid)\n",
    "print(f'{len(param_candidates)} candidates')\n",
    "\n",
    "cv = KFold(n_splits=5)\n",
    "\n",
    "def fit_model(params, dataset):\n",
    "\n",
    "    scores = []\n",
    "\n",
    "    for train, test in cv.split(dataset[['X', 'y_crisp']]):\n",
    "        X_train = dataset.X[train]\n",
    "        X_test = dataset.X[test]\n",
    "        y_train_crisp = dataset.y_crisp[train]\n",
    "        y_test_crisp = dataset.y_crisp[test] \n",
    "        y_test = dataset.y[test]\n",
    "\n",
    "        model = FCM(n_clusters=params['n_clusters'], m=params['m'])\n",
    "        \n",
    "        matrix = np.array([[0]*params['n_clusters']]*2)\n",
    "        \n",
    "        model.fit(np.array(X_train).reshape(-1,1))\n",
    "        \n",
    "        for pred, y in zip(model.soft_predict(np.array(X_test).reshape(-1,1)), y_test_crisp):\n",
    "            matrix[y][np.argmax(pred)] += 1 \n",
    "    \n",
    "        i = np.argmax(matrix[1])\n",
    "        \n",
    "        score = sklearn.metrics.mean_squared_error(\n",
    "            y_pred=np.array([y[i] for y in model.soft_predict(np.array(X_test).reshape(-1,1))]),\n",
    "            y_true=np.array(y_test)\n",
    "        )\n",
    "\n",
    "        scores.append(score)\n",
    "\n",
    "    mean_score = np.mean(scores)\n",
    "        \n",
    "    return [params, mean_score]\n",
    "\n",
    "res = Parallel(n_jobs=-1, verbose=0)(delayed(fit_model)(params, dataset) for params in param_candidates)\n",
    "best_result = min(res, key=lambda x: x[1])\n",
    "print(best_result)"
   ]
  },
  {
   "cell_type": "code",
   "execution_count": 97,
   "id": "1932ae26-32f8-4fa2-9649-bb3b37165e77",
   "metadata": {},
   "outputs": [],
   "source": [
    "model = FCM(n_clusters=best_result[0]['n_clusters'], m=best_result[0]['m'])\n",
    "model.fit(np.array(dataset.X).reshape(-1,1))"
   ]
  },
  {
   "cell_type": "code",
   "execution_count": 98,
   "id": "efee9cfc-e6cd-4bb2-8478-744115c9e071",
   "metadata": {},
   "outputs": [
    {
     "data": {
      "text/plain": [
       "array([[5.99839917e-04, 9.97128618e-01, 2.27154232e-03],\n",
       "       [5.51898925e-04, 9.97354035e-01, 2.09406648e-03],\n",
       "       [5.05847081e-04, 9.97571069e-01, 1.92308368e-03],\n",
       "       ...,\n",
       "       [9.97154955e-01, 5.88224807e-04, 2.25682013e-03],\n",
       "       [9.96920990e-01, 6.37592064e-04, 2.44141757e-03],\n",
       "       [9.96678760e-01, 6.88822580e-04, 2.63241695e-03]])"
      ]
     },
     "execution_count": 98,
     "metadata": {},
     "output_type": "execute_result"
    }
   ],
   "source": [
    "model.soft_predict(np.array(X_test).reshape(-1,1))"
   ]
  },
  {
   "cell_type": "code",
   "execution_count": 99,
   "id": "602f9717-29a5-4f4c-b943-a08505577f97",
   "metadata": {},
   "outputs": [],
   "source": [
    "matrix = np.array([[0]*best_result[0]['n_clusters']]*2)\n",
    "for pred, y in zip(model.soft_predict(np.array(dataset.X).reshape(-1,1)), dataset.y_crisp):\n",
    "    matrix[y][np.argmax(pred)] += 1 "
   ]
  },
  {
   "cell_type": "code",
   "execution_count": 100,
   "id": "4b681bf3-67d3-48e1-bb94-9b9b7cb60701",
   "metadata": {},
   "outputs": [
    {
     "data": {
      "text/plain": [
       "array([[152, 135,   0],\n",
       "       [  0,   0, 736]])"
      ]
     },
     "execution_count": 100,
     "metadata": {},
     "output_type": "execute_result"
    }
   ],
   "source": [
    "matrix"
   ]
  },
  {
   "cell_type": "code",
   "execution_count": 101,
   "id": "1736840f-9831-4cff-8b5f-6b53ca3a8ddc",
   "metadata": {},
   "outputs": [
    {
     "data": {
      "image/png": "[encoded data removed]",
      "text/plain": [
       "<Figure size 640x480 with 1 Axes>"
      ]
     },
     "metadata": {},
     "output_type": "display_data"
    }
   ],
   "source": [
    "plt.plot(X_test2_t[0], [y[np.argmax(matrix[1])] for y in model.soft_predict(X_test2_t[0].reshape(-1,1))], color=\"blue\", label=\"learnt f.\")\n",
    "plt.plot(X_test2_t[1], [y[np.argmax(matrix[1])] for y in model.soft_predict(X_test2_t[1].reshape(-1,1))], color=\"blue\")\n",
    "plt.plot(X_test2_t[2], [y[np.argmax(matrix[1])] for y in model.soft_predict(X_test2_t[2].reshape(-1,1))], color=\"blue\")\n",
    "\n",
    "plt.plot(X_test2_t[0], [trapezoidal(x) for x in X_test2_t[0]], color=\"red\", label=\"original f.\")\n",
    "plt.plot(X_test2_t[1], [trapezoidal(x) for x in X_test2_t[1]], color=\"red\")\n",
    "plt.plot(X_test2_t[2], [trapezoidal(x) for x in X_test2_t[2]], color=\"red\")\n",
    "\n",
    "plt.legend(loc=\"upper right\")\n",
    "\n",
    "plt.show()"
   ]
  },
  {
   "cell_type": "code",
   "execution_count": 102,
   "id": "09bcc70a-5a3d-43a3-a766-a3a1c35f5a43",
   "metadata": {},
   "outputs": [
    {
     "data": {
      "text/plain": [
       "0.10414008754692464"
      ]
     },
     "execution_count": 102,
     "metadata": {},
     "output_type": "execute_result"
    }
   ],
   "source": [
    "err = np.sum(step*np.abs(np.array([y[np.argmax(matrix[1])] for y in model.soft_predict(X_test.reshape(-1,1))]) - [trapezoidal(x) for x in X_test]))\n",
    "err"
   ]
  },
  {
   "cell_type": "code",
   "execution_count": 103,
   "id": "d340c730-0111-4d8b-9885-b00a84af78d8",
   "metadata": {},
   "outputs": [],
   "source": [
    "logger.info(log_model(model=model, model_name=model.__repr__()[:37] + ')', score=err, dataset='trapezoidal', serialize=True))"
   ]
  },
  {
   "cell_type": "markdown",
   "id": "5643539c-bef7-4b4e-9e49-4824502de369",
   "metadata": {},
   "source": [
    "## Breast cancer"
   ]
  },
  {
   "cell_type": "code",
   "execution_count": 37,
   "id": "3e47db99-e4e2-4e09-950d-d9be7459aa67",
   "metadata": {},
   "outputs": [],
   "source": [
    "dataset_bc = load_breast_cancer()"
   ]
  },
  {
   "cell_type": "code",
   "execution_count": 38,
   "id": "45f0b269-4cd8-4cec-952a-81606210aec6",
   "metadata": {},
   "outputs": [],
   "source": [
    "def fit_model(params, dataset, train_idx, cv):\n",
    "\n",
    "    scores = []\n",
    "\n",
    "    for train, test in cv.split(dataset.data[train_idx], dataset.target[train_idx]):\n",
    "        X_train = dataset.data[train]\n",
    "        X_test = dataset.data[test]\n",
    "        y_train = dataset.target[train]\n",
    "        y_test = dataset.target[test] \n",
    "        \n",
    "        model = FCM(n_clusters=params['n_clusters'], m=params['m'])\n",
    "        \n",
    "        matrix = np.array([[0]*params['n_clusters']]*2)\n",
    "        \n",
    "        model.fit(X_train)\n",
    "        \n",
    "        for pred, y in zip(model.soft_predict(X_test), y_test):\n",
    "            matrix[y][np.argmax(pred)] += 1 \n",
    "    \n",
    "        i = np.argmax(matrix[1])\n",
    "        \n",
    "        preds = model.predict(X_test)\n",
    "        preds = [(1 if x==i else 0) for x in preds] \n",
    "\n",
    "        score = accuracy_score(y_pred=preds, y_true=y_test)\n",
    "        \n",
    "        scores.append(score)\n",
    "        \n",
    "    return [params, scores]"
   ]
  },
  {
   "cell_type": "code",
   "execution_count": 39,
   "id": "b054ba62-7887-4c6c-a057-fffa4f342dfc",
   "metadata": {},
   "outputs": [
    {
     "name": "stderr",
     "output_type": "stream",
     "text": [
      "5it [00:04,  1.02it/s]\n"
     ]
    }
   ],
   "source": [
    "param_grid = {'n_clusters' : [2,3,4,5],\n",
    "              'm' : [2,2.5,3,3.5,4]}\n",
    "\n",
    "best_results = []\n",
    "\n",
    "param_candidates = ParameterGrid(param_grid)\n",
    "\n",
    "outer_cv_scores = []\n",
    "inner_cv = StratifiedKFold(n_splits=5)\n",
    "outer_cv = StratifiedKFold(n_splits=5)\n",
    "best_models = []\n",
    "\n",
    "for train, test in tqdm.tqdm(outer_cv.split(dataset_bc.data, dataset_bc.target)):\n",
    "    \n",
    "    res = Parallel(n_jobs=-1, verbose=0)(delayed(fit_model)(params, dataset_bc, train, inner_cv) for params in param_candidates)\n",
    "    \n",
    "    best_result = max(res, key=lambda x: np.mean(x[1]))\n",
    "\n",
    "    model = FCM(n_clusters=best_result[0]['n_clusters'], m=best_result[0]['m'])\n",
    "\n",
    "    model.fit(dataset_bc.data[train])\n",
    "\n",
    "    matrix = np.array([[0]*best_result[0]['n_clusters']]*2)\n",
    "\n",
    "    for pred, y in zip(model.soft_predict(dataset_bc.data[test]), dataset_bc.target[test]):\n",
    "        matrix[y][np.argmax(pred)] += 1 \n",
    "\n",
    "    i = np.argmax(matrix[1])\n",
    "    \n",
    "    preds = model.predict(dataset_bc.data[test])\n",
    "\n",
    "    preds = [(1 if x==i else 0) for x in preds]\n",
    "\n",
    "    acc_score = accuracy_score(y_pred=preds, y_true=dataset_bc.target[test])\n",
    "    outer_cv_scores.append(acc_score)\n",
    "\n",
    "    best_results.append(best_result)\n",
    "    best_models.append((model, acc_score))\n",
    "\n",
    "\n",
    "score = [np.mean(outer_cv_scores), np.std(outer_cv_scores)]\n",
    "best_models = sorted(best_models, key=lambda x:x[1], reverse=True)"
   ]
  },
  {
   "cell_type": "code",
   "execution_count": 40,
   "id": "8eacf36b-0d12-4f66-867d-a805b73a1bc4",
   "metadata": {},
   "outputs": [
    {
     "data": {
      "text/plain": [
       "[0.8752212389380531, 0.017875256948811057]"
      ]
     },
     "execution_count": 40,
     "metadata": {},
     "output_type": "execute_result"
    }
   ],
   "source": [
    "score"
   ]
  },
  {
   "cell_type": "code",
   "execution_count": 41,
   "id": "72e18a1e-eb76-46b0-8cba-f5b94d8d52ab",
   "metadata": {
    "scrolled": true
   },
   "outputs": [
    {
     "data": {
      "text/plain": [
       "[[{'m': 3, 'n_clusters': 3},\n",
       "  [0.8571428571428571,\n",
       "   0.945054945054945,\n",
       "   0.9120879120879121,\n",
       "   0.8901098901098901,\n",
       "   0.8901098901098901]],\n",
       " [{'m': 3, 'n_clusters': 3},\n",
       "  [0.9120879120879121,\n",
       "   0.8791208791208791,\n",
       "   0.8901098901098901,\n",
       "   0.8901098901098901,\n",
       "   0.8901098901098901]],\n",
       " [{'m': 2, 'n_clusters': 3},\n",
       "  [0.8901098901098901,\n",
       "   0.7912087912087912,\n",
       "   0.8791208791208791,\n",
       "   0.9560439560439561,\n",
       "   0.9340659340659341]],\n",
       " [{'m': 2, 'n_clusters': 3},\n",
       "  [0.8901098901098901,\n",
       "   0.8241758241758241,\n",
       "   0.9120879120879121,\n",
       "   0.9230769230769231,\n",
       "   0.9230769230769231]],\n",
       " [{'m': 2, 'n_clusters': 3},\n",
       "  [0.8913043478260869,\n",
       "   0.8241758241758241,\n",
       "   0.9010989010989011,\n",
       "   0.9340659340659341,\n",
       "   0.9120879120879121]]]"
      ]
     },
     "execution_count": 41,
     "metadata": {},
     "output_type": "execute_result"
    }
   ],
   "source": [
    "best_results"
   ]
  },
  {
   "cell_type": "code",
   "execution_count": 42,
   "id": "2588eb7b-6b04-4da0-97e8-34a464d5e575",
   "metadata": {},
   "outputs": [
    {
     "data": {
      "text/plain": [
       "[0.8421052631578947,\n",
       " 0.8859649122807017,\n",
       " 0.8947368421052632,\n",
       " 0.8771929824561403,\n",
       " 0.8761061946902655]"
      ]
     },
     "execution_count": 42,
     "metadata": {},
     "output_type": "execute_result"
    }
   ],
   "source": [
    "outer_cv_scores"
   ]
  },
  {
   "cell_type": "code",
   "execution_count": null,
   "id": "ce7ebf6d-b763-44cc-a196-51b43d35624e",
   "metadata": {
    "scrolled": true
   },
   "outputs": [],
   "source": [
    "best_models"
   ]
  },
  {
   "cell_type": "code",
   "execution_count": 44,
   "id": "3b4f7f5f-938b-4d20-92d7-77a1655a423e",
   "metadata": {},
   "outputs": [],
   "source": [
    "logger.info(log_model(model=best_models, model_name='FCM', acc=score[0], std=score[1], dataset='breast_cancer', serialize=True))"
   ]
  },
  {
   "cell_type": "code",
   "execution_count": 171,
   "id": "d3031774-d609-4c38-ae40-f3f2204902cf",
   "metadata": {},
   "outputs": [],
   "source": [
    "X_train, X_test, y_train, y_test = train_test_split(dataset_bc.data, dataset_bc.target, random_state=42)"
   ]
  },
  {
   "cell_type": "code",
   "execution_count": 172,
   "id": "6b9e9c90-9a2e-4b31-a9a7-f2073cdffe8c",
   "metadata": {},
   "outputs": [],
   "source": [
    "model = FCM(n_clusters=3, m=3)"
   ]
  },
  {
   "cell_type": "code",
   "execution_count": 174,
   "id": "557ef8e2-b519-44cd-9547-58a5ef5ade17",
   "metadata": {},
   "outputs": [],
   "source": [
    "model.fit(X_train)"
   ]
  },
  {
   "cell_type": "code",
   "execution_count": 175,
   "id": "ad3e111e-4846-4b24-82ff-e1ecb273278c",
   "metadata": {},
   "outputs": [],
   "source": [
    "matrix = np.array([[0]*model.n_clusters]*2)\n",
    "\n",
    "for pred, y in zip(model.soft_predict(X_test), y_test):\n",
    "    matrix[int(y)][np.argmax(pred)] += 1 \n",
    "\n",
    "i = np.argmax(matrix[1])"
   ]
  },
  {
   "cell_type": "code",
   "execution_count": 176,
   "id": "23e98699-5912-49da-89c5-8a7db5357edc",
   "metadata": {},
   "outputs": [],
   "source": [
    "res = model.predict(X_test)"
   ]
  },
  {
   "cell_type": "code",
   "execution_count": 177,
   "id": "ef506681-1833-49be-8489-a4be5fb52c6d",
   "metadata": {},
   "outputs": [],
   "source": [
    "res = [(1 if x==i else 0) for x in res]"
   ]
  },
  {
   "cell_type": "code",
   "execution_count": 178,
   "id": "d439e809-929e-4b02-ba5b-d80c45424959",
   "metadata": {},
   "outputs": [],
   "source": [
    "wrong_classified = []"
   ]
  },
  {
   "cell_type": "code",
   "execution_count": 179,
   "id": "2c12ddd2-5c70-4c7f-8d24-d32fa62d7132",
   "metadata": {
    "scrolled": true
   },
   "outputs": [],
   "source": [
    "for i in range(len(X_test)):\n",
    "    if res[i] != y_test[i]:\n",
    "        wrong_classified.append(i)"
   ]
  },
  {
   "cell_type": "code",
   "execution_count": 180,
   "id": "705cbfe8-077c-4f0f-b540-cd875ea867d3",
   "metadata": {
    "scrolled": true
   },
   "outputs": [
    {
     "data": {
      "text/plain": [
       "[9, 12, 16, 33, 39, 63, 72, 76, 86, 91, 92, 108, 109, 112, 120, 132, 134, 138]"
      ]
     },
     "execution_count": 180,
     "metadata": {},
     "output_type": "execute_result"
    }
   ],
   "source": [
    "wrong_classified"
   ]
  },
  {
   "cell_type": "markdown",
   "id": "a8590072-8ba3-45c1-878a-ffb7ca8959a2",
   "metadata": {},
   "source": [
    "## MNIST"
   ]
  },
  {
   "cell_type": "code",
   "execution_count": 53,
   "id": "fbbbf885-9831-4191-87b2-c5c68b354d52",
   "metadata": {},
   "outputs": [],
   "source": [
    "dataset = pd.read_json(f'datasets/MNIST/digit-{digit}/mnist_full.json')"
   ]
  },
  {
   "cell_type": "code",
   "execution_count": 69,
   "id": "cf0156ed-70a5-4f95-b8d5-de58fb417406",
   "metadata": {},
   "outputs": [],
   "source": [
    "X_train = np.array(dataset.X_train.dropna().to_list())\n",
    "y_train = np.array(dataset.y_train.dropna().astype(int).to_list())\n",
    "X_test = np.array(dataset.X_test.to_list())\n",
    "y_test = np.array(dataset.y_test.to_list())"
   ]
  },
  {
   "cell_type": "code",
   "execution_count": 70,
   "id": "e7095321-a5e4-4cc3-bc3f-dfa69cd896dd",
   "metadata": {},
   "outputs": [],
   "source": [
    "def fit_model(params, X, y, train_idx, cv):\n",
    "\n",
    "    scores = []\n",
    "\n",
    "    for train, test in cv.split(X[train_idx], y[train_idx]):\n",
    "        \n",
    "        X_train = X[train]\n",
    "        X_test = X[test]\n",
    "        y_train = y[train]\n",
    "        y_test = y[test] \n",
    "        \n",
    "        model = FCM(n_clusters=params['n_clusters'], m=params['m'])\n",
    "        \n",
    "        matrix = np.array([[0]*params['n_clusters']]*2)\n",
    "        \n",
    "        model.fit(X_train)\n",
    "        \n",
    "        for pred, Y in zip(model.soft_predict(X_test), y_test):\n",
    "            matrix[Y][np.argmax(pred)] += 1 \n",
    "    \n",
    "        i = np.argmax(matrix[1])\n",
    "        \n",
    "        preds = model.predict(X_test)\n",
    "        preds = [(1 if x==i else 0) for x in preds] \n",
    "\n",
    "        score = accuracy_score(y_pred=preds, y_true=y_test)\n",
    "        \n",
    "        scores.append(score)\n",
    "        \n",
    "    return [params, scores]"
   ]
  },
  {
   "cell_type": "code",
   "execution_count": 71,
   "id": "15730b15-6ef1-4576-a2a6-a519e3b114c8",
   "metadata": {},
   "outputs": [
    {
     "name": "stderr",
     "output_type": "stream",
     "text": [
      "5it [00:23,  4.76s/it]\n"
     ]
    }
   ],
   "source": [
    "param_grid = {'n_clusters' : [2,3,4,5],\n",
    "              'm' : [2,2.5,3,3.5,4]}\n",
    "\n",
    "best_results = []\n",
    "\n",
    "param_candidates = ParameterGrid(param_grid)\n",
    "\n",
    "outer_cv_scores = []\n",
    "inner_cv = StratifiedKFold(n_splits=5)\n",
    "outer_cv = StratifiedKFold(n_splits=5)\n",
    "best_models = []\n",
    "\n",
    "for train, test in tqdm.tqdm(outer_cv.split(X_train, y_train)):\n",
    "    \n",
    "    res = Parallel(n_jobs=-1, verbose=0)(delayed(fit_model)(params, X_train, y_train, train, inner_cv) for params in param_candidates)\n",
    "    \n",
    "    best_result = max(res, key=lambda x: np.mean(x[1]))\n",
    "\n",
    "    model = FCM(n_clusters=best_result[0]['n_clusters'], m=best_result[0]['m'])\n",
    "\n",
    "    model.fit(X_train[train])\n",
    "\n",
    "    matrix = np.array([[0]*best_result[0]['n_clusters']]*2)\n",
    "\n",
    "    for pred, y in zip(model.soft_predict(X_train[test]), y_train[test]):\n",
    "        matrix[y][np.argmax(pred)] += 1 \n",
    "\n",
    "    i = np.argmax(matrix[1])\n",
    "    \n",
    "    preds = model.predict(X_train[test])\n",
    "\n",
    "    preds = [(1 if x==i else 0) for x in preds]\n",
    "\n",
    "    acc_score = accuracy_score(y_pred=preds, y_true=y_train[test])\n",
    "    outer_cv_scores.append(acc_score)\n",
    "\n",
    "    best_results.append(best_result)\n",
    "    best_models.append((model, acc_score))\n",
    "\n",
    "\n",
    "score = [np.mean(outer_cv_scores), np.std(outer_cv_scores)]\n",
    "best_models = sorted(best_models, key=lambda x:x[1], reverse=True)"
   ]
  },
  {
   "cell_type": "code",
   "execution_count": 72,
   "id": "c5290554-583b-49f6-9047-76d36436a553",
   "metadata": {},
   "outputs": [
    {
     "data": {
      "text/plain": [
       "[0.549, 0.077032460690283]"
      ]
     },
     "execution_count": 72,
     "metadata": {},
     "output_type": "execute_result"
    }
   ],
   "source": [
    "score"
   ]
  },
  {
   "cell_type": "code",
   "execution_count": 73,
   "id": "011e203c-3a6d-4d67-8d43-476ba442bbbb",
   "metadata": {},
   "outputs": [
    {
     "data": {
      "text/plain": [
       "[[{'m': 2, 'n_clusters': 3}, [0.6125, 0.66875, 0.8, 0.75, 0.475]],\n",
       " [{'m': 4, 'n_clusters': 2}, [0.725, 0.6125, 0.75625, 0.55, 0.725]],\n",
       " [{'m': 3.5, 'n_clusters': 2}, [0.51875, 0.775, 0.55, 0.8, 0.575]],\n",
       " [{'m': 2, 'n_clusters': 2}, [0.69375, 0.6625, 0.65625, 0.58125, 0.74375]],\n",
       " [{'m': 3.5, 'n_clusters': 2}, [0.6375, 0.675, 0.75625, 0.5625, 0.65]]]"
      ]
     },
     "execution_count": 73,
     "metadata": {},
     "output_type": "execute_result"
    }
   ],
   "source": [
    "best_results"
   ]
  },
  {
   "cell_type": "code",
   "execution_count": 74,
   "id": "1222a595-5f47-4f9c-acb0-9c9230ec5647",
   "metadata": {},
   "outputs": [
    {
     "data": {
      "text/plain": [
       "[0.525, 0.69, 0.545, 0.455, 0.53]"
      ]
     },
     "execution_count": 74,
     "metadata": {},
     "output_type": "execute_result"
    }
   ],
   "source": [
    "outer_cv_scores"
   ]
  },
  {
   "cell_type": "code",
   "execution_count": null,
   "id": "a2a72eee-7a8f-44fb-8aad-c41cc0fa0e51",
   "metadata": {
    "scrolled": true
   },
   "outputs": [],
   "source": [
    "best_models"
   ]
  },
  {
   "cell_type": "code",
   "execution_count": 76,
   "id": "87972d1e-8346-4b76-81ca-b8487b548d67",
   "metadata": {},
   "outputs": [],
   "source": [
    "logger.info(log_model(model=best_models, model_name='FCM', acc=score[0], std=score[1], dataset=f'MNIST_FULL_{digit}', serialize=True))"
   ]
  },
  {
   "cell_type": "code",
   "execution_count": 111,
   "id": "6ea9d190-8f37-4fce-8504-c65eec60dad7",
   "metadata": {},
   "outputs": [],
   "source": [
    "model = FCM(n_clusters=3, m=3)"
   ]
  },
  {
   "cell_type": "code",
   "execution_count": 113,
   "id": "4c4107cf-9413-4454-8686-963240b8ed2d",
   "metadata": {},
   "outputs": [],
   "source": [
    "model.fit(X_train)"
   ]
  },
  {
   "cell_type": "code",
   "execution_count": 133,
   "id": "92157315-519e-4f4b-8ac2-a20f5546d92d",
   "metadata": {},
   "outputs": [],
   "source": [
    "matrix = np.array([[0]*model.n_clusters]*2)\n",
    "\n",
    "for pred, y in zip(model.soft_predict(X_test), y_test):\n",
    "    matrix[int(y)][np.argmax(pred)] += 1 \n",
    "\n",
    "i = np.argmax(matrix[1])"
   ]
  },
  {
   "cell_type": "code",
   "execution_count": 114,
   "id": "d2d11f8d-17b7-4b1b-921d-8dbe42e22076",
   "metadata": {},
   "outputs": [],
   "source": [
    "res = model.predict(X_test)"
   ]
  },
  {
   "cell_type": "code",
   "execution_count": 136,
   "id": "8975c216-5fd7-43f6-ace6-2b1ffce8bcfc",
   "metadata": {},
   "outputs": [],
   "source": [
    "res = [(1 if x==i else 0) for x in res]"
   ]
  },
  {
   "cell_type": "code",
   "execution_count": 138,
   "id": "44dead7c-d58e-4150-a71c-03efc1b2b984",
   "metadata": {},
   "outputs": [],
   "source": [
    "wrong_classified = []"
   ]
  },
  {
   "cell_type": "code",
   "execution_count": 139,
   "id": "b3d9a808-8dff-41be-9938-0b0ae67449ba",
   "metadata": {
    "scrolled": true
   },
   "outputs": [],
   "source": [
    "for i in range(len(X_test)):\n",
    "    if res[i] != y_test[i]:\n",
    "        wrong_classified.append(i)"
   ]
  },
  {
   "cell_type": "code",
   "execution_count": null,
   "id": "6e57cc1f-3105-4544-89ec-f84cb3c3ca5b",
   "metadata": {
    "scrolled": true
   },
   "outputs": [],
   "source": [
    "wrong_classified"
   ]
  },
  {
   "cell_type": "code",
   "execution_count": null,
   "id": "b9899274-c76e-4096-a4f7-09f1b79690fb",
   "metadata": {
    "scrolled": true
   },
   "outputs": [],
   "source": [
    "for index in wrong_classified:\n",
    "    arr = X_test[index].reshape(28,28)\n",
    "    img = Image.fromarray(np.uint8(arr) , 'L')\n",
    "    display(img.resize((200, 200)))"
   ]
  },
  {
   "cell_type": "markdown",
   "id": "9790e7b4-7d66-4bfa-99fb-a485a1401951",
   "metadata": {},
   "source": [
    "### ResNet50 inputs"
   ]
  },
  {
   "cell_type": "code",
   "execution_count": 63,
   "id": "2d4e6760-b7d1-4a7d-bf1d-307f75e8f994",
   "metadata": {},
   "outputs": [],
   "source": [
    "dataset = pd.read_json(f\"./datasets/MNIST/digit-{digit}/mnist_full_cnn.json\")"
   ]
  },
  {
   "cell_type": "code",
   "execution_count": 94,
   "id": "ea5cbf67-1e62-4b89-8823-43c167f13832",
   "metadata": {},
   "outputs": [],
   "source": [
    "X_train = np.array(dataset.X_train.dropna().to_list())\n",
    "y_train = np.array(dataset.y_train.dropna().astype(int).to_list())\n",
    "X_test = np.array(dataset.X_test.to_list())\n",
    "y_test = np.array(dataset.y_test.to_list())"
   ]
  },
  {
   "cell_type": "code",
   "execution_count": 95,
   "id": "7f13a0fd-53df-465a-b0e8-0b23bd5ee455",
   "metadata": {},
   "outputs": [],
   "source": [
    "def fit_model(params, X, y, train_idx, cv):\n",
    "\n",
    "    scores = []\n",
    "\n",
    "    for train, test in cv.split(X[train_idx], y[train_idx]):\n",
    "        \n",
    "        X_train = X[train]\n",
    "        X_test = X[test]\n",
    "        y_train = y[train]\n",
    "        y_test = y[test] \n",
    "        \n",
    "        model = FCM(n_clusters=params['n_clusters'], m=params['m'])\n",
    "        \n",
    "        matrix = np.array([[0]*params['n_clusters']]*2)\n",
    "        \n",
    "        model.fit(X_train)\n",
    "        \n",
    "        for pred, Y in zip(model.soft_predict(X_test), y_test):\n",
    "            matrix[Y][np.argmax(pred)] += 1 \n",
    "    \n",
    "        i = np.argmax(matrix[1])\n",
    "        \n",
    "        preds = model.predict(X_test)\n",
    "        preds = [(1 if x==i else 0) for x in preds] \n",
    "\n",
    "        score = accuracy_score(y_pred=preds, y_true=y_test)\n",
    "        \n",
    "        scores.append(score)\n",
    "        \n",
    "    return [params, scores]"
   ]
  },
  {
   "cell_type": "code",
   "execution_count": 96,
   "id": "ec011e3c-fa4b-4895-8fb9-a20250194540",
   "metadata": {},
   "outputs": [
    {
     "name": "stderr",
     "output_type": "stream",
     "text": [
      "5it [04:22, 52.49s/it]\n"
     ]
    }
   ],
   "source": [
    "param_grid = {'n_clusters' : [2,3,4,5],\n",
    "              'm' : [2,2.5,3,3.5,4]}\n",
    "\n",
    "best_results = []\n",
    "\n",
    "param_candidates = ParameterGrid(param_grid)\n",
    "\n",
    "outer_cv_scores = []\n",
    "inner_cv = StratifiedKFold(n_splits=5)\n",
    "outer_cv = StratifiedKFold(n_splits=5)\n",
    "best_models = []\n",
    "\n",
    "for train, test in tqdm.tqdm(outer_cv.split(X_train, y_train)):\n",
    "    \n",
    "    res = Parallel(n_jobs=-1, verbose=0)(delayed(fit_model)(params, X_train, y_train, train, inner_cv) for params in param_candidates)\n",
    "    \n",
    "    best_result = max(res, key=lambda x: np.mean(x[1]))\n",
    "\n",
    "    model = FCM(n_clusters=best_result[0]['n_clusters'], m=best_result[0]['m'])\n",
    "\n",
    "    model.fit(X_train[train])\n",
    "\n",
    "    matrix = np.array([[0]*best_result[0]['n_clusters']]*2)\n",
    "\n",
    "    for pred, y in zip(model.soft_predict(X_train[test]), y_train[test]):\n",
    "        matrix[y][np.argmax(pred)] += 1 \n",
    "\n",
    "    i = np.argmax(matrix[1])\n",
    "    \n",
    "    preds = model.predict(X_train[test])\n",
    "\n",
    "    preds = [(1 if x==i else 0) for x in preds]\n",
    "\n",
    "    acc_score = accuracy_score(y_pred=preds, y_true=y_train[test])\n",
    "    outer_cv_scores.append(acc_score)\n",
    "\n",
    "    best_results.append(best_result)\n",
    "    best_models.append((model, acc_score))\n",
    "\n",
    "\n",
    "score = [np.mean(outer_cv_scores), np.std(outer_cv_scores)]\n",
    "best_models = sorted(best_models, key=lambda x:x[1], reverse=True)"
   ]
  },
  {
   "cell_type": "code",
   "execution_count": 97,
   "id": "dc1e0812-5305-4867-9526-b6ec74fbca29",
   "metadata": {},
   "outputs": [],
   "source": [
    "logger.info(log_model(model=best_models, model_name='FCM', acc=score[0], std=score[1], dataset=f'MNIST_FULL_CNN_{digit}', serialize=True))"
   ]
  },
  {
   "cell_type": "code",
   "execution_count": 98,
   "id": "22e2f2a4-5fdf-480c-a0a1-08f8ebb7dc68",
   "metadata": {},
   "outputs": [
    {
     "data": {
      "text/plain": [
       "[0.7060000000000001, 0.02922327839240489]"
      ]
     },
     "execution_count": 98,
     "metadata": {},
     "output_type": "execute_result"
    }
   ],
   "source": [
    "score"
   ]
  },
  {
   "cell_type": "code",
   "execution_count": 99,
   "id": "1cf96ca5-3901-41eb-9e08-9251cebe9abe",
   "metadata": {},
   "outputs": [
    {
     "data": {
      "text/plain": [
       "[0.74, 0.71, 0.735, 0.67, 0.675]"
      ]
     },
     "execution_count": 99,
     "metadata": {},
     "output_type": "execute_result"
    }
   ],
   "source": [
    "outer_cv_scores"
   ]
  },
  {
   "cell_type": "code",
   "execution_count": 100,
   "id": "23a6d3c2-8356-4b97-8305-8a251dae0fd3",
   "metadata": {},
   "outputs": [
    {
     "data": {
      "text/plain": [
       "[[{'m': 2, 'n_clusters': 2}, [0.74375, 0.66875, 0.78125, 0.68125, 0.7]],\n",
       " [{'m': 3, 'n_clusters': 4}, [0.71875, 0.675, 0.7875, 0.6875, 0.7125]],\n",
       " [{'m': 3, 'n_clusters': 4}, [0.71875, 0.69375, 0.75, 0.7, 0.71875]],\n",
       " [{'m': 3, 'n_clusters': 4}, [0.7125, 0.69375, 0.75625, 0.7, 0.7125]],\n",
       " [{'m': 2.5, 'n_clusters': 2}, [0.74375, 0.69375, 0.7625, 0.69375, 0.6875]]]"
      ]
     },
     "execution_count": 100,
     "metadata": {},
     "output_type": "execute_result"
    }
   ],
   "source": [
    "best_results"
   ]
  },
  {
   "cell_type": "code",
   "execution_count": null,
   "id": "b3cfde3e-e03b-411b-9aac-91c5e7cfa695",
   "metadata": {
    "scrolled": true
   },
   "outputs": [],
   "source": [
    "best_models"
   ]
  },
  {
   "cell_type": "code",
   "execution_count": 150,
   "id": "57babda7-2091-4456-b691-ef1f774f296f",
   "metadata": {},
   "outputs": [],
   "source": [
    "model = FCM(n_clusters=2, m=2)"
   ]
  },
  {
   "cell_type": "code",
   "execution_count": 151,
   "id": "c60f5e45-d5ea-49e3-8766-f8cf9cd5a4a3",
   "metadata": {},
   "outputs": [],
   "source": [
    "model.fit(X_train)"
   ]
  },
  {
   "cell_type": "code",
   "execution_count": 152,
   "id": "263ee2ec-c1cd-49c4-a4ad-34b393090203",
   "metadata": {},
   "outputs": [],
   "source": [
    "matrix = np.array([[0]*model.n_clusters]*2)\n",
    "\n",
    "for pred, y in zip(model.soft_predict(X_test), y_test):\n",
    "    matrix[int(y)][np.argmax(pred)] += 1 \n",
    "\n",
    "i = np.argmax(matrix[1])"
   ]
  },
  {
   "cell_type": "code",
   "execution_count": 153,
   "id": "24497f1a-6f82-412e-8997-42b40b4db82e",
   "metadata": {},
   "outputs": [],
   "source": [
    "res = model.predict(X_test)"
   ]
  },
  {
   "cell_type": "code",
   "execution_count": 154,
   "id": "78b15cac-113d-463e-819f-cc6146dd9676",
   "metadata": {},
   "outputs": [],
   "source": [
    "res = [(1 if x==i else 0) for x in res]"
   ]
  },
  {
   "cell_type": "code",
   "execution_count": 155,
   "id": "6d07893f-8b96-4785-80a2-dc9c3c23e107",
   "metadata": {},
   "outputs": [],
   "source": [
    "wrong_classified = []"
   ]
  },
  {
   "cell_type": "code",
   "execution_count": 156,
   "id": "7f4bb8c5-3def-4e68-8a7c-91c18a345fc6",
   "metadata": {
    "scrolled": true
   },
   "outputs": [],
   "source": [
    "for i in range(len(X_test)):\n",
    "    if res[i] != y_test[i]:\n",
    "        wrong_classified.append(i)"
   ]
  },
  {
   "cell_type": "code",
   "execution_count": null,
   "id": "f5302c61-0e99-4af8-b4ac-705acb02123e",
   "metadata": {
    "scrolled": true
   },
   "outputs": [],
   "source": [
    "wrong_classified"
   ]
  },
  {
   "cell_type": "code",
   "execution_count": null,
   "id": "10d0ceb6-f9c7-498a-8ec0-9034b0c10aac",
   "metadata": {
    "scrolled": true
   },
   "outputs": [],
   "source": [
    "for index in wrong_classified:\n",
    "    arr = np.array(pd.read_json('mnist.json').X_test.dropna().to_list())[index].reshape(28,28)\n",
    "    img = Image.fromarray(np.uint8(arr) , 'L')\n",
    "    display(img.resize((200, 200)))"
   ]
  },
  {
   "cell_type": "markdown",
   "id": "256210ed-b8b9-4028-96f6-02eb86905103",
   "metadata": {},
   "source": [
    "# <span style=\"color:red\"> SVM"
   ]
  },
  {
   "cell_type": "markdown",
   "id": "b7701570-42d4-4599-8bd4-c80eb58271ae",
   "metadata": {},
   "source": [
    "## Synthetic datasets"
   ]
  },
  {
   "cell_type": "markdown",
   "id": "f9816d6e-8a2a-40d5-8a3b-1938bf5f629f",
   "metadata": {},
   "source": [
    "### Gaussian"
   ]
  },
  {
   "cell_type": "code",
   "execution_count": 86,
   "id": "1ccd6071-d97f-4857-8b47-51ff057351c6",
   "metadata": {},
   "outputs": [],
   "source": [
    "dataset = pd.read_csv(\"datasets/synthetic_datasets/gaussian.csv\").drop('Unnamed: 0', axis=1)"
   ]
  },
  {
   "cell_type": "code",
   "execution_count": 94,
   "id": "d9245cc6-1e30-4c7c-9796-f53d0865a26e",
   "metadata": {
    "scrolled": true
   },
   "outputs": [
    {
     "name": "stdout",
     "output_type": "stream",
     "text": [
      "Fitting 5 folds for each of 53 candidates, totalling 265 fits\n"
     ]
    },
    {
     "data": {
      "text/html": [
       "<style>#sk-container-id-10 {color: black;background-color: white;}#sk-container-id-10 pre{padding: 0;}#sk-container-id-10 div.sk-toggleable {background-color: white;}#sk-container-id-10 label.sk-toggleable__label {cursor: pointer;display: block;width: 100%;margin-bottom: 0;padding: 0.3em;box-sizing: border-box;text-align: center;}#sk-container-id-10 label.sk-toggleable__label-arrow:before {content: \"▸\";float: left;margin-right: 0.25em;color: #696969;}#sk-container-id-10 label.sk-toggleable__label-arrow:hover:before {color: black;}#sk-container-id-10 div.sk-estimator:hover label.sk-toggleable__label-arrow:before {color: black;}#sk-container-id-10 div.sk-toggleable__content {max-height: 0;max-width: 0;overflow: hidden;text-align: left;background-color: #f0f8ff;}#sk-container-id-10 div.sk-toggleable__content pre {margin: 0.2em;color: black;border-radius: 0.25em;background-color: #f0f8ff;}#sk-container-id-10 input.sk-toggleable__control:checked~div.sk-toggleable__content {max-height: 200px;max-width: 100%;overflow: auto;}#sk-container-id-10 input.sk-toggleable__control:checked~label.sk-toggleable__label-arrow:before {content: \"▾\";}#sk-container-id-10 div.sk-estimator input.sk-toggleable__control:checked~label.sk-toggleable__label {background-color: #d4ebff;}#sk-container-id-10 div.sk-label input.sk-toggleable__control:checked~label.sk-toggleable__label {background-color: #d4ebff;}#sk-container-id-10 input.sk-hidden--visually {border: 0;clip: rect(1px 1px 1px 1px);clip: rect(1px, 1px, 1px, 1px);height: 1px;margin: -1px;overflow: hidden;padding: 0;position: absolute;width: 1px;}#sk-container-id-10 div.sk-estimator {font-family: monospace;background-color: #f0f8ff;border: 1px dotted black;border-radius: 0.25em;box-sizing: border-box;margin-bottom: 0.5em;}#sk-container-id-10 div.sk-estimator:hover {background-color: #d4ebff;}#sk-container-id-10 div.sk-parallel-item::after {content: \"\";width: 100%;border-bottom: 1px solid gray;flex-grow: 1;}#sk-container-id-10 div.sk-label:hover label.sk-toggleable__label {background-color: #d4ebff;}#sk-container-id-10 div.sk-serial::before {content: \"\";position: absolute;border-left: 1px solid gray;box-sizing: border-box;top: 0;bottom: 0;left: 50%;z-index: 0;}#sk-container-id-10 div.sk-serial {display: flex;flex-direction: column;align-items: center;background-color: white;padding-right: 0.2em;padding-left: 0.2em;position: relative;}#sk-container-id-10 div.sk-item {position: relative;z-index: 1;}#sk-container-id-10 div.sk-parallel {display: flex;align-items: stretch;justify-content: center;background-color: white;position: relative;}#sk-container-id-10 div.sk-item::before, #sk-container-id-10 div.sk-parallel-item::before {content: \"\";position: absolute;border-left: 1px solid gray;box-sizing: border-box;top: 0;bottom: 0;left: 50%;z-index: -1;}#sk-container-id-10 div.sk-parallel-item {display: flex;flex-direction: column;z-index: 1;position: relative;background-color: white;}#sk-container-id-10 div.sk-parallel-item:first-child::after {align-self: flex-end;width: 50%;}#sk-container-id-10 div.sk-parallel-item:last-child::after {align-self: flex-start;width: 50%;}#sk-container-id-10 div.sk-parallel-item:only-child::after {width: 0;}#sk-container-id-10 div.sk-dashed-wrapped {border: 1px dashed gray;margin: 0 0.4em 0.5em 0.4em;box-sizing: border-box;padding-bottom: 0.4em;background-color: white;}#sk-container-id-10 div.sk-label label {font-family: monospace;font-weight: bold;display: inline-block;line-height: 1.2em;}#sk-container-id-10 div.sk-label-container {text-align: center;}#sk-container-id-10 div.sk-container {/* jupyter's `normalize.less` sets `[hidden] { display: none; }` but bootstrap.min.css set `[hidden] { display: none !important; }` so we also need the `!important` here to be able to override the default hidden behavior on the sphinx rendered scikit-learn.org. See: https://github.com/scikit-learn/scikit-learn/issues/21755 */display: inline-block !important;position: relative;}#sk-container-id-10 div.sk-text-repr-fallback {display: none;}</style><div id=\"sk-container-id-10\" class=\"sk-top-container\"><div class=\"sk-text-repr-fallback\"><pre>GridSearchCV(estimator=SVR(), n_jobs=-1,\n",
       "             param_grid=[{&#x27;C&#x27;: array([0.01, 0.1 , 1.  ]), &#x27;degree&#x27;: [2, 3, 4],\n",
       "                          &#x27;kernel&#x27;: [&#x27;poly&#x27;]},\n",
       "                         {&#x27;C&#x27;: array([ 0.01,  0.1 ,  1.  , 10.  ]),\n",
       "                          &#x27;gamma&#x27;: [&#x27;auto&#x27;, &#x27;scale&#x27;, 0.01, 0.1, 1.0],\n",
       "                          &#x27;kernel&#x27;: [&#x27;rbf&#x27;, &#x27;sigmoid&#x27;]},\n",
       "                         {&#x27;C&#x27;: array([ 0.01,  0.1 ,  1.  , 10.  ]),\n",
       "                          &#x27;kernel&#x27;: [&#x27;linear&#x27;]}],\n",
       "             verbose=1)</pre><b>In a Jupyter environment, please rerun this cell to show the HTML representation or trust the notebook. <br />On GitHub, the HTML representation is unable to render, please try loading this page with nbviewer.org.</b></div><div class=\"sk-container\" hidden><div class=\"sk-item sk-dashed-wrapped\"><div class=\"sk-label-container\"><div class=\"sk-label sk-toggleable\"><input class=\"sk-toggleable__control sk-hidden--visually\" id=\"sk-estimator-id-20\" type=\"checkbox\" ><label for=\"sk-estimator-id-20\" class=\"sk-toggleable__label sk-toggleable__label-arrow\">GridSearchCV</label><div class=\"sk-toggleable__content\"><pre>GridSearchCV(estimator=SVR(), n_jobs=-1,\n",
       "             param_grid=[{&#x27;C&#x27;: array([0.01, 0.1 , 1.  ]), &#x27;degree&#x27;: [2, 3, 4],\n",
       "                          &#x27;kernel&#x27;: [&#x27;poly&#x27;]},\n",
       "                         {&#x27;C&#x27;: array([ 0.01,  0.1 ,  1.  , 10.  ]),\n",
       "                          &#x27;gamma&#x27;: [&#x27;auto&#x27;, &#x27;scale&#x27;, 0.01, 0.1, 1.0],\n",
       "                          &#x27;kernel&#x27;: [&#x27;rbf&#x27;, &#x27;sigmoid&#x27;]},\n",
       "                         {&#x27;C&#x27;: array([ 0.01,  0.1 ,  1.  , 10.  ]),\n",
       "                          &#x27;kernel&#x27;: [&#x27;linear&#x27;]}],\n",
       "             verbose=1)</pre></div></div></div><div class=\"sk-parallel\"><div class=\"sk-parallel-item\"><div class=\"sk-item\"><div class=\"sk-label-container\"><div class=\"sk-label sk-toggleable\"><input class=\"sk-toggleable__control sk-hidden--visually\" id=\"sk-estimator-id-21\" type=\"checkbox\" ><label for=\"sk-estimator-id-21\" class=\"sk-toggleable__label sk-toggleable__label-arrow\">estimator: SVR</label><div class=\"sk-toggleable__content\"><pre>SVR()</pre></div></div></div><div class=\"sk-serial\"><div class=\"sk-item\"><div class=\"sk-estimator sk-toggleable\"><input class=\"sk-toggleable__control sk-hidden--visually\" id=\"sk-estimator-id-22\" type=\"checkbox\" ><label for=\"sk-estimator-id-22\" class=\"sk-toggleable__label sk-toggleable__label-arrow\">SVR</label><div class=\"sk-toggleable__content\"><pre>SVR()</pre></div></div></div></div></div></div></div></div></div></div>"
      ],
      "text/plain": [
       "GridSearchCV(estimator=SVR(), n_jobs=-1,\n",
       "             param_grid=[{'C': array([0.01, 0.1 , 1.  ]), 'degree': [2, 3, 4],\n",
       "                          'kernel': ['poly']},\n",
       "                         {'C': array([ 0.01,  0.1 ,  1.  , 10.  ]),\n",
       "                          'gamma': ['auto', 'scale', 0.01, 0.1, 1.0],\n",
       "                          'kernel': ['rbf', 'sigmoid']},\n",
       "                         {'C': array([ 0.01,  0.1 ,  1.  , 10.  ]),\n",
       "                          'kernel': ['linear']}],\n",
       "             verbose=1)"
      ]
     },
     "execution_count": 94,
     "metadata": {},
     "output_type": "execute_result"
    }
   ],
   "source": [
    "param_grid_1 = {'kernel' : ['poly'],\n",
    "                'C' : np.logspace(-2,0,3),\n",
    "                'degree' : [2,3,4]}\n",
    "\n",
    "param_grid_2 = {'kernel' : ['rbf', 'sigmoid'],\n",
    "                'C' : np.logspace(-2,1,4),\n",
    "                'gamma' : ['auto', 'scale'] + list(np.logspace(-2,0,3))}\n",
    "\n",
    "param_grid_3 = {'kernel' : ['linear'],\n",
    "                'C' : np.logspace(-2,1,4)}\n",
    "\n",
    "model = SVR()\n",
    "\n",
    "clf = GridSearchCV(model, param_grid=[param_grid_1,param_grid_2,param_grid_3], n_jobs=-1, refit=True, verbose=1)\n",
    "\n",
    "clf.fit(np.array(dataset.X).reshape(-1,1), list(dataset.y))"
   ]
  },
  {
   "cell_type": "code",
   "execution_count": 78,
   "id": "5915be66-0c11-4df3-9b03-009ade7117e3",
   "metadata": {},
   "outputs": [],
   "source": [
    "model = clf.best_estimator_"
   ]
  },
  {
   "cell_type": "code",
   "execution_count": 79,
   "id": "5252633a-a7f3-46c1-be08-4d9f0997b228",
   "metadata": {},
   "outputs": [
    {
     "data": {
      "image/png": "[encoded data removed]",
      "text/plain": [
       "<Figure size 640x480 with 1 Axes>"
      ]
     },
     "metadata": {},
     "output_type": "display_data"
    }
   ],
   "source": [
    "plt.plot(X_test2_g[0], model.predict(X_test2_g[0].reshape(-1,1)), color=\"blue\", label=\"learnt f.\")\n",
    "plt.plot(X_test2_g[1], model.predict(X_test2_g[1].reshape(-1,1)), color=\"blue\")\n",
    "plt.plot(X_test2_g[2], model.predict(X_test2_g[2].reshape(-1,1)), color=\"blue\")\n",
    "\n",
    "plt.plot(X_test2_g[0], gaussian(X_test2_g[0], np.var(X_test)), color=\"red\", label=\"original f.\")\n",
    "plt.plot(X_test2_g[1], gaussian(X_test2_g[1], np.var(X_test)), color=\"red\")\n",
    "plt.plot(X_test2_g[2], gaussian(X_test2_g[2], np.var(X_test)), color=\"red\")\n",
    "\n",
    "plt.legend(loc=\"upper right\")\n",
    "\n",
    "plt.show()"
   ]
  },
  {
   "cell_type": "code",
   "execution_count": 80,
   "id": "f6bf9c04-a4eb-4da9-ab57-5fbbc7c9bca1",
   "metadata": {},
   "outputs": [
    {
     "data": {
      "text/plain": [
       "0.06763537651071772"
      ]
     },
     "execution_count": 80,
     "metadata": {},
     "output_type": "execute_result"
    }
   ],
   "source": [
    "err = np.sum(step*np.abs(model.predict(X_test.reshape(-1,1)) - gaussian(X_test, np.var(X_test))))\n",
    "err"
   ]
  },
  {
   "cell_type": "code",
   "execution_count": 81,
   "id": "a69e1f1d-048b-4333-9587-c485f6271c43",
   "metadata": {},
   "outputs": [],
   "source": [
    "logger.info(log_model(model=model, score=err, dataset='gaussian', serialize=True))"
   ]
  },
  {
   "cell_type": "markdown",
   "id": "01b784e8-6898-4bcd-863d-0711b391b581",
   "metadata": {},
   "source": [
    "### Trapezoidal"
   ]
  },
  {
   "cell_type": "code",
   "execution_count": 4,
   "id": "281989b4-e10c-42e2-a8dc-c347322bc59c",
   "metadata": {},
   "outputs": [],
   "source": [
    "dataset = pd.read_csv(\"datasets/synthetic_datasets/trapezoidal.csv\").drop('Unnamed: 0', axis=1)"
   ]
  },
  {
   "cell_type": "code",
   "execution_count": 11,
   "id": "ed280c06-d636-4b3a-aaa5-b2dfe72557f6",
   "metadata": {
    "scrolled": true
   },
   "outputs": [
    {
     "name": "stdout",
     "output_type": "stream",
     "text": [
      "Fitting 5 folds for each of 50 candidates, totalling 250 fits\n"
     ]
    },
    {
     "name": "stderr",
     "output_type": "stream",
     "text": [
      "/home/matteo/miniconda3/envs/testing_env/lib/python3.11/site-packages/sklearn/svm/_base.py:299: ConvergenceWarning: Solver terminated early (max_iter=1000000).  Consider pre-processing your data with StandardScaler or MinMaxScaler.\n",
      "  warnings.warn(\n"
     ]
    },
    {
     "data": {
      "text/html": [
       "<style>#sk-container-id-6 {color: black;background-color: white;}#sk-container-id-6 pre{padding: 0;}#sk-container-id-6 div.sk-toggleable {background-color: white;}#sk-container-id-6 label.sk-toggleable__label {cursor: pointer;display: block;width: 100%;margin-bottom: 0;padding: 0.3em;box-sizing: border-box;text-align: center;}#sk-container-id-6 label.sk-toggleable__label-arrow:before {content: \"▸\";float: left;margin-right: 0.25em;color: #696969;}#sk-container-id-6 label.sk-toggleable__label-arrow:hover:before {color: black;}#sk-container-id-6 div.sk-estimator:hover label.sk-toggleable__label-arrow:before {color: black;}#sk-container-id-6 div.sk-toggleable__content {max-height: 0;max-width: 0;overflow: hidden;text-align: left;background-color: #f0f8ff;}#sk-container-id-6 div.sk-toggleable__content pre {margin: 0.2em;color: black;border-radius: 0.25em;background-color: #f0f8ff;}#sk-container-id-6 input.sk-toggleable__control:checked~div.sk-toggleable__content {max-height: 200px;max-width: 100%;overflow: auto;}#sk-container-id-6 input.sk-toggleable__control:checked~label.sk-toggleable__label-arrow:before {content: \"▾\";}#sk-container-id-6 div.sk-estimator input.sk-toggleable__control:checked~label.sk-toggleable__label {background-color: #d4ebff;}#sk-container-id-6 div.sk-label input.sk-toggleable__control:checked~label.sk-toggleable__label {background-color: #d4ebff;}#sk-container-id-6 input.sk-hidden--visually {border: 0;clip: rect(1px 1px 1px 1px);clip: rect(1px, 1px, 1px, 1px);height: 1px;margin: -1px;overflow: hidden;padding: 0;position: absolute;width: 1px;}#sk-container-id-6 div.sk-estimator {font-family: monospace;background-color: #f0f8ff;border: 1px dotted black;border-radius: 0.25em;box-sizing: border-box;margin-bottom: 0.5em;}#sk-container-id-6 div.sk-estimator:hover {background-color: #d4ebff;}#sk-container-id-6 div.sk-parallel-item::after {content: \"\";width: 100%;border-bottom: 1px solid gray;flex-grow: 1;}#sk-container-id-6 div.sk-label:hover label.sk-toggleable__label {background-color: #d4ebff;}#sk-container-id-6 div.sk-serial::before {content: \"\";position: absolute;border-left: 1px solid gray;box-sizing: border-box;top: 0;bottom: 0;left: 50%;z-index: 0;}#sk-container-id-6 div.sk-serial {display: flex;flex-direction: column;align-items: center;background-color: white;padding-right: 0.2em;padding-left: 0.2em;position: relative;}#sk-container-id-6 div.sk-item {position: relative;z-index: 1;}#sk-container-id-6 div.sk-parallel {display: flex;align-items: stretch;justify-content: center;background-color: white;position: relative;}#sk-container-id-6 div.sk-item::before, #sk-container-id-6 div.sk-parallel-item::before {content: \"\";position: absolute;border-left: 1px solid gray;box-sizing: border-box;top: 0;bottom: 0;left: 50%;z-index: -1;}#sk-container-id-6 div.sk-parallel-item {display: flex;flex-direction: column;z-index: 1;position: relative;background-color: white;}#sk-container-id-6 div.sk-parallel-item:first-child::after {align-self: flex-end;width: 50%;}#sk-container-id-6 div.sk-parallel-item:last-child::after {align-self: flex-start;width: 50%;}#sk-container-id-6 div.sk-parallel-item:only-child::after {width: 0;}#sk-container-id-6 div.sk-dashed-wrapped {border: 1px dashed gray;margin: 0 0.4em 0.5em 0.4em;box-sizing: border-box;padding-bottom: 0.4em;background-color: white;}#sk-container-id-6 div.sk-label label {font-family: monospace;font-weight: bold;display: inline-block;line-height: 1.2em;}#sk-container-id-6 div.sk-label-container {text-align: center;}#sk-container-id-6 div.sk-container {/* jupyter's `normalize.less` sets `[hidden] { display: none; }` but bootstrap.min.css set `[hidden] { display: none !important; }` so we also need the `!important` here to be able to override the default hidden behavior on the sphinx rendered scikit-learn.org. See: https://github.com/scikit-learn/scikit-learn/issues/21755 */display: inline-block !important;position: relative;}#sk-container-id-6 div.sk-text-repr-fallback {display: none;}</style><div id=\"sk-container-id-6\" class=\"sk-top-container\"><div class=\"sk-text-repr-fallback\"><pre>GridSearchCV(estimator=SVR(max_iter=1000000), n_jobs=-1,\n",
       "             param_grid=[{&#x27;C&#x27;: array([0.01, 0.1 , 1.  ]), &#x27;degree&#x27;: [2, 3],\n",
       "                          &#x27;kernel&#x27;: [&#x27;poly&#x27;]},\n",
       "                         {&#x27;C&#x27;: array([ 0.01,  0.1 ,  1.  , 10.  ]),\n",
       "                          &#x27;gamma&#x27;: [&#x27;auto&#x27;, &#x27;scale&#x27;, 0.01, 0.1, 1.0],\n",
       "                          &#x27;kernel&#x27;: [&#x27;rbf&#x27;, &#x27;sigmoid&#x27;]},\n",
       "                         {&#x27;C&#x27;: array([ 0.01,  0.1 ,  1.  , 10.  ]),\n",
       "                          &#x27;kernel&#x27;: [&#x27;linear&#x27;]}],\n",
       "             verbose=1)</pre><b>In a Jupyter environment, please rerun this cell to show the HTML representation or trust the notebook. <br />On GitHub, the HTML representation is unable to render, please try loading this page with nbviewer.org.</b></div><div class=\"sk-container\" hidden><div class=\"sk-item sk-dashed-wrapped\"><div class=\"sk-label-container\"><div class=\"sk-label sk-toggleable\"><input class=\"sk-toggleable__control sk-hidden--visually\" id=\"sk-estimator-id-16\" type=\"checkbox\" ><label for=\"sk-estimator-id-16\" class=\"sk-toggleable__label sk-toggleable__label-arrow\">GridSearchCV</label><div class=\"sk-toggleable__content\"><pre>GridSearchCV(estimator=SVR(max_iter=1000000), n_jobs=-1,\n",
       "             param_grid=[{&#x27;C&#x27;: array([0.01, 0.1 , 1.  ]), &#x27;degree&#x27;: [2, 3],\n",
       "                          &#x27;kernel&#x27;: [&#x27;poly&#x27;]},\n",
       "                         {&#x27;C&#x27;: array([ 0.01,  0.1 ,  1.  , 10.  ]),\n",
       "                          &#x27;gamma&#x27;: [&#x27;auto&#x27;, &#x27;scale&#x27;, 0.01, 0.1, 1.0],\n",
       "                          &#x27;kernel&#x27;: [&#x27;rbf&#x27;, &#x27;sigmoid&#x27;]},\n",
       "                         {&#x27;C&#x27;: array([ 0.01,  0.1 ,  1.  , 10.  ]),\n",
       "                          &#x27;kernel&#x27;: [&#x27;linear&#x27;]}],\n",
       "             verbose=1)</pre></div></div></div><div class=\"sk-parallel\"><div class=\"sk-parallel-item\"><div class=\"sk-item\"><div class=\"sk-label-container\"><div class=\"sk-label sk-toggleable\"><input class=\"sk-toggleable__control sk-hidden--visually\" id=\"sk-estimator-id-17\" type=\"checkbox\" ><label for=\"sk-estimator-id-17\" class=\"sk-toggleable__label sk-toggleable__label-arrow\">estimator: SVR</label><div class=\"sk-toggleable__content\"><pre>SVR(max_iter=1000000)</pre></div></div></div><div class=\"sk-serial\"><div class=\"sk-item\"><div class=\"sk-estimator sk-toggleable\"><input class=\"sk-toggleable__control sk-hidden--visually\" id=\"sk-estimator-id-18\" type=\"checkbox\" ><label for=\"sk-estimator-id-18\" class=\"sk-toggleable__label sk-toggleable__label-arrow\">SVR</label><div class=\"sk-toggleable__content\"><pre>SVR(max_iter=1000000)</pre></div></div></div></div></div></div></div></div></div></div>"
      ],
      "text/plain": [
       "GridSearchCV(estimator=SVR(max_iter=1000000), n_jobs=-1,\n",
       "             param_grid=[{'C': array([0.01, 0.1 , 1.  ]), 'degree': [2, 3],\n",
       "                          'kernel': ['poly']},\n",
       "                         {'C': array([ 0.01,  0.1 ,  1.  , 10.  ]),\n",
       "                          'gamma': ['auto', 'scale', 0.01, 0.1, 1.0],\n",
       "                          'kernel': ['rbf', 'sigmoid']},\n",
       "                         {'C': array([ 0.01,  0.1 ,  1.  , 10.  ]),\n",
       "                          'kernel': ['linear']}],\n",
       "             verbose=1)"
      ]
     },
     "execution_count": 11,
     "metadata": {},
     "output_type": "execute_result"
    }
   ],
   "source": [
    "param_grid_1 = {'kernel' : ['poly'],\n",
    "                'C' : np.logspace(-2,0,3),\n",
    "                'degree' : [2,3]}\n",
    "\n",
    "param_grid_2 = {'kernel' : ['rbf', 'sigmoid'],\n",
    "                'C' : np.logspace(-2,1,4),\n",
    "                'gamma' : ['auto', 'scale'] + list(np.logspace(-2,0,3))}\n",
    "\n",
    "param_grid_3 = {'kernel' : ['linear'],\n",
    "                'C' : np.logspace(-2,1,4)}\n",
    "\n",
    "model = SVR(max_iter=10**6)\n",
    "\n",
    "clf = GridSearchCV(model, param_grid=[param_grid_1, param_grid_2, param_grid_3], n_jobs=-1, refit=True, verbose=1)\n",
    "\n",
    "clf.fit(np.array(dataset.X).reshape(-1,1), list(dataset.y))"
   ]
  },
  {
   "cell_type": "code",
   "execution_count": 12,
   "id": "bfed1ad0-aac7-4b73-83f0-aa2eb1b29001",
   "metadata": {},
   "outputs": [],
   "source": [
    "model = clf.best_estimator_"
   ]
  },
  {
   "cell_type": "code",
   "execution_count": 13,
   "id": "1d252504-803e-4114-b175-5b87ae09f4a8",
   "metadata": {},
   "outputs": [
    {
     "data": {
      "image/png": "[encoded data removed]",
      "text/plain": [
       "<Figure size 640x480 with 1 Axes>"
      ]
     },
     "metadata": {},
     "output_type": "display_data"
    }
   ],
   "source": [
    "plt.plot(X_test2_t[0], model.predict(X_test2_t[0].reshape(-1,1)), color=\"blue\", label=\"learnt f.\")\n",
    "plt.plot(X_test2_t[1], model.predict(X_test2_t[1].reshape(-1,1)), color=\"blue\")\n",
    "plt.plot(X_test2_t[2], model.predict(X_test2_t[2].reshape(-1,1)), color=\"blue\")\n",
    "\n",
    "plt.plot(X_test2_t[0], [trapezoidal(x) for x in X_test2_t[0]], color=\"red\", label=\"original f.\")\n",
    "plt.plot(X_test2_t[1], [trapezoidal(x) for x in X_test2_t[1]], color=\"red\")\n",
    "plt.plot(X_test2_t[2], [trapezoidal(x) for x in X_test2_t[2]], color=\"red\")\n",
    "\n",
    "plt.legend(loc=\"upper right\")\n",
    "\n",
    "plt.show()"
   ]
  },
  {
   "cell_type": "code",
   "execution_count": 14,
   "id": "606bbfe2-5bc8-4db4-a287-03e6b25c2d89",
   "metadata": {},
   "outputs": [
    {
     "data": {
      "text/plain": [
       "0.05804809373314501"
      ]
     },
     "execution_count": 14,
     "metadata": {},
     "output_type": "execute_result"
    }
   ],
   "source": [
    "err = np.sum(step*np.abs(model.predict(X_test.reshape(-1,1)) - [trapezoidal(x) for x in X_test]))\n",
    "err"
   ]
  },
  {
   "cell_type": "code",
   "execution_count": 15,
   "id": "d8fcf716-84f6-4778-b293-48ff7e8b808d",
   "metadata": {},
   "outputs": [],
   "source": [
    "logger.info(log_model(model=model, score=err, dataset='trapezoidal', serialize=True))"
   ]
  },
  {
   "cell_type": "markdown",
   "id": "51b2a6d0-65f5-4630-a5a2-c572299b5b64",
   "metadata": {},
   "source": [
    "## Breast cancer"
   ]
  },
  {
   "cell_type": "code",
   "execution_count": 5,
   "id": "9b4e6450-60bd-4e2a-b6b8-b0e50d60dd0d",
   "metadata": {},
   "outputs": [],
   "source": [
    "dataset_bc = load_breast_cancer()"
   ]
  },
  {
   "cell_type": "code",
   "execution_count": 6,
   "id": "c7a2f079-564f-40e8-8200-56f65bce597f",
   "metadata": {},
   "outputs": [
    {
     "name": "stderr",
     "output_type": "stream",
     "text": [
      "5it [00:32,  6.43s/it]\n"
     ]
    }
   ],
   "source": [
    "outer_cv_scores = []\n",
    "outer_cv_params = []\n",
    "inner_cv = StratifiedKFold(n_splits=5)\n",
    "outer_cv = StratifiedKFold(n_splits=5)\n",
    "best_models = []\n",
    "\n",
    "model = SVC()\n",
    "\n",
    "param_grid_1 = {'kernel' : ['poly'],\n",
    "                'C' : np.logspace(-2,0,3),\n",
    "                'degree' : [2,3,4]}\n",
    "\n",
    "param_grid_2 = {'kernel' : ['rbf', 'sigmoid'],\n",
    "                'C' : np.logspace(-2,1,4),\n",
    "                'gamma' : ['auto', 'scale'] + list(np.logspace(-2,0,3))}\n",
    "\n",
    "param_grid_3 = {'kernel' : ['linear'],\n",
    "                'C' : np.logspace(-2,1,4)}\n",
    "\n",
    "for train, test in tqdm.tqdm(outer_cv.split(dataset_bc.data, dataset_bc.target)):\n",
    "\n",
    "    clf = GridSearchCV(estimator=model, param_grid=[param_grid_1, \n",
    "                                                    param_grid_2, \n",
    "                                                    param_grid_3], \n",
    "                       cv=inner_cv, n_jobs=-1, verbose=0, refit=True)\n",
    "    \n",
    "    clf.fit(dataset_bc.data[train], dataset_bc.target[train])\n",
    "\n",
    "    m = clf.best_estimator_\n",
    "\n",
    "    outer_cv_params.append(m.__repr__())\n",
    "    acc_score = accuracy_score(y_pred=m.predict(dataset_bc.data[test]), y_true=dataset_bc.target[test])\n",
    "    outer_cv_scores.append(acc_score)\n",
    "    best_models.append((m, acc_score))\n",
    "\n",
    "\n",
    "score = [np.mean(outer_cv_scores), np.std(outer_cv_scores)]\n",
    "best_models = sorted(best_models, key=lambda x:x[1], reverse=True)"
   ]
  },
  {
   "cell_type": "code",
   "execution_count": 7,
   "id": "bae42181-f30a-4f53-a840-95e3120652d8",
   "metadata": {},
   "outputs": [
    {
     "data": {
      "text/plain": [
       "[0.9455519329296692, 0.020249767815305863]"
      ]
     },
     "execution_count": 7,
     "metadata": {},
     "output_type": "execute_result"
    }
   ],
   "source": [
    "score"
   ]
  },
  {
   "cell_type": "code",
   "execution_count": 8,
   "id": "9920abe3-a05d-4d86-9f86-7726650edc96",
   "metadata": {},
   "outputs": [
    {
     "data": {
      "text/plain": [
       "[0.9385964912280702,\n",
       " 0.9298245614035088,\n",
       " 0.9736842105263158,\n",
       " 0.9210526315789473,\n",
       " 0.9646017699115044]"
      ]
     },
     "execution_count": 8,
     "metadata": {},
     "output_type": "execute_result"
    }
   ],
   "source": [
    "outer_cv_scores"
   ]
  },
  {
   "cell_type": "code",
   "execution_count": 9,
   "id": "516839bf-1fe2-4f3a-86d7-7fb32caea2d0",
   "metadata": {},
   "outputs": [
    {
     "data": {
      "text/plain": [
       "[\"SVC(C=0.1, kernel='linear')\",\n",
       " \"SVC(kernel='linear')\",\n",
       " \"SVC(C=10.0, kernel='linear')\",\n",
       " \"SVC(kernel='linear')\",\n",
       " \"SVC(C=10.0, kernel='linear')\"]"
      ]
     },
     "execution_count": 9,
     "metadata": {},
     "output_type": "execute_result"
    }
   ],
   "source": [
    "outer_cv_params"
   ]
  },
  {
   "cell_type": "code",
   "execution_count": 10,
   "id": "6c3a039d-43fe-4314-8bca-a814161deeb2",
   "metadata": {},
   "outputs": [
    {
     "data": {
      "text/plain": [
       "[(SVC(C=10.0, kernel='linear'), 0.9736842105263158),\n",
       " (SVC(C=10.0, kernel='linear'), 0.9646017699115044),\n",
       " (SVC(C=0.1, kernel='linear'), 0.9385964912280702),\n",
       " (SVC(kernel='linear'), 0.9298245614035088),\n",
       " (SVC(kernel='linear'), 0.9210526315789473)]"
      ]
     },
     "execution_count": 10,
     "metadata": {},
     "output_type": "execute_result"
    }
   ],
   "source": [
    "best_models"
   ]
  },
  {
   "cell_type": "code",
   "execution_count": 11,
   "id": "0a27335d-7603-42db-84f4-07555fc5388b",
   "metadata": {},
   "outputs": [],
   "source": [
    "logger.info(log_model(model=best_models, model_name='SVM', acc=score[0], std=score[1], dataset='breast_cancer', serialize=True))"
   ]
  },
  {
   "cell_type": "code",
   "execution_count": 92,
   "id": "65c2b434-a6a9-4fd2-8c3a-9ec14cd6a485",
   "metadata": {},
   "outputs": [],
   "source": [
    "X_train, X_test, y_train, y_test = train_test_split(dataset_bc.data, dataset_bc.target, random_state=42)"
   ]
  },
  {
   "cell_type": "code",
   "execution_count": 93,
   "id": "55d6bc49-47eb-45e4-8ea2-9017e7ddfc8a",
   "metadata": {},
   "outputs": [],
   "source": [
    "model = SVC(kernel='linear')"
   ]
  },
  {
   "cell_type": "code",
   "execution_count": 94,
   "id": "5041c3fb-87f0-47c3-8c1e-1c86b32ff1ae",
   "metadata": {},
   "outputs": [
    {
     "data": {
      "text/html": [
       "<style>#sk-container-id-5 {color: black;background-color: white;}#sk-container-id-5 pre{padding: 0;}#sk-container-id-5 div.sk-toggleable {background-color: white;}#sk-container-id-5 label.sk-toggleable__label {cursor: pointer;display: block;width: 100%;margin-bottom: 0;padding: 0.3em;box-sizing: border-box;text-align: center;}#sk-container-id-5 label.sk-toggleable__label-arrow:before {content: \"▸\";float: left;margin-right: 0.25em;color: #696969;}#sk-container-id-5 label.sk-toggleable__label-arrow:hover:before {color: black;}#sk-container-id-5 div.sk-estimator:hover label.sk-toggleable__label-arrow:before {color: black;}#sk-container-id-5 div.sk-toggleable__content {max-height: 0;max-width: 0;overflow: hidden;text-align: left;background-color: #f0f8ff;}#sk-container-id-5 div.sk-toggleable__content pre {margin: 0.2em;color: black;border-radius: 0.25em;background-color: #f0f8ff;}#sk-container-id-5 input.sk-toggleable__control:checked~div.sk-toggleable__content {max-height: 200px;max-width: 100%;overflow: auto;}#sk-container-id-5 input.sk-toggleable__control:checked~label.sk-toggleable__label-arrow:before {content: \"▾\";}#sk-container-id-5 div.sk-estimator input.sk-toggleable__control:checked~label.sk-toggleable__label {background-color: #d4ebff;}#sk-container-id-5 div.sk-label input.sk-toggleable__control:checked~label.sk-toggleable__label {background-color: #d4ebff;}#sk-container-id-5 input.sk-hidden--visually {border: 0;clip: rect(1px 1px 1px 1px);clip: rect(1px, 1px, 1px, 1px);height: 1px;margin: -1px;overflow: hidden;padding: 0;position: absolute;width: 1px;}#sk-container-id-5 div.sk-estimator {font-family: monospace;background-color: #f0f8ff;border: 1px dotted black;border-radius: 0.25em;box-sizing: border-box;margin-bottom: 0.5em;}#sk-container-id-5 div.sk-estimator:hover {background-color: #d4ebff;}#sk-container-id-5 div.sk-parallel-item::after {content: \"\";width: 100%;border-bottom: 1px solid gray;flex-grow: 1;}#sk-container-id-5 div.sk-label:hover label.sk-toggleable__label {background-color: #d4ebff;}#sk-container-id-5 div.sk-serial::before {content: \"\";position: absolute;border-left: 1px solid gray;box-sizing: border-box;top: 0;bottom: 0;left: 50%;z-index: 0;}#sk-container-id-5 div.sk-serial {display: flex;flex-direction: column;align-items: center;background-color: white;padding-right: 0.2em;padding-left: 0.2em;position: relative;}#sk-container-id-5 div.sk-item {position: relative;z-index: 1;}#sk-container-id-5 div.sk-parallel {display: flex;align-items: stretch;justify-content: center;background-color: white;position: relative;}#sk-container-id-5 div.sk-item::before, #sk-container-id-5 div.sk-parallel-item::before {content: \"\";position: absolute;border-left: 1px solid gray;box-sizing: border-box;top: 0;bottom: 0;left: 50%;z-index: -1;}#sk-container-id-5 div.sk-parallel-item {display: flex;flex-direction: column;z-index: 1;position: relative;background-color: white;}#sk-container-id-5 div.sk-parallel-item:first-child::after {align-self: flex-end;width: 50%;}#sk-container-id-5 div.sk-parallel-item:last-child::after {align-self: flex-start;width: 50%;}#sk-container-id-5 div.sk-parallel-item:only-child::after {width: 0;}#sk-container-id-5 div.sk-dashed-wrapped {border: 1px dashed gray;margin: 0 0.4em 0.5em 0.4em;box-sizing: border-box;padding-bottom: 0.4em;background-color: white;}#sk-container-id-5 div.sk-label label {font-family: monospace;font-weight: bold;display: inline-block;line-height: 1.2em;}#sk-container-id-5 div.sk-label-container {text-align: center;}#sk-container-id-5 div.sk-container {/* jupyter's `normalize.less` sets `[hidden] { display: none; }` but bootstrap.min.css set `[hidden] { display: none !important; }` so we also need the `!important` here to be able to override the default hidden behavior on the sphinx rendered scikit-learn.org. See: https://github.com/scikit-learn/scikit-learn/issues/21755 */display: inline-block !important;position: relative;}#sk-container-id-5 div.sk-text-repr-fallback {display: none;}</style><div id=\"sk-container-id-5\" class=\"sk-top-container\"><div class=\"sk-text-repr-fallback\"><pre>SVC(kernel=&#x27;linear&#x27;)</pre><b>In a Jupyter environment, please rerun this cell to show the HTML representation or trust the notebook. <br />On GitHub, the HTML representation is unable to render, please try loading this page with nbviewer.org.</b></div><div class=\"sk-container\" hidden><div class=\"sk-item\"><div class=\"sk-estimator sk-toggleable\"><input class=\"sk-toggleable__control sk-hidden--visually\" id=\"sk-estimator-id-5\" type=\"checkbox\" checked><label for=\"sk-estimator-id-5\" class=\"sk-toggleable__label sk-toggleable__label-arrow\">SVC</label><div class=\"sk-toggleable__content\"><pre>SVC(kernel=&#x27;linear&#x27;)</pre></div></div></div></div></div>"
      ],
      "text/plain": [
       "SVC(kernel='linear')"
      ]
     },
     "execution_count": 94,
     "metadata": {},
     "output_type": "execute_result"
    }
   ],
   "source": [
    "model.fit(X_train, y_train)"
   ]
  },
  {
   "cell_type": "code",
   "execution_count": 95,
   "id": "57fdc5f1-19ea-42ad-87b1-ec82bfe9f114",
   "metadata": {},
   "outputs": [
    {
     "data": {
      "text/plain": [
       "0.958041958041958"
      ]
     },
     "execution_count": 95,
     "metadata": {},
     "output_type": "execute_result"
    }
   ],
   "source": [
    "model.score(X_test, y_test)"
   ]
  },
  {
   "cell_type": "code",
   "execution_count": 96,
   "id": "bf79b3aa-b158-403e-b991-56772d878d1f",
   "metadata": {},
   "outputs": [],
   "source": [
    "res = model.predict(X_test)"
   ]
  },
  {
   "cell_type": "code",
   "execution_count": 97,
   "id": "eb13945c-827a-4122-b679-c3bdbdaae62c",
   "metadata": {},
   "outputs": [],
   "source": [
    "wrong_classified = []"
   ]
  },
  {
   "cell_type": "code",
   "execution_count": 98,
   "id": "459e3afb-5c20-4edc-9b2e-9077ccfe3551",
   "metadata": {
    "scrolled": true
   },
   "outputs": [],
   "source": [
    "for i in range(len(X_test)):\n",
    "    if res[i] != y_test[i]:\n",
    "        wrong_classified.append(i)"
   ]
  },
  {
   "cell_type": "code",
   "execution_count": 99,
   "id": "18a336ca-1168-48d4-9ea6-a78882cff2d5",
   "metadata": {
    "scrolled": true
   },
   "outputs": [
    {
     "data": {
      "text/plain": [
       "[20, 58, 77, 82, 112, 120]"
      ]
     },
     "execution_count": 99,
     "metadata": {},
     "output_type": "execute_result"
    }
   ],
   "source": [
    "wrong_classified"
   ]
  },
  {
   "cell_type": "markdown",
   "id": "1e56a42f-ccad-4443-9fb8-9b4d6b208863",
   "metadata": {},
   "source": [
    "## MNIST"
   ]
  },
  {
   "cell_type": "code",
   "execution_count": 72,
   "id": "3264d2c8-7375-4493-807f-78944426493f",
   "metadata": {},
   "outputs": [],
   "source": [
    "dataset = pd.read_json(f'datasets/MNIST/digit-{digit}/mnist_full.json')"
   ]
  },
  {
   "cell_type": "code",
   "execution_count": 77,
   "id": "55789d90-c632-4483-9a31-fd4977fac945",
   "metadata": {},
   "outputs": [],
   "source": [
    "X_train = np.array(dataset.X_train.dropna().to_list())\n",
    "y_train = np.array(dataset.y_train.dropna().to_list())\n",
    "X_test = np.array(dataset.X_test.to_list())\n",
    "y_test = np.array(dataset.y_test.to_list())"
   ]
  },
  {
   "cell_type": "code",
   "execution_count": 78,
   "id": "8694828b-183e-4a04-a70a-339cb01349e1",
   "metadata": {},
   "outputs": [
    {
     "name": "stderr",
     "output_type": "stream",
     "text": [
      "5it [01:55, 23.20s/it]\n"
     ]
    }
   ],
   "source": [
    "outer_cv_scores = []\n",
    "outer_cv_params = []\n",
    "inner_cv = StratifiedKFold(n_splits=5)\n",
    "outer_cv = StratifiedKFold(n_splits=5)\n",
    "best_models = []\n",
    "\n",
    "model = SVC()\n",
    "\n",
    "param_grid_1 = {'kernel' : ['poly'],\n",
    "                'C' : np.logspace(-2,0,3),\n",
    "                'degree' : [2,3,4]}\n",
    "\n",
    "param_grid_2 = {'kernel' : ['rbf', 'sigmoid'],\n",
    "                'C' : np.logspace(-2,1,4),\n",
    "                'gamma' : ['auto', 'scale'] + list(np.logspace(-2,0,3))}\n",
    "\n",
    "param_grid_3 = {'kernel' : ['linear'],\n",
    "                'C' : np.logspace(-2,1,4)}\n",
    "\n",
    "for train, test in tqdm.tqdm(outer_cv.split(X_train, y_train)):\n",
    "\n",
    "    clf = GridSearchCV(estimator=model, param_grid=[param_grid_1, \n",
    "                                                    param_grid_2, \n",
    "                                                    param_grid_3], \n",
    "                       cv=inner_cv, n_jobs=-1, verbose=0, refit=True)\n",
    "    \n",
    "    clf.fit(X_train[train], y_train[train])\n",
    "\n",
    "    m = clf.best_estimator_\n",
    "\n",
    "    outer_cv_params.append(m.__repr__())\n",
    "    acc_score = accuracy_score(y_pred=m.predict(X_train[test]), y_true=y_train[test])\n",
    "    outer_cv_scores.append(acc_score)\n",
    "    best_models.append((m, acc_score))\n",
    "\n",
    "\n",
    "score = [np.mean(outer_cv_scores), np.std(outer_cv_scores)]\n",
    "best_models = sorted(best_models, key=lambda x:x[1], reverse=True)"
   ]
  },
  {
   "cell_type": "code",
   "execution_count": 79,
   "id": "d03022fb-0499-4b49-8e90-a6da1366562f",
   "metadata": {},
   "outputs": [
    {
     "data": {
      "text/plain": [
       "[0.959, 0.013928388277184131]"
      ]
     },
     "execution_count": 79,
     "metadata": {},
     "output_type": "execute_result"
    }
   ],
   "source": [
    "score"
   ]
  },
  {
   "cell_type": "code",
   "execution_count": 80,
   "id": "4d74cfed-8a18-44fe-9bf5-1d3b12fcd105",
   "metadata": {},
   "outputs": [
    {
     "data": {
      "text/plain": [
       "['SVC(C=10.0)', 'SVC(C=10.0)', 'SVC(C=10.0)', 'SVC(C=10.0)', 'SVC(C=10.0)']"
      ]
     },
     "execution_count": 80,
     "metadata": {},
     "output_type": "execute_result"
    }
   ],
   "source": [
    "outer_cv_params"
   ]
  },
  {
   "cell_type": "code",
   "execution_count": 81,
   "id": "e3773084-9848-40ad-86f4-220c553426fd",
   "metadata": {},
   "outputs": [
    {
     "data": {
      "text/plain": [
       "[0.975, 0.945, 0.965, 0.94, 0.97]"
      ]
     },
     "execution_count": 81,
     "metadata": {},
     "output_type": "execute_result"
    }
   ],
   "source": [
    "outer_cv_scores"
   ]
  },
  {
   "cell_type": "code",
   "execution_count": 82,
   "id": "90d8dd27-12e1-4bd9-8568-44534d46227d",
   "metadata": {},
   "outputs": [
    {
     "data": {
      "text/plain": [
       "[(SVC(C=10.0), 0.975),\n",
       " (SVC(C=10.0), 0.97),\n",
       " (SVC(C=10.0), 0.965),\n",
       " (SVC(C=10.0), 0.945),\n",
       " (SVC(C=10.0), 0.94)]"
      ]
     },
     "execution_count": 82,
     "metadata": {},
     "output_type": "execute_result"
    }
   ],
   "source": [
    "best_models"
   ]
  },
  {
   "cell_type": "code",
   "execution_count": 83,
   "id": "45b0da50-7d61-443c-94c7-43421e0cfc92",
   "metadata": {},
   "outputs": [],
   "source": [
    "logger.info(log_model(model=best_models, model_name='SVM', acc=score[0], std=score[1], dataset=f'MNIST_FULL_{digit}', serialize=True))"
   ]
  },
  {
   "cell_type": "code",
   "execution_count": 11,
   "id": "220c769a-1995-41c8-931e-86e66e8043dd",
   "metadata": {},
   "outputs": [],
   "source": [
    "model = SVC(C=10)"
   ]
  },
  {
   "cell_type": "code",
   "execution_count": 12,
   "id": "70b5180c-6e97-43ea-85cc-4d6a681e6db4",
   "metadata": {},
   "outputs": [
    {
     "data": {
      "text/html": [
       "<style>#sk-container-id-1 {color: black;background-color: white;}#sk-container-id-1 pre{padding: 0;}#sk-container-id-1 div.sk-toggleable {background-color: white;}#sk-container-id-1 label.sk-toggleable__label {cursor: pointer;display: block;width: 100%;margin-bottom: 0;padding: 0.3em;box-sizing: border-box;text-align: center;}#sk-container-id-1 label.sk-toggleable__label-arrow:before {content: \"▸\";float: left;margin-right: 0.25em;color: #696969;}#sk-container-id-1 label.sk-toggleable__label-arrow:hover:before {color: black;}#sk-container-id-1 div.sk-estimator:hover label.sk-toggleable__label-arrow:before {color: black;}#sk-container-id-1 div.sk-toggleable__content {max-height: 0;max-width: 0;overflow: hidden;text-align: left;background-color: #f0f8ff;}#sk-container-id-1 div.sk-toggleable__content pre {margin: 0.2em;color: black;border-radius: 0.25em;background-color: #f0f8ff;}#sk-container-id-1 input.sk-toggleable__control:checked~div.sk-toggleable__content {max-height: 200px;max-width: 100%;overflow: auto;}#sk-container-id-1 input.sk-toggleable__control:checked~label.sk-toggleable__label-arrow:before {content: \"▾\";}#sk-container-id-1 div.sk-estimator input.sk-toggleable__control:checked~label.sk-toggleable__label {background-color: #d4ebff;}#sk-container-id-1 div.sk-label input.sk-toggleable__control:checked~label.sk-toggleable__label {background-color: #d4ebff;}#sk-container-id-1 input.sk-hidden--visually {border: 0;clip: rect(1px 1px 1px 1px);clip: rect(1px, 1px, 1px, 1px);height: 1px;margin: -1px;overflow: hidden;padding: 0;position: absolute;width: 1px;}#sk-container-id-1 div.sk-estimator {font-family: monospace;background-color: #f0f8ff;border: 1px dotted black;border-radius: 0.25em;box-sizing: border-box;margin-bottom: 0.5em;}#sk-container-id-1 div.sk-estimator:hover {background-color: #d4ebff;}#sk-container-id-1 div.sk-parallel-item::after {content: \"\";width: 100%;border-bottom: 1px solid gray;flex-grow: 1;}#sk-container-id-1 div.sk-label:hover label.sk-toggleable__label {background-color: #d4ebff;}#sk-container-id-1 div.sk-serial::before {content: \"\";position: absolute;border-left: 1px solid gray;box-sizing: border-box;top: 0;bottom: 0;left: 50%;z-index: 0;}#sk-container-id-1 div.sk-serial {display: flex;flex-direction: column;align-items: center;background-color: white;padding-right: 0.2em;padding-left: 0.2em;position: relative;}#sk-container-id-1 div.sk-item {position: relative;z-index: 1;}#sk-container-id-1 div.sk-parallel {display: flex;align-items: stretch;justify-content: center;background-color: white;position: relative;}#sk-container-id-1 div.sk-item::before, #sk-container-id-1 div.sk-parallel-item::before {content: \"\";position: absolute;border-left: 1px solid gray;box-sizing: border-box;top: 0;bottom: 0;left: 50%;z-index: -1;}#sk-container-id-1 div.sk-parallel-item {display: flex;flex-direction: column;z-index: 1;position: relative;background-color: white;}#sk-container-id-1 div.sk-parallel-item:first-child::after {align-self: flex-end;width: 50%;}#sk-container-id-1 div.sk-parallel-item:last-child::after {align-self: flex-start;width: 50%;}#sk-container-id-1 div.sk-parallel-item:only-child::after {width: 0;}#sk-container-id-1 div.sk-dashed-wrapped {border: 1px dashed gray;margin: 0 0.4em 0.5em 0.4em;box-sizing: border-box;padding-bottom: 0.4em;background-color: white;}#sk-container-id-1 div.sk-label label {font-family: monospace;font-weight: bold;display: inline-block;line-height: 1.2em;}#sk-container-id-1 div.sk-label-container {text-align: center;}#sk-container-id-1 div.sk-container {/* jupyter's `normalize.less` sets `[hidden] { display: none; }` but bootstrap.min.css set `[hidden] { display: none !important; }` so we also need the `!important` here to be able to override the default hidden behavior on the sphinx rendered scikit-learn.org. See: https://github.com/scikit-learn/scikit-learn/issues/21755 */display: inline-block !important;position: relative;}#sk-container-id-1 div.sk-text-repr-fallback {display: none;}</style><div id=\"sk-container-id-1\" class=\"sk-top-container\"><div class=\"sk-text-repr-fallback\"><pre>SVC(C=10)</pre><b>In a Jupyter environment, please rerun this cell to show the HTML representation or trust the notebook. <br />On GitHub, the HTML representation is unable to render, please try loading this page with nbviewer.org.</b></div><div class=\"sk-container\" hidden><div class=\"sk-item\"><div class=\"sk-estimator sk-toggleable\"><input class=\"sk-toggleable__control sk-hidden--visually\" id=\"sk-estimator-id-1\" type=\"checkbox\" checked><label for=\"sk-estimator-id-1\" class=\"sk-toggleable__label sk-toggleable__label-arrow\">SVC</label><div class=\"sk-toggleable__content\"><pre>SVC(C=10)</pre></div></div></div></div></div>"
      ],
      "text/plain": [
       "SVC(C=10)"
      ]
     },
     "execution_count": 12,
     "metadata": {},
     "output_type": "execute_result"
    }
   ],
   "source": [
    "model.fit(X_train, y_train)"
   ]
  },
  {
   "cell_type": "code",
   "execution_count": 13,
   "id": "d81b9b99-97fd-4076-9e9c-4a3ca6fc73ee",
   "metadata": {},
   "outputs": [],
   "source": [
    "res = model.predict(X_test)"
   ]
  },
  {
   "cell_type": "code",
   "execution_count": 14,
   "id": "0d5a78af-2f44-48ae-b558-51d080da1206",
   "metadata": {},
   "outputs": [],
   "source": [
    "wrong_classified = []"
   ]
  },
  {
   "cell_type": "code",
   "execution_count": 15,
   "id": "8b0af3e1-f160-4047-ae33-cd3c9548c326",
   "metadata": {
    "scrolled": true
   },
   "outputs": [],
   "source": [
    "for i in range(len(X_test)):\n",
    "    if res[i] != y_test[i]:\n",
    "        wrong_classified.append(i)"
   ]
  },
  {
   "cell_type": "code",
   "execution_count": 16,
   "id": "dbb5759d-f4c8-4cb5-b803-dd88b8011607",
   "metadata": {
    "scrolled": true
   },
   "outputs": [
    {
     "data": {
      "text/plain": [
       "[33, 40, 81, 94, 97, 104, 137, 161, 162, 272]"
      ]
     },
     "execution_count": 16,
     "metadata": {},
     "output_type": "execute_result"
    }
   ],
   "source": [
    "wrong_classified"
   ]
  },
  {
   "cell_type": "code",
   "execution_count": null,
   "id": "c298c430-114c-4175-a76f-d196835b455c",
   "metadata": {
    "scrolled": true
   },
   "outputs": [],
   "source": [
    "for index in wrong_classified:\n",
    "    arr = X_test[index].reshape(28,28)\n",
    "    img = Image.fromarray(np.uint8(arr) , 'L')\n",
    "    print('Label:', y_test[index])\n",
    "    display(img.resize((200, 200)))\n",
    "    print()"
   ]
  },
  {
   "cell_type": "markdown",
   "id": "ea3659e1-915d-4249-996a-667c36f85ffb",
   "metadata": {},
   "source": [
    "### ResNet50 inputs"
   ]
  },
  {
   "cell_type": "code",
   "execution_count": 80,
   "id": "106b1af2-73e5-46fc-aea2-885536a7d27d",
   "metadata": {},
   "outputs": [],
   "source": [
    "dataset = pd.read_json(f\"./datasets/MNIST/digit-{digit}/mnist_full_cnn.json\")"
   ]
  },
  {
   "cell_type": "code",
   "execution_count": 102,
   "id": "722ce88d-1010-4b59-85fb-d9891cfd5d0c",
   "metadata": {},
   "outputs": [],
   "source": [
    "X_train = np.array(dataset.X_train.dropna().to_list())\n",
    "y_train = np.array(dataset.y_train.dropna().to_list())\n",
    "X_test = np.array(dataset.X_test.to_list())\n",
    "y_test = np.array(dataset.y_test.to_list())"
   ]
  },
  {
   "cell_type": "code",
   "execution_count": 103,
   "id": "ecf8193a-1cd0-4412-856b-146a172cfeec",
   "metadata": {},
   "outputs": [],
   "source": [
    "param_grid_1 = {'kernel' : ['poly'],\n",
    "                'C' : np.logspace(-2,0,3),\n",
    "                'degree' : [2,3,4]}\n",
    "\n",
    "param_grid_2 = {'kernel' : ['rbf', 'sigmoid'],\n",
    "                'C' : np.logspace(-2,1,4),\n",
    "                'gamma' : ['auto', 'scale'] + list(np.logspace(-2,0,3))}\n",
    "\n",
    "param_grid_3 = {'kernel' : ['linear'],\n",
    "                'C' : np.logspace(-2,1,4)}\n",
    "\n",
    "parameters = [param_grid_1, param_grid_2, param_grid_3]"
   ]
  },
  {
   "cell_type": "code",
   "execution_count": 104,
   "id": "8c61ec7f-d773-4aca-a266-7fdaf5897052",
   "metadata": {},
   "outputs": [],
   "source": [
    "model = SVC()"
   ]
  },
  {
   "cell_type": "code",
   "execution_count": 105,
   "id": "29608c32-ed31-429e-9866-ddc9f02c4838",
   "metadata": {
    "scrolled": true
   },
   "outputs": [
    {
     "name": "stderr",
     "output_type": "stream",
     "text": [
      "5it [01:39, 19.96s/it]\n"
     ]
    }
   ],
   "source": [
    "outer_cv_scores = []\n",
    "outer_cv_params = []\n",
    "inner_cv = StratifiedKFold(n_splits=5)\n",
    "outer_cv = StratifiedKFold(n_splits=5)\n",
    "best_models = []\n",
    "\n",
    "for train, test in tqdm.tqdm(outer_cv.split(X_train, y_train)):\n",
    "\n",
    "    clf = GridSearchCV(estimator=model, param_grid=parameters, \n",
    "                       cv=inner_cv, n_jobs=-1, verbose=0, refit=True)\n",
    "    \n",
    "    clf.fit(X_train[train], y_train[train])\n",
    "\n",
    "    m = clf.best_estimator_\n",
    "\n",
    "    outer_cv_params.append(m.__repr__())\n",
    "    acc_score = accuracy_score(y_pred=m.predict(X_train[test]), y_true=y_train[test])\n",
    "    outer_cv_scores.append(accuracy_score(y_pred=m.predict(X_train[test]), y_true=y_train[test]))\n",
    "    best_models.append((m, acc_score))\n",
    "\n",
    "\n",
    "score = [np.mean(outer_cv_scores), np.std(outer_cv_scores)]\n",
    "best_models = sorted(best_models, key=lambda x:x[1], reverse=True)"
   ]
  },
  {
   "cell_type": "code",
   "execution_count": 106,
   "id": "2af231bb-4695-4e5a-b089-8b786d3746dc",
   "metadata": {},
   "outputs": [],
   "source": [
    "logger.info(log_model(model=best_models, model_name='SVM', acc=score[0], std=score[1], dataset=f'MNIST_FULL_CNN_{digit}', serialize=True))"
   ]
  },
  {
   "cell_type": "code",
   "execution_count": 107,
   "id": "443422f7-f157-40d5-8f04-0fa2b2b4cd9f",
   "metadata": {
    "scrolled": true
   },
   "outputs": [
    {
     "data": {
      "text/plain": [
       "[0.942, 0.007483314773547853]"
      ]
     },
     "execution_count": 107,
     "metadata": {},
     "output_type": "execute_result"
    }
   ],
   "source": [
    "score"
   ]
  },
  {
   "cell_type": "code",
   "execution_count": 108,
   "id": "846f37aa-3599-4617-85d9-d7a9304acc78",
   "metadata": {},
   "outputs": [
    {
     "data": {
      "text/plain": [
       "[0.94, 0.94, 0.93, 0.95, 0.95]"
      ]
     },
     "execution_count": 108,
     "metadata": {},
     "output_type": "execute_result"
    }
   ],
   "source": [
    "outer_cv_scores"
   ]
  },
  {
   "cell_type": "code",
   "execution_count": 109,
   "id": "80449aaa-a806-4551-91f1-b057801ba669",
   "metadata": {},
   "outputs": [
    {
     "data": {
      "text/plain": [
       "['SVC(C=10.0)',\n",
       " 'SVC(C=10.0)',\n",
       " \"SVC(C=0.01, kernel='linear')\",\n",
       " 'SVC(C=10.0)',\n",
       " 'SVC(C=10.0)']"
      ]
     },
     "execution_count": 109,
     "metadata": {},
     "output_type": "execute_result"
    }
   ],
   "source": [
    "outer_cv_params"
   ]
  },
  {
   "cell_type": "code",
   "execution_count": 110,
   "id": "e39481b7-e134-4624-8a99-b583f08799fd",
   "metadata": {},
   "outputs": [
    {
     "data": {
      "text/plain": [
       "[(SVC(C=10.0), 0.95),\n",
       " (SVC(C=10.0), 0.95),\n",
       " (SVC(C=10.0), 0.94),\n",
       " (SVC(C=10.0), 0.94),\n",
       " (SVC(C=0.01, kernel='linear'), 0.93)]"
      ]
     },
     "execution_count": 110,
     "metadata": {},
     "output_type": "execute_result"
    }
   ],
   "source": [
    "best_models"
   ]
  },
  {
   "cell_type": "code",
   "execution_count": 74,
   "id": "fd2a83d2-5ec5-4e5d-afd9-d1872aef301f",
   "metadata": {},
   "outputs": [],
   "source": [
    "model = SVC(C=0.1, kernel='linear')"
   ]
  },
  {
   "cell_type": "code",
   "execution_count": 75,
   "id": "35e7e6be-b02e-43a4-951f-1aa9a74bcbcf",
   "metadata": {},
   "outputs": [
    {
     "data": {
      "text/html": [
       "<style>#sk-container-id-4 {color: black;background-color: white;}#sk-container-id-4 pre{padding: 0;}#sk-container-id-4 div.sk-toggleable {background-color: white;}#sk-container-id-4 label.sk-toggleable__label {cursor: pointer;display: block;width: 100%;margin-bottom: 0;padding: 0.3em;box-sizing: border-box;text-align: center;}#sk-container-id-4 label.sk-toggleable__label-arrow:before {content: \"▸\";float: left;margin-right: 0.25em;color: #696969;}#sk-container-id-4 label.sk-toggleable__label-arrow:hover:before {color: black;}#sk-container-id-4 div.sk-estimator:hover label.sk-toggleable__label-arrow:before {color: black;}#sk-container-id-4 div.sk-toggleable__content {max-height: 0;max-width: 0;overflow: hidden;text-align: left;background-color: #f0f8ff;}#sk-container-id-4 div.sk-toggleable__content pre {margin: 0.2em;color: black;border-radius: 0.25em;background-color: #f0f8ff;}#sk-container-id-4 input.sk-toggleable__control:checked~div.sk-toggleable__content {max-height: 200px;max-width: 100%;overflow: auto;}#sk-container-id-4 input.sk-toggleable__control:checked~label.sk-toggleable__label-arrow:before {content: \"▾\";}#sk-container-id-4 div.sk-estimator input.sk-toggleable__control:checked~label.sk-toggleable__label {background-color: #d4ebff;}#sk-container-id-4 div.sk-label input.sk-toggleable__control:checked~label.sk-toggleable__label {background-color: #d4ebff;}#sk-container-id-4 input.sk-hidden--visually {border: 0;clip: rect(1px 1px 1px 1px);clip: rect(1px, 1px, 1px, 1px);height: 1px;margin: -1px;overflow: hidden;padding: 0;position: absolute;width: 1px;}#sk-container-id-4 div.sk-estimator {font-family: monospace;background-color: #f0f8ff;border: 1px dotted black;border-radius: 0.25em;box-sizing: border-box;margin-bottom: 0.5em;}#sk-container-id-4 div.sk-estimator:hover {background-color: #d4ebff;}#sk-container-id-4 div.sk-parallel-item::after {content: \"\";width: 100%;border-bottom: 1px solid gray;flex-grow: 1;}#sk-container-id-4 div.sk-label:hover label.sk-toggleable__label {background-color: #d4ebff;}#sk-container-id-4 div.sk-serial::before {content: \"\";position: absolute;border-left: 1px solid gray;box-sizing: border-box;top: 0;bottom: 0;left: 50%;z-index: 0;}#sk-container-id-4 div.sk-serial {display: flex;flex-direction: column;align-items: center;background-color: white;padding-right: 0.2em;padding-left: 0.2em;position: relative;}#sk-container-id-4 div.sk-item {position: relative;z-index: 1;}#sk-container-id-4 div.sk-parallel {display: flex;align-items: stretch;justify-content: center;background-color: white;position: relative;}#sk-container-id-4 div.sk-item::before, #sk-container-id-4 div.sk-parallel-item::before {content: \"\";position: absolute;border-left: 1px solid gray;box-sizing: border-box;top: 0;bottom: 0;left: 50%;z-index: -1;}#sk-container-id-4 div.sk-parallel-item {display: flex;flex-direction: column;z-index: 1;position: relative;background-color: white;}#sk-container-id-4 div.sk-parallel-item:first-child::after {align-self: flex-end;width: 50%;}#sk-container-id-4 div.sk-parallel-item:last-child::after {align-self: flex-start;width: 50%;}#sk-container-id-4 div.sk-parallel-item:only-child::after {width: 0;}#sk-container-id-4 div.sk-dashed-wrapped {border: 1px dashed gray;margin: 0 0.4em 0.5em 0.4em;box-sizing: border-box;padding-bottom: 0.4em;background-color: white;}#sk-container-id-4 div.sk-label label {font-family: monospace;font-weight: bold;display: inline-block;line-height: 1.2em;}#sk-container-id-4 div.sk-label-container {text-align: center;}#sk-container-id-4 div.sk-container {/* jupyter's `normalize.less` sets `[hidden] { display: none; }` but bootstrap.min.css set `[hidden] { display: none !important; }` so we also need the `!important` here to be able to override the default hidden behavior on the sphinx rendered scikit-learn.org. See: https://github.com/scikit-learn/scikit-learn/issues/21755 */display: inline-block !important;position: relative;}#sk-container-id-4 div.sk-text-repr-fallback {display: none;}</style><div id=\"sk-container-id-4\" class=\"sk-top-container\"><div class=\"sk-text-repr-fallback\"><pre>SVC(C=0.1, kernel=&#x27;linear&#x27;)</pre><b>In a Jupyter environment, please rerun this cell to show the HTML representation or trust the notebook. <br />On GitHub, the HTML representation is unable to render, please try loading this page with nbviewer.org.</b></div><div class=\"sk-container\" hidden><div class=\"sk-item\"><div class=\"sk-estimator sk-toggleable\"><input class=\"sk-toggleable__control sk-hidden--visually\" id=\"sk-estimator-id-4\" type=\"checkbox\" checked><label for=\"sk-estimator-id-4\" class=\"sk-toggleable__label sk-toggleable__label-arrow\">SVC</label><div class=\"sk-toggleable__content\"><pre>SVC(C=0.1, kernel=&#x27;linear&#x27;)</pre></div></div></div></div></div>"
      ],
      "text/plain": [
       "SVC(C=0.1, kernel='linear')"
      ]
     },
     "execution_count": 75,
     "metadata": {},
     "output_type": "execute_result"
    }
   ],
   "source": [
    "model.fit(X_train, y_train)"
   ]
  },
  {
   "cell_type": "code",
   "execution_count": 76,
   "id": "fee3aeef-1888-43e3-be70-5bb085e9d847",
   "metadata": {},
   "outputs": [],
   "source": [
    "res = model.predict(X_test)"
   ]
  },
  {
   "cell_type": "code",
   "execution_count": 77,
   "id": "5145f4b4-ac08-4fad-8961-1a8335c67ec6",
   "metadata": {},
   "outputs": [],
   "source": [
    "wrong_classified = []"
   ]
  },
  {
   "cell_type": "code",
   "execution_count": 78,
   "id": "17e8681e-33e3-40ca-9abb-a1c68ff89e91",
   "metadata": {
    "scrolled": true
   },
   "outputs": [],
   "source": [
    "for i in range(len(X_test)):\n",
    "    if res[i] != y_test[i]:\n",
    "        wrong_classified.append(i)"
   ]
  },
  {
   "cell_type": "code",
   "execution_count": 79,
   "id": "2a497122-dfd2-4df6-b62a-bc2b8cef2c65",
   "metadata": {
    "scrolled": true
   },
   "outputs": [
    {
     "data": {
      "text/plain": [
       "[14,\n",
       " 15,\n",
       " 22,\n",
       " 63,\n",
       " 104,\n",
       " 114,\n",
       " 119,\n",
       " 124,\n",
       " 125,\n",
       " 131,\n",
       " 135,\n",
       " 147,\n",
       " 158,\n",
       " 173,\n",
       " 195,\n",
       " 199,\n",
       " 202,\n",
       " 204,\n",
       " 211,\n",
       " 253,\n",
       " 272,\n",
       " 291]"
      ]
     },
     "execution_count": 79,
     "metadata": {},
     "output_type": "execute_result"
    }
   ],
   "source": [
    "wrong_classified"
   ]
  },
  {
   "cell_type": "code",
   "execution_count": null,
   "id": "24cbfbc3-857f-4e8a-b4b8-c9c0db05b298",
   "metadata": {
    "scrolled": true
   },
   "outputs": [],
   "source": [
    "import numpy as np\n",
    "from PIL import Image\n",
    "\n",
    "for index in wrong_classified:\n",
    "    arr = np.array(pd.read_json('mnist.json').X_test.dropna().to_list())[index].reshape(28,28)\n",
    "    img = Image.fromarray(np.uint8(arr) , 'L')\n",
    "    display(img.resize((200, 200)))"
   ]
  }
 ],
 "metadata": {
  "kernelspec": {
   "display_name": "testing_env",
   "language": "python",
   "name": "testing_env"
  },
  "language_info": {
   "codemirror_mode": {
    "name": "ipython",
    "version": 3
   },
   "file_extension": ".py",
   "mimetype": "text/x-python",
   "name": "python",
   "nbconvert_exporter": "python",
   "pygments_lexer": "ipython3",
   "version": "3.11.5"
  }
 },
 "nbformat": 4,
 "nbformat_minor": 5
}
